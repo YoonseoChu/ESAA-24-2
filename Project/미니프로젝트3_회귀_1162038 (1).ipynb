{
  "nbformat": 4,
  "nbformat_minor": 0,
  "metadata": {
    "colab": {
      "provenance": [],
      "toc_visible": true
    },
    "kernelspec": {
      "name": "python3",
      "display_name": "Python 3"
    },
    "language_info": {
      "name": "python"
    },
    "widgets": {
      "application/vnd.jupyter.widget-state+json": {
        "47b84813c3eb48029e7a11fec8ea8fb7": {
          "model_module": "@jupyter-widgets/controls",
          "model_name": "HBoxModel",
          "model_module_version": "1.5.0",
          "state": {
            "_dom_classes": [],
            "_model_module": "@jupyter-widgets/controls",
            "_model_module_version": "1.5.0",
            "_model_name": "HBoxModel",
            "_view_count": null,
            "_view_module": "@jupyter-widgets/controls",
            "_view_module_version": "1.5.0",
            "_view_name": "HBoxView",
            "box_style": "",
            "children": [
              "IPY_MODEL_0b2953aa14be4196bb8f077808a4a9a3",
              "IPY_MODEL_04540277764b4bdf8ad7c8783922964e",
              "IPY_MODEL_d9f1ef8fab344602a07a5102e114f793"
            ],
            "layout": "IPY_MODEL_b44d07822ab54f4aaa9e852deb92e16e"
          }
        },
        "0b2953aa14be4196bb8f077808a4a9a3": {
          "model_module": "@jupyter-widgets/controls",
          "model_name": "HTMLModel",
          "model_module_version": "1.5.0",
          "state": {
            "_dom_classes": [],
            "_model_module": "@jupyter-widgets/controls",
            "_model_module_version": "1.5.0",
            "_model_name": "HTMLModel",
            "_view_count": null,
            "_view_module": "@jupyter-widgets/controls",
            "_view_module_version": "1.5.0",
            "_view_name": "HTMLView",
            "description": "",
            "description_tooltip": null,
            "layout": "IPY_MODEL_7b7e510d59cb4e25b87b78a86ba8fe12",
            "placeholder": "​",
            "style": "IPY_MODEL_b0ccabd715c94de4a5504404f0e20099",
            "value": "Processing: 100%"
          }
        },
        "04540277764b4bdf8ad7c8783922964e": {
          "model_module": "@jupyter-widgets/controls",
          "model_name": "FloatProgressModel",
          "model_module_version": "1.5.0",
          "state": {
            "_dom_classes": [],
            "_model_module": "@jupyter-widgets/controls",
            "_model_module_version": "1.5.0",
            "_model_name": "FloatProgressModel",
            "_view_count": null,
            "_view_module": "@jupyter-widgets/controls",
            "_view_module_version": "1.5.0",
            "_view_name": "ProgressView",
            "bar_style": "",
            "description": "",
            "description_tooltip": null,
            "layout": "IPY_MODEL_46c74fa27b1e4337b7393698b6c36d66",
            "max": 85,
            "min": 0,
            "orientation": "horizontal",
            "style": "IPY_MODEL_09cdd89cf1104b0a8425ede4182109d2",
            "value": 85
          }
        },
        "d9f1ef8fab344602a07a5102e114f793": {
          "model_module": "@jupyter-widgets/controls",
          "model_name": "HTMLModel",
          "model_module_version": "1.5.0",
          "state": {
            "_dom_classes": [],
            "_model_module": "@jupyter-widgets/controls",
            "_model_module_version": "1.5.0",
            "_model_name": "HTMLModel",
            "_view_count": null,
            "_view_module": "@jupyter-widgets/controls",
            "_view_module_version": "1.5.0",
            "_view_name": "HTMLView",
            "description": "",
            "description_tooltip": null,
            "layout": "IPY_MODEL_84ec342e721a46098ceb7d14e76ff0ce",
            "placeholder": "​",
            "style": "IPY_MODEL_cf51e78c6b074fa29b7eb901e52c2d25",
            "value": " 85/85 [00:22&lt;00:00,  2.32it/s]"
          }
        },
        "b44d07822ab54f4aaa9e852deb92e16e": {
          "model_module": "@jupyter-widgets/base",
          "model_name": "LayoutModel",
          "model_module_version": "1.2.0",
          "state": {
            "_model_module": "@jupyter-widgets/base",
            "_model_module_version": "1.2.0",
            "_model_name": "LayoutModel",
            "_view_count": null,
            "_view_module": "@jupyter-widgets/base",
            "_view_module_version": "1.2.0",
            "_view_name": "LayoutView",
            "align_content": null,
            "align_items": null,
            "align_self": null,
            "border": null,
            "bottom": null,
            "display": null,
            "flex": null,
            "flex_flow": null,
            "grid_area": null,
            "grid_auto_columns": null,
            "grid_auto_flow": null,
            "grid_auto_rows": null,
            "grid_column": null,
            "grid_gap": null,
            "grid_row": null,
            "grid_template_areas": null,
            "grid_template_columns": null,
            "grid_template_rows": null,
            "height": null,
            "justify_content": null,
            "justify_items": null,
            "left": null,
            "margin": null,
            "max_height": null,
            "max_width": null,
            "min_height": null,
            "min_width": null,
            "object_fit": null,
            "object_position": null,
            "order": null,
            "overflow": null,
            "overflow_x": null,
            "overflow_y": null,
            "padding": null,
            "right": null,
            "top": null,
            "visibility": "hidden",
            "width": null
          }
        },
        "7b7e510d59cb4e25b87b78a86ba8fe12": {
          "model_module": "@jupyter-widgets/base",
          "model_name": "LayoutModel",
          "model_module_version": "1.2.0",
          "state": {
            "_model_module": "@jupyter-widgets/base",
            "_model_module_version": "1.2.0",
            "_model_name": "LayoutModel",
            "_view_count": null,
            "_view_module": "@jupyter-widgets/base",
            "_view_module_version": "1.2.0",
            "_view_name": "LayoutView",
            "align_content": null,
            "align_items": null,
            "align_self": null,
            "border": null,
            "bottom": null,
            "display": null,
            "flex": null,
            "flex_flow": null,
            "grid_area": null,
            "grid_auto_columns": null,
            "grid_auto_flow": null,
            "grid_auto_rows": null,
            "grid_column": null,
            "grid_gap": null,
            "grid_row": null,
            "grid_template_areas": null,
            "grid_template_columns": null,
            "grid_template_rows": null,
            "height": null,
            "justify_content": null,
            "justify_items": null,
            "left": null,
            "margin": null,
            "max_height": null,
            "max_width": null,
            "min_height": null,
            "min_width": null,
            "object_fit": null,
            "object_position": null,
            "order": null,
            "overflow": null,
            "overflow_x": null,
            "overflow_y": null,
            "padding": null,
            "right": null,
            "top": null,
            "visibility": null,
            "width": null
          }
        },
        "b0ccabd715c94de4a5504404f0e20099": {
          "model_module": "@jupyter-widgets/controls",
          "model_name": "DescriptionStyleModel",
          "model_module_version": "1.5.0",
          "state": {
            "_model_module": "@jupyter-widgets/controls",
            "_model_module_version": "1.5.0",
            "_model_name": "DescriptionStyleModel",
            "_view_count": null,
            "_view_module": "@jupyter-widgets/base",
            "_view_module_version": "1.2.0",
            "_view_name": "StyleView",
            "description_width": ""
          }
        },
        "46c74fa27b1e4337b7393698b6c36d66": {
          "model_module": "@jupyter-widgets/base",
          "model_name": "LayoutModel",
          "model_module_version": "1.2.0",
          "state": {
            "_model_module": "@jupyter-widgets/base",
            "_model_module_version": "1.2.0",
            "_model_name": "LayoutModel",
            "_view_count": null,
            "_view_module": "@jupyter-widgets/base",
            "_view_module_version": "1.2.0",
            "_view_name": "LayoutView",
            "align_content": null,
            "align_items": null,
            "align_self": null,
            "border": null,
            "bottom": null,
            "display": null,
            "flex": null,
            "flex_flow": null,
            "grid_area": null,
            "grid_auto_columns": null,
            "grid_auto_flow": null,
            "grid_auto_rows": null,
            "grid_column": null,
            "grid_gap": null,
            "grid_row": null,
            "grid_template_areas": null,
            "grid_template_columns": null,
            "grid_template_rows": null,
            "height": null,
            "justify_content": null,
            "justify_items": null,
            "left": null,
            "margin": null,
            "max_height": null,
            "max_width": null,
            "min_height": null,
            "min_width": null,
            "object_fit": null,
            "object_position": null,
            "order": null,
            "overflow": null,
            "overflow_x": null,
            "overflow_y": null,
            "padding": null,
            "right": null,
            "top": null,
            "visibility": null,
            "width": null
          }
        },
        "09cdd89cf1104b0a8425ede4182109d2": {
          "model_module": "@jupyter-widgets/controls",
          "model_name": "ProgressStyleModel",
          "model_module_version": "1.5.0",
          "state": {
            "_model_module": "@jupyter-widgets/controls",
            "_model_module_version": "1.5.0",
            "_model_name": "ProgressStyleModel",
            "_view_count": null,
            "_view_module": "@jupyter-widgets/base",
            "_view_module_version": "1.2.0",
            "_view_name": "StyleView",
            "bar_color": null,
            "description_width": ""
          }
        },
        "84ec342e721a46098ceb7d14e76ff0ce": {
          "model_module": "@jupyter-widgets/base",
          "model_name": "LayoutModel",
          "model_module_version": "1.2.0",
          "state": {
            "_model_module": "@jupyter-widgets/base",
            "_model_module_version": "1.2.0",
            "_model_name": "LayoutModel",
            "_view_count": null,
            "_view_module": "@jupyter-widgets/base",
            "_view_module_version": "1.2.0",
            "_view_name": "LayoutView",
            "align_content": null,
            "align_items": null,
            "align_self": null,
            "border": null,
            "bottom": null,
            "display": null,
            "flex": null,
            "flex_flow": null,
            "grid_area": null,
            "grid_auto_columns": null,
            "grid_auto_flow": null,
            "grid_auto_rows": null,
            "grid_column": null,
            "grid_gap": null,
            "grid_row": null,
            "grid_template_areas": null,
            "grid_template_columns": null,
            "grid_template_rows": null,
            "height": null,
            "justify_content": null,
            "justify_items": null,
            "left": null,
            "margin": null,
            "max_height": null,
            "max_width": null,
            "min_height": null,
            "min_width": null,
            "object_fit": null,
            "object_position": null,
            "order": null,
            "overflow": null,
            "overflow_x": null,
            "overflow_y": null,
            "padding": null,
            "right": null,
            "top": null,
            "visibility": null,
            "width": null
          }
        },
        "cf51e78c6b074fa29b7eb901e52c2d25": {
          "model_module": "@jupyter-widgets/controls",
          "model_name": "DescriptionStyleModel",
          "model_module_version": "1.5.0",
          "state": {
            "_model_module": "@jupyter-widgets/controls",
            "_model_module_version": "1.5.0",
            "_model_name": "DescriptionStyleModel",
            "_view_count": null,
            "_view_module": "@jupyter-widgets/base",
            "_view_module_version": "1.2.0",
            "_view_name": "StyleView",
            "description_width": ""
          }
        }
      }
    }
  },
  "cells": [
    {
      "cell_type": "markdown",
      "source": [
        "# 미니프로젝트3 회귀"
      ],
      "metadata": {
        "id": "dci8xxKAKjqU"
      }
    },
    {
      "cell_type": "markdown",
      "metadata": {
        "id": "q0cR7t3V2xH6"
      },
      "source": [
        "# **1. 라이브러리 및 데이터**\n"
      ]
    },
    {
      "cell_type": "code",
      "metadata": {
        "colab": {
          "base_uri": "https://localhost:8080/"
        },
        "id": "EEphQmlCuSri",
        "outputId": "89cbb492-9204-4a6e-e7fb-30ad932e9de5"
      },
      "source": [
        "# matplotlib 한글 깨짐방지\n",
        "# 아래코드 실행후 '런타임 다시시작' 후 모듈 불러오기\n",
        "# 참고 블로그: https://teddylee777.github.io/colab/colab-korean\n",
        "!sudo apt-get install -y fonts-nanum\n",
        "!sudo fc-cache -fv\n",
        "!rm ~/.cache/matplotlib -rf"
      ],
      "execution_count": null,
      "outputs": [
        {
          "output_type": "stream",
          "name": "stdout",
          "text": [
            "Reading package lists... Done\n",
            "Building dependency tree... Done\n",
            "Reading state information... Done\n",
            "The following NEW packages will be installed:\n",
            "  fonts-nanum\n",
            "0 upgraded, 1 newly installed, 0 to remove and 49 not upgraded.\n",
            "Need to get 10.3 MB of archives.\n",
            "After this operation, 34.1 MB of additional disk space will be used.\n",
            "Get:1 http://archive.ubuntu.com/ubuntu jammy/universe amd64 fonts-nanum all 20200506-1 [10.3 MB]\n",
            "Fetched 10.3 MB in 1s (13.4 MB/s)\n",
            "debconf: unable to initialize frontend: Dialog\n",
            "debconf: (No usable dialog-like program is installed, so the dialog based frontend cannot be used. at /usr/share/perl5/Debconf/FrontEnd/Dialog.pm line 78, <> line 1.)\n",
            "debconf: falling back to frontend: Readline\n",
            "debconf: unable to initialize frontend: Readline\n",
            "debconf: (This frontend requires a controlling tty.)\n",
            "debconf: falling back to frontend: Teletype\n",
            "dpkg-preconfigure: unable to re-open stdin: \n",
            "Selecting previously unselected package fonts-nanum.\n",
            "(Reading database ... 123630 files and directories currently installed.)\n",
            "Preparing to unpack .../fonts-nanum_20200506-1_all.deb ...\n",
            "Unpacking fonts-nanum (20200506-1) ...\n",
            "Setting up fonts-nanum (20200506-1) ...\n",
            "Processing triggers for fontconfig (2.13.1-4.2ubuntu5) ...\n",
            "/usr/share/fonts: caching, new cache contents: 0 fonts, 1 dirs\n",
            "/usr/share/fonts/truetype: caching, new cache contents: 0 fonts, 3 dirs\n",
            "/usr/share/fonts/truetype/humor-sans: caching, new cache contents: 1 fonts, 0 dirs\n",
            "/usr/share/fonts/truetype/liberation: caching, new cache contents: 16 fonts, 0 dirs\n",
            "/usr/share/fonts/truetype/nanum: caching, new cache contents: 12 fonts, 0 dirs\n",
            "/usr/local/share/fonts: caching, new cache contents: 0 fonts, 0 dirs\n",
            "/root/.local/share/fonts: skipping, no such directory\n",
            "/root/.fonts: skipping, no such directory\n",
            "/usr/share/fonts/truetype: skipping, looped directory detected\n",
            "/usr/share/fonts/truetype/humor-sans: skipping, looped directory detected\n",
            "/usr/share/fonts/truetype/liberation: skipping, looped directory detected\n",
            "/usr/share/fonts/truetype/nanum: skipping, looped directory detected\n",
            "/var/cache/fontconfig: cleaning cache directory\n",
            "/root/.cache/fontconfig: not cleaning non-existent cache directory\n",
            "/root/.fontconfig: not cleaning non-existent cache directory\n",
            "fc-cache: succeeded\n"
          ]
        }
      ]
    },
    {
      "cell_type": "code",
      "metadata": {
        "id": "pb0OD3v82lnT"
      },
      "source": [
        "import pandas as pd\n",
        "import numpy as np\n",
        "import seaborn as sns\n",
        "import matplotlib.pyplot as plt\n",
        "plt.rc('font', family='NanumBarunGothic') #matplotlib 한글 깨짐 방지\n",
        "\n",
        "import warnings\n",
        "warnings.filterwarnings(action='ignore')"
      ],
      "execution_count": null,
      "outputs": []
    },
    {
      "cell_type": "code",
      "source": [
        "from google.colab import drive\n",
        "drive.mount('/content/drive')"
      ],
      "metadata": {
        "colab": {
          "base_uri": "https://localhost:8080/",
          "height": 316
        },
        "id": "VoYCWcX1j9i7",
        "outputId": "c9556cb0-d7e2-41c8-cb10-78e7d93c8120"
      },
      "execution_count": null,
      "outputs": [
        {
          "output_type": "error",
          "ename": "MessageError",
          "evalue": "Error: credential propagation was unsuccessful",
          "traceback": [
            "\u001b[0;31m---------------------------------------------------------------------------\u001b[0m",
            "\u001b[0;31mMessageError\u001b[0m                              Traceback (most recent call last)",
            "\u001b[0;32m<ipython-input-3-d5df0069828e>\u001b[0m in \u001b[0;36m<cell line: 2>\u001b[0;34m()\u001b[0m\n\u001b[1;32m      1\u001b[0m \u001b[0;32mfrom\u001b[0m \u001b[0mgoogle\u001b[0m\u001b[0;34m.\u001b[0m\u001b[0mcolab\u001b[0m \u001b[0;32mimport\u001b[0m \u001b[0mdrive\u001b[0m\u001b[0;34m\u001b[0m\u001b[0;34m\u001b[0m\u001b[0m\n\u001b[0;32m----> 2\u001b[0;31m \u001b[0mdrive\u001b[0m\u001b[0;34m.\u001b[0m\u001b[0mmount\u001b[0m\u001b[0;34m(\u001b[0m\u001b[0;34m'/content/drive'\u001b[0m\u001b[0;34m)\u001b[0m\u001b[0;34m\u001b[0m\u001b[0;34m\u001b[0m\u001b[0m\n\u001b[0m",
            "\u001b[0;32m/usr/local/lib/python3.10/dist-packages/google/colab/drive.py\u001b[0m in \u001b[0;36mmount\u001b[0;34m(mountpoint, force_remount, timeout_ms, readonly)\u001b[0m\n\u001b[1;32m     98\u001b[0m \u001b[0;32mdef\u001b[0m \u001b[0mmount\u001b[0m\u001b[0;34m(\u001b[0m\u001b[0mmountpoint\u001b[0m\u001b[0;34m,\u001b[0m \u001b[0mforce_remount\u001b[0m\u001b[0;34m=\u001b[0m\u001b[0;32mFalse\u001b[0m\u001b[0;34m,\u001b[0m \u001b[0mtimeout_ms\u001b[0m\u001b[0;34m=\u001b[0m\u001b[0;36m120000\u001b[0m\u001b[0;34m,\u001b[0m \u001b[0mreadonly\u001b[0m\u001b[0;34m=\u001b[0m\u001b[0;32mFalse\u001b[0m\u001b[0;34m)\u001b[0m\u001b[0;34m:\u001b[0m\u001b[0;34m\u001b[0m\u001b[0;34m\u001b[0m\u001b[0m\n\u001b[1;32m     99\u001b[0m   \u001b[0;34m\"\"\"Mount your Google Drive at the specified mountpoint path.\"\"\"\u001b[0m\u001b[0;34m\u001b[0m\u001b[0;34m\u001b[0m\u001b[0m\n\u001b[0;32m--> 100\u001b[0;31m   return _mount(\n\u001b[0m\u001b[1;32m    101\u001b[0m       \u001b[0mmountpoint\u001b[0m\u001b[0;34m,\u001b[0m\u001b[0;34m\u001b[0m\u001b[0;34m\u001b[0m\u001b[0m\n\u001b[1;32m    102\u001b[0m       \u001b[0mforce_remount\u001b[0m\u001b[0;34m=\u001b[0m\u001b[0mforce_remount\u001b[0m\u001b[0;34m,\u001b[0m\u001b[0;34m\u001b[0m\u001b[0;34m\u001b[0m\u001b[0m\n",
            "\u001b[0;32m/usr/local/lib/python3.10/dist-packages/google/colab/drive.py\u001b[0m in \u001b[0;36m_mount\u001b[0;34m(mountpoint, force_remount, timeout_ms, ephemeral, readonly)\u001b[0m\n\u001b[1;32m    135\u001b[0m   )\n\u001b[1;32m    136\u001b[0m   \u001b[0;32mif\u001b[0m \u001b[0mephemeral\u001b[0m\u001b[0;34m:\u001b[0m\u001b[0;34m\u001b[0m\u001b[0;34m\u001b[0m\u001b[0m\n\u001b[0;32m--> 137\u001b[0;31m     _message.blocking_request(\n\u001b[0m\u001b[1;32m    138\u001b[0m         \u001b[0;34m'request_auth'\u001b[0m\u001b[0;34m,\u001b[0m\u001b[0;34m\u001b[0m\u001b[0;34m\u001b[0m\u001b[0m\n\u001b[1;32m    139\u001b[0m         \u001b[0mrequest\u001b[0m\u001b[0;34m=\u001b[0m\u001b[0;34m{\u001b[0m\u001b[0;34m'authType'\u001b[0m\u001b[0;34m:\u001b[0m \u001b[0;34m'dfs_ephemeral'\u001b[0m\u001b[0;34m}\u001b[0m\u001b[0;34m,\u001b[0m\u001b[0;34m\u001b[0m\u001b[0;34m\u001b[0m\u001b[0m\n",
            "\u001b[0;32m/usr/local/lib/python3.10/dist-packages/google/colab/_message.py\u001b[0m in \u001b[0;36mblocking_request\u001b[0;34m(request_type, request, timeout_sec, parent)\u001b[0m\n\u001b[1;32m    174\u001b[0m       \u001b[0mrequest_type\u001b[0m\u001b[0;34m,\u001b[0m \u001b[0mrequest\u001b[0m\u001b[0;34m,\u001b[0m \u001b[0mparent\u001b[0m\u001b[0;34m=\u001b[0m\u001b[0mparent\u001b[0m\u001b[0;34m,\u001b[0m \u001b[0mexpect_reply\u001b[0m\u001b[0;34m=\u001b[0m\u001b[0;32mTrue\u001b[0m\u001b[0;34m\u001b[0m\u001b[0;34m\u001b[0m\u001b[0m\n\u001b[1;32m    175\u001b[0m   )\n\u001b[0;32m--> 176\u001b[0;31m   \u001b[0;32mreturn\u001b[0m \u001b[0mread_reply_from_input\u001b[0m\u001b[0;34m(\u001b[0m\u001b[0mrequest_id\u001b[0m\u001b[0;34m,\u001b[0m \u001b[0mtimeout_sec\u001b[0m\u001b[0;34m)\u001b[0m\u001b[0;34m\u001b[0m\u001b[0;34m\u001b[0m\u001b[0m\n\u001b[0m",
            "\u001b[0;32m/usr/local/lib/python3.10/dist-packages/google/colab/_message.py\u001b[0m in \u001b[0;36mread_reply_from_input\u001b[0;34m(message_id, timeout_sec)\u001b[0m\n\u001b[1;32m    101\u001b[0m     ):\n\u001b[1;32m    102\u001b[0m       \u001b[0;32mif\u001b[0m \u001b[0;34m'error'\u001b[0m \u001b[0;32min\u001b[0m \u001b[0mreply\u001b[0m\u001b[0;34m:\u001b[0m\u001b[0;34m\u001b[0m\u001b[0;34m\u001b[0m\u001b[0m\n\u001b[0;32m--> 103\u001b[0;31m         \u001b[0;32mraise\u001b[0m \u001b[0mMessageError\u001b[0m\u001b[0;34m(\u001b[0m\u001b[0mreply\u001b[0m\u001b[0;34m[\u001b[0m\u001b[0;34m'error'\u001b[0m\u001b[0;34m]\u001b[0m\u001b[0;34m)\u001b[0m\u001b[0;34m\u001b[0m\u001b[0;34m\u001b[0m\u001b[0m\n\u001b[0m\u001b[1;32m    104\u001b[0m       \u001b[0;32mreturn\u001b[0m \u001b[0mreply\u001b[0m\u001b[0;34m.\u001b[0m\u001b[0mget\u001b[0m\u001b[0;34m(\u001b[0m\u001b[0;34m'data'\u001b[0m\u001b[0;34m,\u001b[0m \u001b[0;32mNone\u001b[0m\u001b[0;34m)\u001b[0m\u001b[0;34m\u001b[0m\u001b[0;34m\u001b[0m\u001b[0m\n\u001b[1;32m    105\u001b[0m \u001b[0;34m\u001b[0m\u001b[0m\n",
            "\u001b[0;31mMessageError\u001b[0m: Error: credential propagation was unsuccessful"
          ]
        }
      ]
    },
    {
      "cell_type": "code",
      "metadata": {
        "id": "RzzCqQ8i1Vu7"
      },
      "source": [
        "# 데이터 불러오기\n",
        "train = pd.read_csv('/content/drive/MyDrive/2024-2 ESAA/Data/movie_data/movies_train.csv')\n",
        "test = pd.read_csv(\"/content/drive/MyDrive/2024-2 ESAA/Data/movie_data/movies_test.csv\")\n",
        "submission = pd.read_csv('/content/drive/MyDrive/2024-2 ESAA/Data/movie_data/submission.csv')"
      ],
      "execution_count": null,
      "outputs": []
    },
    {
      "cell_type": "code",
      "source": [
        "# 시드 고정\n",
        "import os\n",
        "import random\n",
        "\n",
        "def seed_everything(seed):\n",
        "    random.seed(seed)\n",
        "    os.environ['PYTHONHASHSEED'] = str(seed)\n",
        "    np.random.seed(seed)\n",
        "\n",
        "seed_everything(42) # Seed 고정"
      ],
      "metadata": {
        "id": "HZzAdu1DvdF_"
      },
      "execution_count": null,
      "outputs": []
    },
    {
      "cell_type": "markdown",
      "metadata": {
        "id": "jwLtCHGC2lnb"
      },
      "source": [
        "# **2. 탐색적 자료분석(EDA)**\n",
        "\n"
      ]
    },
    {
      "cell_type": "markdown",
      "metadata": {
        "id": "2JQmZSvV1VvA"
      },
      "source": [
        "## 1) 일부 데이터 미리보기\n"
      ]
    },
    {
      "cell_type": "markdown",
      "metadata": {
        "id": "F41FW4c31VvH"
      },
      "source": [
        "+ title : 영화의 제목\n",
        "+ distributor : 배급사\n",
        "+ genre : 장르\n",
        "+ release_time : 개봉일\n",
        "+ time : 상영시간(분)\n",
        "+ screening_rat : 상영등급\n",
        "+ director : 감독이름\n",
        "+ dir_prev_bfnum : 해당 감독이 이 영화를 만들기 전 제작에 참여한 영화에서의 평균 관객수(단 관객수가 알려지지 않은 영화 제외)\n",
        "+ dir_prev_num : 해당 감독이 이 영화를 만들기 전 제작에 참여한 영화의 개수(단 관객수가 알려지지 않은 영화 제외)\n",
        "+ num_staff : 스텝수\n",
        "+ num_actor : 주연배우수\n",
        "+ box_off_num : 관객수"
      ]
    },
    {
      "cell_type": "code",
      "metadata": {
        "id": "JHnbWsINM73F"
      },
      "source": [
        "train.head()"
      ],
      "execution_count": null,
      "outputs": []
    },
    {
      "cell_type": "code",
      "metadata": {
        "id": "fOCBylQf76--"
      },
      "source": [
        "test.head()"
      ],
      "execution_count": null,
      "outputs": []
    },
    {
      "cell_type": "code",
      "source": [
        "submission.head()"
      ],
      "metadata": {
        "id": "zS9kBA0gPCwt"
      },
      "execution_count": null,
      "outputs": []
    },
    {
      "cell_type": "markdown",
      "metadata": {
        "id": "tMIOo3ON1Vva"
      },
      "source": [
        "## 2) 데이터 요약\n"
      ]
    },
    {
      "cell_type": "code",
      "metadata": {
        "id": "VkMTk4b61VvW"
      },
      "source": [
        "print(train.shape)\n",
        "print(test.shape)"
      ],
      "execution_count": null,
      "outputs": []
    },
    {
      "cell_type": "markdown",
      "metadata": {
        "id": "VoRpSmIv613q"
      },
      "source": [
        "- 600개의 데이터와 12개의 변수가 존재\n"
      ]
    },
    {
      "cell_type": "code",
      "metadata": {
        "id": "sEp0YkCP1Vvb"
      },
      "source": [
        "train.info()"
      ],
      "execution_count": null,
      "outputs": []
    },
    {
      "cell_type": "code",
      "source": [
        "test.info()"
      ],
      "metadata": {
        "id": "1OfeMyS4P4Pp"
      },
      "execution_count": null,
      "outputs": []
    },
    {
      "cell_type": "markdown",
      "metadata": {
        "id": "GFcwJdfj1Vve"
      },
      "source": [
        "## 3) 데이터의 요약통계량 확인"
      ]
    },
    {
      "cell_type": "code",
      "metadata": {
        "id": "IzsYttKU1Vvf"
      },
      "source": [
        "pd.options.display.float_format = '{:.1f}'.format"
      ],
      "execution_count": null,
      "outputs": []
    },
    {
      "cell_type": "code",
      "metadata": {
        "id": "QmTGqyRy1Vvi"
      },
      "source": [
        "train.describe()"
      ],
      "execution_count": null,
      "outputs": []
    },
    {
      "cell_type": "code",
      "source": [
        "test.describe()"
      ],
      "metadata": {
        "id": "Y7yo_CQXP9oJ"
      },
      "execution_count": null,
      "outputs": []
    },
    {
      "cell_type": "markdown",
      "metadata": {
        "id": "YiJUQxts1VwZ"
      },
      "source": [
        "## 4) 결측치 확인 및 데이터 전처리\n"
      ]
    },
    {
      "cell_type": "code",
      "source": [
        "train.isna().sum()"
      ],
      "metadata": {
        "id": "Ig4r2JhUk_t8"
      },
      "execution_count": null,
      "outputs": []
    },
    {
      "cell_type": "markdown",
      "metadata": {
        "id": "oWXgl1Bq_3XE"
      },
      "source": [
        "- dir_prev_bfnum 변수에 결측값이 330개 존재한다."
      ]
    },
    {
      "cell_type": "markdown",
      "source": [
        "### (1) dir_prev_bfnum"
      ],
      "metadata": {
        "id": "NrF5I9jbk6P7"
      }
    },
    {
      "cell_type": "markdown",
      "metadata": {
        "id": "BHrFk4trA_l2"
      },
      "source": [
        "- dir_prev_bfnum이 결측값으로 존재하는 데이터들은 전부 dir_prev_num이 0인 영화들이다. 즉, 감독의 이전작품이 존재 하지 않은 경우이다. 따라서 dir_prev_bfnum에 있는 결측값은 전부 0으로 채운다."
      ]
    },
    {
      "cell_type": "code",
      "source": [
        "# 결측치 처리 (dir_prev_bfnum의 결측값 0으로 채우기)\n",
        "train['dir_prev_bfnum'].fillna(0, inplace=True)\n",
        "test['dir_prev_bfnum'].fillna(0, inplace=True)"
      ],
      "metadata": {
        "id": "6jJEvuPAmNt8"
      },
      "execution_count": null,
      "outputs": []
    },
    {
      "cell_type": "code",
      "source": [
        "# train 데이터 'dir_prev_bfnum' 이상치 확인\n",
        "sns.boxplot(train.dir_prev_bfnum)"
      ],
      "metadata": {
        "id": "cOrlR9Y3k9my"
      },
      "execution_count": null,
      "outputs": []
    },
    {
      "cell_type": "code",
      "source": [
        "# train 데이터 'dir_prev_bfnum' 이상치 삭제\n",
        "train = train.sort_values(by='dir_prev_bfnum', ascending=False).iloc[1:]"
      ],
      "metadata": {
        "id": "reb2qng4nLq5"
      },
      "execution_count": null,
      "outputs": []
    },
    {
      "cell_type": "markdown",
      "source": [
        "### (2) time"
      ],
      "metadata": {
        "id": "xmjOp7CSn0tX"
      }
    },
    {
      "cell_type": "code",
      "source": [
        "# test 데이터 'time' 이상치 확인\n",
        "sns.boxplot(test.time)"
      ],
      "metadata": {
        "id": "x1QTMNeNn7y4"
      },
      "execution_count": null,
      "outputs": []
    },
    {
      "cell_type": "code",
      "source": [
        "# test 데이터 'time' 이상치 평균값으로 대체\n",
        "test.at[test[test['time']>= 1000].index[0], 'time'] = int(test['time'].mean())"
      ],
      "metadata": {
        "id": "NwM0a3SloB1K"
      },
      "execution_count": null,
      "outputs": []
    },
    {
      "cell_type": "markdown",
      "source": [
        "### (3) 개봉일 (realease_time)"
      ],
      "metadata": {
        "id": "q9JdE3o2Szf2"
      }
    },
    {
      "cell_type": "markdown",
      "metadata": {
        "id": "QrCfuKGcNcVY"
      },
      "source": [
        "- release_time은 시간에 관련된 데이터인데 int형으로 인식되고 있다. release_time을 datetime형식으로 변환한다."
      ]
    },
    {
      "cell_type": "code",
      "source": [
        "train['release_time'] = pd.to_datetime(train['release_time'])\n",
        "test['release_time'] = pd.to_datetime(test['release_time'])"
      ],
      "metadata": {
        "id": "yACs0-rZmmp3"
      },
      "execution_count": null,
      "outputs": []
    },
    {
      "cell_type": "markdown",
      "source": [
        "* 분석 과정에서의 편의를 위해 release_time 변수를 개봉 연도, 분기, 월, 계절, 요일로 나눈 변수를 생성"
      ],
      "metadata": {
        "id": "UB2xeVaXnSgV"
      }
    },
    {
      "cell_type": "code",
      "source": [
        "# 연도, 분기, 월, 요일 변수 생성\n",
        "train['release_year'] = train['release_time'].dt.year\n",
        "train['release_month'] = train['release_time'].dt.month\n",
        "\n",
        "test['release_year'] = test['release_time'].dt.year\n",
        "test['release_month'] = test['release_time'].dt.month"
      ],
      "metadata": {
        "id": "BJksY_Fk12az"
      },
      "execution_count": null,
      "outputs": []
    },
    {
      "cell_type": "code",
      "source": [
        "# 확인\n",
        "train[['release_time','release_year','release_month']].head()"
      ],
      "metadata": {
        "id": "ynMEu1yf2LA5"
      },
      "execution_count": null,
      "outputs": []
    },
    {
      "cell_type": "markdown",
      "source": [
        "### (4) 배급사"
      ],
      "metadata": {
        "id": "Gi92Lg0liiJJ"
      }
    },
    {
      "cell_type": "code",
      "source": [
        "# 같은 배급사지만 다르게 표기되어 있는 경우 통합하기\n",
        "\n",
        "def distr_cleaning (x) :\n",
        "    if 'CGV' in x or '무비꼴라쥬' in x :\n",
        "        return 'CGV'\n",
        "    elif 'E&M' in x or 'CJ엔터테인먼트' in x :\n",
        "        return 'CJ E&M'\n",
        "    elif '롯데' in x :\n",
        "        return '롯데엔터테인먼트'\n",
        "    elif '스폰지' in x :\n",
        "        return '스폰지'\n",
        "    elif '싸이더스' in x :\n",
        "        return '싸이더스'\n",
        "    elif '마운틴픽처스' in x or '마운틴픽쳐스' in x :\n",
        "        return '마운틴픽쳐스'\n",
        "    elif '메가박스중앙플러스엠' in x or '메가박스플러스엠' in x :\n",
        "        return '메가박스플러스엠'\n",
        "    elif '쇼박스' in x :\n",
        "        return '쇼박스'\n",
        "    elif '조이앤시네마' in x or '조이앤컨텐츠그룹' in x :\n",
        "        return '조이앤'\n",
        "    elif '타임스토리' in x :\n",
        "        return '타임스토리'\n",
        "    elif '프리비젼' in x :\n",
        "        return '프리비젼'\n",
        "    elif '리틀빅픽' in x :\n",
        "        return '리틀빅픽쳐스'\n",
        "    else :\n",
        "        return x\n",
        "\n",
        "train['distributor'] = train['distributor'].str.replace('\\(주\\)', '').str.replace(' ', '')\n",
        "train['distributor'] = train['distributor'].apply(distr_cleaning)\n",
        "test['distributor'] = test['distributor'].str.replace('\\(주\\)', '').str.replace(' ', '')\n",
        "test['distributor'] = test['distributor'].apply(distr_cleaning)"
      ],
      "metadata": {
        "id": "K9ZCCdepiD-w"
      },
      "execution_count": null,
      "outputs": []
    },
    {
      "cell_type": "markdown",
      "source": [
        "## 5) 변수 정리 (원핫인코딩)"
      ],
      "metadata": {
        "id": "rzBuzIFhqAeJ"
      }
    },
    {
      "cell_type": "markdown",
      "source": [
        "### (1) 상영등급 (screening-rat)"
      ],
      "metadata": {
        "id": "NAMW6PdQpeLn"
      }
    },
    {
      "cell_type": "code",
      "source": [
        "# 원 핫 인코딩\n",
        "train = pd.get_dummies(train, columns=['screening_rat'])\n",
        "test = pd.get_dummies(test, columns=['screening_rat'])"
      ],
      "metadata": {
        "id": "vjug8WrE5Jdg"
      },
      "execution_count": null,
      "outputs": []
    },
    {
      "cell_type": "markdown",
      "source": [
        "### (2) 장르"
      ],
      "metadata": {
        "id": "MAr0HW5qqGXT"
      }
    },
    {
      "cell_type": "code",
      "source": [
        "train.head(3)"
      ],
      "metadata": {
        "id": "uVcQ_kG3CyFr"
      },
      "execution_count": null,
      "outputs": []
    },
    {
      "cell_type": "code",
      "source": [
        "train.groupby('genre').box_off_num.mean().sort_values()"
      ],
      "metadata": {
        "id": "kJ0sDQXGqIAG"
      },
      "execution_count": null,
      "outputs": []
    },
    {
      "cell_type": "code",
      "source": [
        "# 원 핫 인코딩\n",
        "train = pd.get_dummies(train, columns=['genre'])\n",
        "test = pd.get_dummies(test, columns=['genre'])"
      ],
      "metadata": {
        "id": "KPFnVyH25TT2"
      },
      "execution_count": null,
      "outputs": []
    },
    {
      "cell_type": "markdown",
      "source": [
        "### (3) 감독 (director)"
      ],
      "metadata": {
        "id": "-qNbbmuwqKrH"
      }
    },
    {
      "cell_type": "code",
      "source": [
        "# 감독 변수 제거\n",
        "train=train.drop(['director'], axis=1)\n",
        "test=test.drop(['director'], axis=1)"
      ],
      "metadata": {
        "id": "n_4M_pm1q89d"
      },
      "execution_count": null,
      "outputs": []
    },
    {
      "cell_type": "markdown",
      "source": [
        "### (4) 배급사"
      ],
      "metadata": {
        "id": "Hsl0BtPdraBQ"
      }
    },
    {
      "cell_type": "code",
      "source": [
        "# 상위 14개 배급사를 제외한 배급사는 '기타'로 처리\n",
        "dist_train=train.distributor.value_counts()[:14]\n",
        "\n",
        "def distributor_etc(x):\n",
        "  if x in dist_train:\n",
        "    return x\n",
        "  else:\n",
        "    return('기타')\n",
        "\n",
        "train['distributor']=train['distributor'].apply(distributor_etc).apply(lambda x : distributor_etc(x))\n",
        "\n",
        "dist_test = dist_train.index.tolist()\n",
        "test['distributor'] = test['distributor'].apply(lambda x : x if x in dist_test else '기타')"
      ],
      "metadata": {
        "id": "cFAlJeTDrbma"
      },
      "execution_count": null,
      "outputs": []
    },
    {
      "cell_type": "code",
      "source": [
        "# 원 핫 인코딩\n",
        "train = pd.get_dummies(train, columns=['distributor'])\n",
        "test = pd.get_dummies(test, columns=['distributor'])"
      ],
      "metadata": {
        "id": "eDDfdiwBsiXP"
      },
      "execution_count": null,
      "outputs": []
    },
    {
      "cell_type": "markdown",
      "source": [
        "### (5) 개봉일"
      ],
      "metadata": {
        "id": "P1ZfsbDAsTAp"
      }
    },
    {
      "cell_type": "code",
      "source": [
        "# 원 핫 인코딩\n",
        "train = pd.get_dummies(train, columns=['release_year', 'release_month'])\n",
        "test = pd.get_dummies(test, columns=['release_year', 'release_month'])"
      ],
      "metadata": {
        "id": "HpLN8-OY77C8"
      },
      "execution_count": null,
      "outputs": []
    },
    {
      "cell_type": "code",
      "source": [
        "# realease_time 변수 제거\n",
        "train=train.drop(['release_time'], axis=1)\n",
        "test=test.drop(['release_time'], axis=1)"
      ],
      "metadata": {
        "id": "SnJTGnxM5GeP"
      },
      "execution_count": null,
      "outputs": []
    },
    {
      "cell_type": "code",
      "source": [
        "# title 변수 제거\n",
        "train=train.drop(['title'], axis=1)\n",
        "test=test.drop(['title'], axis=1)"
      ],
      "metadata": {
        "id": "rZRuzQRCtZvw"
      },
      "execution_count": null,
      "outputs": []
    },
    {
      "cell_type": "markdown",
      "source": [
        "## 6) 타겟 변수 (관객수)"
      ],
      "metadata": {
        "id": "ayjoh-8wtiLk"
      }
    },
    {
      "cell_type": "code",
      "source": [
        "# 관객수 분포 확인\n",
        "sns.histplot(train['box_off_num'])"
      ],
      "metadata": {
        "id": "HrTdPjhouG6b"
      },
      "execution_count": null,
      "outputs": []
    },
    {
      "cell_type": "code",
      "source": [
        "# 관객수 log 변환 데이터 생성\n",
        "import numpy as np\n",
        "\n",
        "train['box_off_num']=np.log1p(train['box_off_num'])\n",
        "\n",
        "sns.histplot(train['box_off_num'])"
      ],
      "metadata": {
        "colab": {
          "base_uri": "https://localhost:8080/",
          "height": 467
        },
        "id": "52xQQaWEtssy",
        "outputId": "bbee208b-d668-404e-fd7b-2904fbc62454"
      },
      "execution_count": null,
      "outputs": [
        {
          "output_type": "execute_result",
          "data": {
            "text/plain": [
              "<Axes: xlabel='box_off_num', ylabel='Count'>"
            ]
          },
          "metadata": {},
          "execution_count": 35
        },
        {
          "output_type": "display_data",
          "data": {
            "text/plain": [
              "<Figure size 640x480 with 1 Axes>"
            ],
            "image/png": "[encoded data removed]"
          },
          "metadata": {}
        }
      ]
    },
    {
      "cell_type": "markdown",
      "source": [
        "# 3. Pycaret\n",
        "- ML 모델 간의 성능을 비교하기 위해 Pycaret 사용"
      ],
      "metadata": {
        "id": "FzVKHJJxyOmO"
      }
    },
    {
      "cell_type": "code",
      "source": [
        "!pip install pycaret"
      ],
      "metadata": {
        "colab": {
          "base_uri": "https://localhost:8080/"
        },
        "id": "knZkR69vysF1",
        "outputId": "e5ea1761-38da-4055-dd5e-aebdae9e360e"
      },
      "execution_count": null,
      "outputs": [
        {
          "output_type": "stream",
          "name": "stdout",
          "text": [
            "Requirement already satisfied: pycaret in /usr/local/lib/python3.10/dist-packages (3.3.2)\n",
            "Requirement already satisfied: ipython>=5.5.0 in /usr/local/lib/python3.10/dist-packages (from pycaret) (7.34.0)\n",
            "Requirement already satisfied: ipywidgets>=7.6.5 in /usr/local/lib/python3.10/dist-packages (from pycaret) (7.7.1)\n",
            "Requirement already satisfied: tqdm>=4.62.0 in /usr/local/lib/python3.10/dist-packages (from pycaret) (4.66.6)\n",
            "Requirement already satisfied: numpy<1.27,>=1.21 in /usr/local/lib/python3.10/dist-packages (from pycaret) (1.26.4)\n",
            "Requirement already satisfied: pandas<2.2.0 in /usr/local/lib/python3.10/dist-packages (from pycaret) (2.1.4)\n",
            "Requirement already satisfied: jinja2>=3 in /usr/local/lib/python3.10/dist-packages (from pycaret) (3.1.4)\n",
            "Requirement already satisfied: scipy<=1.11.4,>=1.6.1 in /usr/local/lib/python3.10/dist-packages (from pycaret) (1.11.4)\n",
            "Requirement already satisfied: joblib<1.4,>=1.2.0 in /usr/local/lib/python3.10/dist-packages (from pycaret) (1.3.2)\n",
            "Requirement already satisfied: scikit-learn>1.4.0 in /usr/local/lib/python3.10/dist-packages (from pycaret) (1.4.2)\n",
            "Requirement already satisfied: pyod>=1.1.3 in /usr/local/lib/python3.10/dist-packages (from pycaret) (2.0.2)\n",
            "Requirement already satisfied: imbalanced-learn>=0.12.0 in /usr/local/lib/python3.10/dist-packages (from pycaret) (0.12.4)\n",
            "Requirement already satisfied: category-encoders>=2.4.0 in /usr/local/lib/python3.10/dist-packages (from pycaret) (2.6.4)\n",
            "Requirement already satisfied: lightgbm>=3.0.0 in /usr/local/lib/python3.10/dist-packages (from pycaret) (4.5.0)\n",
            "Requirement already satisfied: numba>=0.55.0 in /usr/local/lib/python3.10/dist-packages (from pycaret) (0.60.0)\n",
            "Requirement already satisfied: requests>=2.27.1 in /usr/local/lib/python3.10/dist-packages (from pycaret) (2.32.3)\n",
            "Requirement already satisfied: psutil>=5.9.0 in /usr/local/lib/python3.10/dist-packages (from pycaret) (5.9.5)\n",
            "Requirement already satisfied: markupsafe>=2.0.1 in /usr/local/lib/python3.10/dist-packages (from pycaret) (3.0.2)\n",
            "Requirement already satisfied: importlib-metadata>=4.12.0 in /usr/local/lib/python3.10/dist-packages (from pycaret) (8.5.0)\n",
            "Requirement already satisfied: nbformat>=4.2.0 in /usr/local/lib/python3.10/dist-packages (from pycaret) (5.10.4)\n",
            "Requirement already satisfied: cloudpickle in /usr/local/lib/python3.10/dist-packages (from pycaret) (3.1.0)\n",
            "Requirement already satisfied: deprecation>=2.1.0 in /usr/local/lib/python3.10/dist-packages (from pycaret) (2.1.0)\n",
            "Requirement already satisfied: xxhash in /usr/local/lib/python3.10/dist-packages (from pycaret) (3.5.0)\n",
            "Requirement already satisfied: matplotlib<3.8.0 in /usr/local/lib/python3.10/dist-packages (from pycaret) (3.7.5)\n",
            "Requirement already satisfied: scikit-plot>=0.3.7 in /usr/local/lib/python3.10/dist-packages (from pycaret) (0.3.7)\n",
            "Requirement already satisfied: yellowbrick>=1.4 in /usr/local/lib/python3.10/dist-packages (from pycaret) (1.5)\n",
            "Requirement already satisfied: plotly>=5.14.0 in /usr/local/lib/python3.10/dist-packages (from pycaret) (5.24.1)\n",
            "Requirement already satisfied: kaleido>=0.2.1 in /usr/local/lib/python3.10/dist-packages (from pycaret) (0.2.1)\n",
            "Requirement already satisfied: schemdraw==0.15 in /usr/local/lib/python3.10/dist-packages (from pycaret) (0.15)\n",
            "Requirement already satisfied: plotly-resampler>=0.8.3.1 in /usr/local/lib/python3.10/dist-packages (from pycaret) (0.10.0)\n",
            "Requirement already satisfied: statsmodels>=0.12.1 in /usr/local/lib/python3.10/dist-packages (from pycaret) (0.14.4)\n",
            "Requirement already satisfied: sktime==0.26.0 in /usr/local/lib/python3.10/dist-packages (from pycaret) (0.26.0)\n",
            "Requirement already satisfied: tbats>=1.1.3 in /usr/local/lib/python3.10/dist-packages (from pycaret) (1.1.3)\n",
            "Requirement already satisfied: pmdarima>=2.0.4 in /usr/local/lib/python3.10/dist-packages (from pycaret) (2.0.4)\n",
            "Requirement already satisfied: wurlitzer in /usr/local/lib/python3.10/dist-packages (from pycaret) (3.1.1)\n",
            "Requirement already satisfied: packaging in /usr/local/lib/python3.10/dist-packages (from sktime==0.26.0->pycaret) (24.2)\n",
            "Requirement already satisfied: scikit-base<0.8.0 in /usr/local/lib/python3.10/dist-packages (from sktime==0.26.0->pycaret) (0.7.8)\n",
            "Requirement already satisfied: patsy>=0.5.1 in /usr/local/lib/python3.10/dist-packages (from category-encoders>=2.4.0->pycaret) (1.0.1)\n",
            "Requirement already satisfied: threadpoolctl>=2.0.0 in /usr/local/lib/python3.10/dist-packages (from imbalanced-learn>=0.12.0->pycaret) (3.5.0)\n",
            "Requirement already satisfied: zipp>=3.20 in /usr/local/lib/python3.10/dist-packages (from importlib-metadata>=4.12.0->pycaret) (3.21.0)\n",
            "Requirement already satisfied: setuptools>=18.5 in /usr/local/lib/python3.10/dist-packages (from ipython>=5.5.0->pycaret) (75.1.0)\n",
            "Requirement already satisfied: jedi>=0.16 in /usr/local/lib/python3.10/dist-packages (from ipython>=5.5.0->pycaret) (0.19.2)\n",
            "Requirement already satisfied: decorator in /usr/local/lib/python3.10/dist-packages (from ipython>=5.5.0->pycaret) (4.4.2)\n",
            "Requirement already satisfied: pickleshare in /usr/local/lib/python3.10/dist-packages (from ipython>=5.5.0->pycaret) (0.7.5)\n",
            "Requirement already satisfied: traitlets>=4.2 in /usr/local/lib/python3.10/dist-packages (from ipython>=5.5.0->pycaret) (5.7.1)\n",
            "Requirement already satisfied: prompt-toolkit!=3.0.0,!=3.0.1,<3.1.0,>=2.0.0 in /usr/local/lib/python3.10/dist-packages (from ipython>=5.5.0->pycaret) (3.0.48)\n",
            "Requirement already satisfied: pygments in /usr/local/lib/python3.10/dist-packages (from ipython>=5.5.0->pycaret) (2.18.0)\n",
            "Requirement already satisfied: backcall in /usr/local/lib/python3.10/dist-packages (from ipython>=5.5.0->pycaret) (0.2.0)\n",
            "Requirement already satisfied: matplotlib-inline in /usr/local/lib/python3.10/dist-packages (from ipython>=5.5.0->pycaret) (0.1.7)\n",
            "Requirement already satisfied: pexpect>4.3 in /usr/local/lib/python3.10/dist-packages (from ipython>=5.5.0->pycaret) (4.9.0)\n",
            "Requirement already satisfied: ipykernel>=4.5.1 in /usr/local/lib/python3.10/dist-packages (from ipywidgets>=7.6.5->pycaret) (5.5.6)\n",
            "Requirement already satisfied: ipython-genutils~=0.2.0 in /usr/local/lib/python3.10/dist-packages (from ipywidgets>=7.6.5->pycaret) (0.2.0)\n",
            "Requirement already satisfied: widgetsnbextension~=3.6.0 in /usr/local/lib/python3.10/dist-packages (from ipywidgets>=7.6.5->pycaret) (3.6.10)\n",
            "Requirement already satisfied: jupyterlab-widgets>=1.0.0 in /usr/local/lib/python3.10/dist-packages (from ipywidgets>=7.6.5->pycaret) (3.0.13)\n",
            "Requirement already satisfied: contourpy>=1.0.1 in /usr/local/lib/python3.10/dist-packages (from matplotlib<3.8.0->pycaret) (1.3.1)\n",
            "Requirement already satisfied: cycler>=0.10 in /usr/local/lib/python3.10/dist-packages (from matplotlib<3.8.0->pycaret) (0.12.1)\n",
            "Requirement already satisfied: fonttools>=4.22.0 in /usr/local/lib/python3.10/dist-packages (from matplotlib<3.8.0->pycaret) (4.55.0)\n",
            "Requirement already satisfied: kiwisolver>=1.0.1 in /usr/local/lib/python3.10/dist-packages (from matplotlib<3.8.0->pycaret) (1.4.7)\n",
            "Requirement already satisfied: pillow>=6.2.0 in /usr/local/lib/python3.10/dist-packages (from matplotlib<3.8.0->pycaret) (11.0.0)\n",
            "Requirement already satisfied: pyparsing>=2.3.1 in /usr/local/lib/python3.10/dist-packages (from matplotlib<3.8.0->pycaret) (3.2.0)\n",
            "Requirement already satisfied: python-dateutil>=2.7 in /usr/local/lib/python3.10/dist-packages (from matplotlib<3.8.0->pycaret) (2.8.2)\n",
            "Requirement already satisfied: fastjsonschema>=2.15 in /usr/local/lib/python3.10/dist-packages (from nbformat>=4.2.0->pycaret) (2.20.0)\n",
            "Requirement already satisfied: jsonschema>=2.6 in /usr/local/lib/python3.10/dist-packages (from nbformat>=4.2.0->pycaret) (4.23.0)\n",
            "Requirement already satisfied: jupyter-core!=5.0.*,>=4.12 in /usr/local/lib/python3.10/dist-packages (from nbformat>=4.2.0->pycaret) (5.7.2)\n",
            "Requirement already satisfied: llvmlite<0.44,>=0.43.0dev0 in /usr/local/lib/python3.10/dist-packages (from numba>=0.55.0->pycaret) (0.43.0)\n",
            "Requirement already satisfied: pytz>=2020.1 in /usr/local/lib/python3.10/dist-packages (from pandas<2.2.0->pycaret) (2024.2)\n",
            "Requirement already satisfied: tzdata>=2022.1 in /usr/local/lib/python3.10/dist-packages (from pandas<2.2.0->pycaret) (2024.2)\n",
            "Requirement already satisfied: tenacity>=6.2.0 in /usr/local/lib/python3.10/dist-packages (from plotly>=5.14.0->pycaret) (9.0.0)\n",
            "Requirement already satisfied: dash>=2.9.0 in /usr/local/lib/python3.10/dist-packages (from plotly-resampler>=0.8.3.1->pycaret) (2.18.2)\n",
            "Requirement already satisfied: orjson<4.0.0,>=3.8.0 in /usr/local/lib/python3.10/dist-packages (from plotly-resampler>=0.8.3.1->pycaret) (3.10.11)\n",
            "Requirement already satisfied: tsdownsample>=0.1.3 in /usr/local/lib/python3.10/dist-packages (from plotly-resampler>=0.8.3.1->pycaret) (0.1.3)\n",
            "Requirement already satisfied: Cython!=0.29.18,!=0.29.31,>=0.29 in /usr/local/lib/python3.10/dist-packages (from pmdarima>=2.0.4->pycaret) (3.0.11)\n",
            "Requirement already satisfied: urllib3 in /usr/local/lib/python3.10/dist-packages (from pmdarima>=2.0.4->pycaret) (2.2.3)\n",
            "Requirement already satisfied: charset-normalizer<4,>=2 in /usr/local/lib/python3.10/dist-packages (from requests>=2.27.1->pycaret) (3.4.0)\n",
            "Requirement already satisfied: idna<4,>=2.5 in /usr/local/lib/python3.10/dist-packages (from requests>=2.27.1->pycaret) (3.10)\n",
            "Requirement already satisfied: certifi>=2017.4.17 in /usr/local/lib/python3.10/dist-packages (from requests>=2.27.1->pycaret) (2024.8.30)\n",
            "Requirement already satisfied: Flask<3.1,>=1.0.4 in /usr/local/lib/python3.10/dist-packages (from dash>=2.9.0->plotly-resampler>=0.8.3.1->pycaret) (3.0.3)\n",
            "Requirement already satisfied: Werkzeug<3.1 in /usr/local/lib/python3.10/dist-packages (from dash>=2.9.0->plotly-resampler>=0.8.3.1->pycaret) (3.0.6)\n",
            "Requirement already satisfied: dash-html-components==2.0.0 in /usr/local/lib/python3.10/dist-packages (from dash>=2.9.0->plotly-resampler>=0.8.3.1->pycaret) (2.0.0)\n",
            "Requirement already satisfied: dash-core-components==2.0.0 in /usr/local/lib/python3.10/dist-packages (from dash>=2.9.0->plotly-resampler>=0.8.3.1->pycaret) (2.0.0)\n",
            "Requirement already satisfied: dash-table==5.0.0 in /usr/local/lib/python3.10/dist-packages (from dash>=2.9.0->plotly-resampler>=0.8.3.1->pycaret) (5.0.0)\n",
            "Requirement already satisfied: typing-extensions>=4.1.1 in /usr/local/lib/python3.10/dist-packages (from dash>=2.9.0->plotly-resampler>=0.8.3.1->pycaret) (4.12.2)\n",
            "Requirement already satisfied: retrying in /usr/local/lib/python3.10/dist-packages (from dash>=2.9.0->plotly-resampler>=0.8.3.1->pycaret) (1.3.4)\n",
            "Requirement already satisfied: nest-asyncio in /usr/local/lib/python3.10/dist-packages (from dash>=2.9.0->plotly-resampler>=0.8.3.1->pycaret) (1.6.0)\n",
            "Requirement already satisfied: jupyter-client in /usr/local/lib/python3.10/dist-packages (from ipykernel>=4.5.1->ipywidgets>=7.6.5->pycaret) (6.1.12)\n",
            "Requirement already satisfied: tornado>=4.2 in /usr/local/lib/python3.10/dist-packages (from ipykernel>=4.5.1->ipywidgets>=7.6.5->pycaret) (6.3.3)\n",
            "Requirement already satisfied: parso<0.9.0,>=0.8.4 in /usr/local/lib/python3.10/dist-packages (from jedi>=0.16->ipython>=5.5.0->pycaret) (0.8.4)\n",
            "Requirement already satisfied: attrs>=22.2.0 in /usr/local/lib/python3.10/dist-packages (from jsonschema>=2.6->nbformat>=4.2.0->pycaret) (24.2.0)\n",
            "Requirement already satisfied: jsonschema-specifications>=2023.03.6 in /usr/local/lib/python3.10/dist-packages (from jsonschema>=2.6->nbformat>=4.2.0->pycaret) (2024.10.1)\n",
            "Requirement already satisfied: referencing>=0.28.4 in /usr/local/lib/python3.10/dist-packages (from jsonschema>=2.6->nbformat>=4.2.0->pycaret) (0.35.1)\n",
            "Requirement already satisfied: rpds-py>=0.7.1 in /usr/local/lib/python3.10/dist-packages (from jsonschema>=2.6->nbformat>=4.2.0->pycaret) (0.21.0)\n",
            "Requirement already satisfied: platformdirs>=2.5 in /usr/local/lib/python3.10/dist-packages (from jupyter-core!=5.0.*,>=4.12->nbformat>=4.2.0->pycaret) (4.3.6)\n",
            "Requirement already satisfied: ptyprocess>=0.5 in /usr/local/lib/python3.10/dist-packages (from pexpect>4.3->ipython>=5.5.0->pycaret) (0.7.0)\n",
            "Requirement already satisfied: wcwidth in /usr/local/lib/python3.10/dist-packages (from prompt-toolkit!=3.0.0,!=3.0.1,<3.1.0,>=2.0.0->ipython>=5.5.0->pycaret) (0.2.13)\n",
            "Requirement already satisfied: six>=1.5 in /usr/local/lib/python3.10/dist-packages (from python-dateutil>=2.7->matplotlib<3.8.0->pycaret) (1.16.0)\n",
            "Requirement already satisfied: notebook>=4.4.1 in /usr/local/lib/python3.10/dist-packages (from widgetsnbextension~=3.6.0->ipywidgets>=7.6.5->pycaret) (6.5.5)\n",
            "Requirement already satisfied: itsdangerous>=2.1.2 in /usr/local/lib/python3.10/dist-packages (from Flask<3.1,>=1.0.4->dash>=2.9.0->plotly-resampler>=0.8.3.1->pycaret) (2.2.0)\n",
            "Requirement already satisfied: click>=8.1.3 in /usr/local/lib/python3.10/dist-packages (from Flask<3.1,>=1.0.4->dash>=2.9.0->plotly-resampler>=0.8.3.1->pycaret) (8.1.7)\n",
            "Requirement already satisfied: blinker>=1.6.2 in /usr/local/lib/python3.10/dist-packages (from Flask<3.1,>=1.0.4->dash>=2.9.0->plotly-resampler>=0.8.3.1->pycaret) (1.9.0)\n",
            "Requirement already satisfied: pyzmq<25,>=17 in /usr/local/lib/python3.10/dist-packages (from notebook>=4.4.1->widgetsnbextension~=3.6.0->ipywidgets>=7.6.5->pycaret) (24.0.1)\n",
            "Requirement already satisfied: argon2-cffi in /usr/local/lib/python3.10/dist-packages (from notebook>=4.4.1->widgetsnbextension~=3.6.0->ipywidgets>=7.6.5->pycaret) (23.1.0)\n",
            "Requirement already satisfied: nbconvert>=5 in /usr/local/lib/python3.10/dist-packages (from notebook>=4.4.1->widgetsnbextension~=3.6.0->ipywidgets>=7.6.5->pycaret) (7.16.4)\n",
            "Requirement already satisfied: Send2Trash>=1.8.0 in /usr/local/lib/python3.10/dist-packages (from notebook>=4.4.1->widgetsnbextension~=3.6.0->ipywidgets>=7.6.5->pycaret) (1.8.3)\n",
            "Requirement already satisfied: terminado>=0.8.3 in /usr/local/lib/python3.10/dist-packages (from notebook>=4.4.1->widgetsnbextension~=3.6.0->ipywidgets>=7.6.5->pycaret) (0.18.1)\n",
            "Requirement already satisfied: prometheus-client in /usr/local/lib/python3.10/dist-packages (from notebook>=4.4.1->widgetsnbextension~=3.6.0->ipywidgets>=7.6.5->pycaret) (0.21.0)\n",
            "Requirement already satisfied: nbclassic>=0.4.7 in /usr/local/lib/python3.10/dist-packages (from notebook>=4.4.1->widgetsnbextension~=3.6.0->ipywidgets>=7.6.5->pycaret) (1.1.0)\n",
            "Requirement already satisfied: notebook-shim>=0.2.3 in /usr/local/lib/python3.10/dist-packages (from nbclassic>=0.4.7->notebook>=4.4.1->widgetsnbextension~=3.6.0->ipywidgets>=7.6.5->pycaret) (0.2.4)\n",
            "Requirement already satisfied: beautifulsoup4 in /usr/local/lib/python3.10/dist-packages (from nbconvert>=5->notebook>=4.4.1->widgetsnbextension~=3.6.0->ipywidgets>=7.6.5->pycaret) (4.12.3)\n",
            "Requirement already satisfied: bleach!=5.0.0 in /usr/local/lib/python3.10/dist-packages (from nbconvert>=5->notebook>=4.4.1->widgetsnbextension~=3.6.0->ipywidgets>=7.6.5->pycaret) (6.2.0)\n",
            "Requirement already satisfied: defusedxml in /usr/local/lib/python3.10/dist-packages (from nbconvert>=5->notebook>=4.4.1->widgetsnbextension~=3.6.0->ipywidgets>=7.6.5->pycaret) (0.7.1)\n",
            "Requirement already satisfied: jupyterlab-pygments in /usr/local/lib/python3.10/dist-packages (from nbconvert>=5->notebook>=4.4.1->widgetsnbextension~=3.6.0->ipywidgets>=7.6.5->pycaret) (0.3.0)\n",
            "Requirement already satisfied: mistune<4,>=2.0.3 in /usr/local/lib/python3.10/dist-packages (from nbconvert>=5->notebook>=4.4.1->widgetsnbextension~=3.6.0->ipywidgets>=7.6.5->pycaret) (3.0.2)\n",
            "Requirement already satisfied: nbclient>=0.5.0 in /usr/local/lib/python3.10/dist-packages (from nbconvert>=5->notebook>=4.4.1->widgetsnbextension~=3.6.0->ipywidgets>=7.6.5->pycaret) (0.10.0)\n",
            "Requirement already satisfied: pandocfilters>=1.4.1 in /usr/local/lib/python3.10/dist-packages (from nbconvert>=5->notebook>=4.4.1->widgetsnbextension~=3.6.0->ipywidgets>=7.6.5->pycaret) (1.5.1)\n",
            "Requirement already satisfied: tinycss2 in /usr/local/lib/python3.10/dist-packages (from nbconvert>=5->notebook>=4.4.1->widgetsnbextension~=3.6.0->ipywidgets>=7.6.5->pycaret) (1.4.0)\n",
            "Requirement already satisfied: argon2-cffi-bindings in /usr/local/lib/python3.10/dist-packages (from argon2-cffi->notebook>=4.4.1->widgetsnbextension~=3.6.0->ipywidgets>=7.6.5->pycaret) (21.2.0)\n",
            "Requirement already satisfied: webencodings in /usr/local/lib/python3.10/dist-packages (from bleach!=5.0.0->nbconvert>=5->notebook>=4.4.1->widgetsnbextension~=3.6.0->ipywidgets>=7.6.5->pycaret) (0.5.1)\n",
            "Requirement already satisfied: jupyter-server<3,>=1.8 in /usr/local/lib/python3.10/dist-packages (from notebook-shim>=0.2.3->nbclassic>=0.4.7->notebook>=4.4.1->widgetsnbextension~=3.6.0->ipywidgets>=7.6.5->pycaret) (1.24.0)\n",
            "Requirement already satisfied: cffi>=1.0.1 in /usr/local/lib/python3.10/dist-packages (from argon2-cffi-bindings->argon2-cffi->notebook>=4.4.1->widgetsnbextension~=3.6.0->ipywidgets>=7.6.5->pycaret) (1.17.1)\n",
            "Requirement already satisfied: soupsieve>1.2 in /usr/local/lib/python3.10/dist-packages (from beautifulsoup4->nbconvert>=5->notebook>=4.4.1->widgetsnbextension~=3.6.0->ipywidgets>=7.6.5->pycaret) (2.6)\n",
            "Requirement already satisfied: pycparser in /usr/local/lib/python3.10/dist-packages (from cffi>=1.0.1->argon2-cffi-bindings->argon2-cffi->notebook>=4.4.1->widgetsnbextension~=3.6.0->ipywidgets>=7.6.5->pycaret) (2.22)\n",
            "Requirement already satisfied: anyio<4,>=3.1.0 in /usr/local/lib/python3.10/dist-packages (from jupyter-server<3,>=1.8->notebook-shim>=0.2.3->nbclassic>=0.4.7->notebook>=4.4.1->widgetsnbextension~=3.6.0->ipywidgets>=7.6.5->pycaret) (3.7.1)\n",
            "Requirement already satisfied: websocket-client in /usr/local/lib/python3.10/dist-packages (from jupyter-server<3,>=1.8->notebook-shim>=0.2.3->nbclassic>=0.4.7->notebook>=4.4.1->widgetsnbextension~=3.6.0->ipywidgets>=7.6.5->pycaret) (1.8.0)\n",
            "Requirement already satisfied: sniffio>=1.1 in /usr/local/lib/python3.10/dist-packages (from anyio<4,>=3.1.0->jupyter-server<3,>=1.8->notebook-shim>=0.2.3->nbclassic>=0.4.7->notebook>=4.4.1->widgetsnbextension~=3.6.0->ipywidgets>=7.6.5->pycaret) (1.3.1)\n",
            "Requirement already satisfied: exceptiongroup in /usr/local/lib/python3.10/dist-packages (from anyio<4,>=3.1.0->jupyter-server<3,>=1.8->notebook-shim>=0.2.3->nbclassic>=0.4.7->notebook>=4.4.1->widgetsnbextension~=3.6.0->ipywidgets>=7.6.5->pycaret) (1.2.2)\n"
          ]
        }
      ]
    },
    {
      "cell_type": "code",
      "source": [
        "from sklearn.preprocessing import LabelEncoder\n",
        "from sklearn.model_selection import GridSearchCV\n",
        "import lightgbm as lgb\n",
        "\n",
        "from pycaret.regression import *\n",
        "import matplotlib.pyplot as plt"
      ],
      "metadata": {
        "id": "HJx6A3zvyQnV"
      },
      "execution_count": null,
      "outputs": []
    },
    {
      "cell_type": "markdown",
      "source": [
        "### 회귀 문제 설정"
      ],
      "metadata": {
        "id": "QSELpJq02tfT"
      }
    },
    {
      "cell_type": "code",
      "source": [
        "# 회귀 문제 설정\n",
        "clf = setup(data=train,\n",
        "            target='box_off_num',\n",
        "            normalize=True,\n",
        "            session_id=42,\n",
        "            use_gpu=True\n",
        "            )"
      ],
      "metadata": {
        "colab": {
          "base_uri": "https://localhost:8080/",
          "height": 1000
        },
        "id": "onswTSzXyJY-",
        "outputId": "878975d4-8511-4af7-f81b-c5d4f1f7fb8d"
      },
      "execution_count": null,
      "outputs": [
        {
          "output_type": "stream",
          "name": "stdout",
          "text": [
            "[LightGBM] [Warning] There are no meaningful features which satisfy the provided configuration. Decreasing Dataset parameters min_data_in_bin or min_data_in_leaf and re-constructing Dataset might resolve this warning.\n",
            "[LightGBM] [Info] This is the GPU trainer!!\n",
            "[LightGBM] [Info] Total Bins 0\n",
            "[LightGBM] [Info] Number of data points in the train set: 2, number of used features: 0\n",
            "[LightGBM] [Warning] There are no meaningful features which satisfy the provided configuration. Decreasing Dataset parameters min_data_in_bin or min_data_in_leaf and re-constructing Dataset might resolve this warning.\n",
            "[LightGBM] [Warning] Using sparse features with CUDA is currently not supported.\n",
            "[LightGBM] [Warning] There are no meaningful features which satisfy the provided configuration. Decreasing Dataset parameters min_data_in_bin or min_data_in_leaf and re-constructing Dataset might resolve this warning.\n",
            "[LightGBM] [Info] This is the GPU trainer!!\n",
            "[LightGBM] [Info] Total Bins 0\n",
            "[LightGBM] [Info] Number of data points in the train set: 2, number of used features: 0\n",
            "[LightGBM] [Warning] There are no meaningful features which satisfy the provided configuration. Decreasing Dataset parameters min_data_in_bin or min_data_in_leaf and re-constructing Dataset might resolve this warning.\n",
            "[LightGBM] [Warning] Using sparse features with CUDA is currently not supported.\n",
            "[LightGBM] [Warning] There are no meaningful features which satisfy the provided configuration. Decreasing Dataset parameters min_data_in_bin or min_data_in_leaf and re-constructing Dataset might resolve this warning.\n",
            "[LightGBM] [Info] This is the GPU trainer!!\n",
            "[LightGBM] [Info] Total Bins 0\n",
            "[LightGBM] [Info] Number of data points in the train set: 2, number of used features: 0\n",
            "[LightGBM] [Warning] There are no meaningful features which satisfy the provided configuration. Decreasing Dataset parameters min_data_in_bin or min_data_in_leaf and re-constructing Dataset might resolve this warning.\n",
            "[LightGBM] [Warning] Using sparse features with CUDA is currently not supported.\n",
            "[LightGBM] [Warning] There are no meaningful features which satisfy the provided configuration. Decreasing Dataset parameters min_data_in_bin or min_data_in_leaf and re-constructing Dataset might resolve this warning.\n",
            "[LightGBM] [Info] This is the GPU trainer!!\n",
            "[LightGBM] [Info] Total Bins 0\n",
            "[LightGBM] [Info] Number of data points in the train set: 2, number of used features: 0\n",
            "[LightGBM] [Warning] There are no meaningful features which satisfy the provided configuration. Decreasing Dataset parameters min_data_in_bin or min_data_in_leaf and re-constructing Dataset might resolve this warning.\n",
            "[LightGBM] [Warning] Using sparse features with CUDA is currently not supported.\n",
            "[LightGBM] [Warning] There are no meaningful features which satisfy the provided configuration. Decreasing Dataset parameters min_data_in_bin or min_data_in_leaf and re-constructing Dataset might resolve this warning.\n",
            "[LightGBM] [Info] This is the GPU trainer!!\n",
            "[LightGBM] [Info] Total Bins 0\n",
            "[LightGBM] [Info] Number of data points in the train set: 2, number of used features: 0\n",
            "[LightGBM] [Warning] There are no meaningful features which satisfy the provided configuration. Decreasing Dataset parameters min_data_in_bin or min_data_in_leaf and re-constructing Dataset might resolve this warning.\n",
            "[LightGBM] [Warning] Using sparse features with CUDA is currently not supported.\n",
            "[LightGBM] [Warning] There are no meaningful features which satisfy the provided configuration. Decreasing Dataset parameters min_data_in_bin or min_data_in_leaf and re-constructing Dataset might resolve this warning.\n",
            "[LightGBM] [Info] This is the GPU trainer!!\n",
            "[LightGBM] [Info] Total Bins 0\n",
            "[LightGBM] [Info] Number of data points in the train set: 2, number of used features: 0\n",
            "[LightGBM] [Warning] There are no meaningful features which satisfy the provided configuration. Decreasing Dataset parameters min_data_in_bin or min_data_in_leaf and re-constructing Dataset might resolve this warning.\n",
            "[LightGBM] [Warning] Using sparse features with CUDA is currently not supported.\n",
            "[LightGBM] [Warning] There are no meaningful features which satisfy the provided configuration. Decreasing Dataset parameters min_data_in_bin or min_data_in_leaf and re-constructing Dataset might resolve this warning.\n",
            "[LightGBM] [Info] This is the GPU trainer!!\n",
            "[LightGBM] [Info] Total Bins 0\n",
            "[LightGBM] [Info] Number of data points in the train set: 2, number of used features: 0\n",
            "[LightGBM] [Warning] There are no meaningful features which satisfy the provided configuration. Decreasing Dataset parameters min_data_in_bin or min_data_in_leaf and re-constructing Dataset might resolve this warning.\n",
            "[LightGBM] [Warning] Using sparse features with CUDA is currently not supported.\n",
            "[LightGBM] [Warning] There are no meaningful features which satisfy the provided configuration. Decreasing Dataset parameters min_data_in_bin or min_data_in_leaf and re-constructing Dataset might resolve this warning.\n",
            "[LightGBM] [Info] This is the GPU trainer!!\n",
            "[LightGBM] [Info] Total Bins 0\n",
            "[LightGBM] [Info] Number of data points in the train set: 2, number of used features: 0\n",
            "[LightGBM] [Warning] There are no meaningful features which satisfy the provided configuration. Decreasing Dataset parameters min_data_in_bin or min_data_in_leaf and re-constructing Dataset might resolve this warning.\n",
            "[LightGBM] [Warning] Using sparse features with CUDA is currently not supported.\n",
            "[LightGBM] [Warning] There are no meaningful features which satisfy the provided configuration. Decreasing Dataset parameters min_data_in_bin or min_data_in_leaf and re-constructing Dataset might resolve this warning.\n",
            "[LightGBM] [Info] This is the GPU trainer!!\n",
            "[LightGBM] [Info] Total Bins 0\n",
            "[LightGBM] [Info] Number of data points in the train set: 2, number of used features: 0\n",
            "[LightGBM] [Warning] There are no meaningful features which satisfy the provided configuration. Decreasing Dataset parameters min_data_in_bin or min_data_in_leaf and re-constructing Dataset might resolve this warning.\n",
            "[LightGBM] [Warning] Using sparse features with CUDA is currently not supported.\n",
            "[LightGBM] [Warning] There are no meaningful features which satisfy the provided configuration. Decreasing Dataset parameters min_data_in_bin or min_data_in_leaf and re-constructing Dataset might resolve this warning.\n",
            "[LightGBM] [Info] This is the GPU trainer!!\n",
            "[LightGBM] [Info] Total Bins 0\n",
            "[LightGBM] [Info] Number of data points in the train set: 2, number of used features: 0\n",
            "[LightGBM] [Warning] There are no meaningful features which satisfy the provided configuration. Decreasing Dataset parameters min_data_in_bin or min_data_in_leaf and re-constructing Dataset might resolve this warning.\n",
            "[LightGBM] [Warning] Using sparse features with CUDA is currently not supported.\n",
            "[LightGBM] [Warning] There are no meaningful features which satisfy the provided configuration. Decreasing Dataset parameters min_data_in_bin or min_data_in_leaf and re-constructing Dataset might resolve this warning.\n",
            "[LightGBM] [Info] This is the GPU trainer!!\n",
            "[LightGBM] [Info] Total Bins 0\n",
            "[LightGBM] [Info] Number of data points in the train set: 2, number of used features: 0\n",
            "[LightGBM] [Warning] There are no meaningful features which satisfy the provided configuration. Decreasing Dataset parameters min_data_in_bin or min_data_in_leaf and re-constructing Dataset might resolve this warning.\n",
            "[LightGBM] [Warning] Using sparse features with CUDA is currently not supported.\n",
            "[LightGBM] [Warning] There are no meaningful features which satisfy the provided configuration. Decreasing Dataset parameters min_data_in_bin or min_data_in_leaf and re-constructing Dataset might resolve this warning.\n",
            "[LightGBM] [Info] This is the GPU trainer!!\n",
            "[LightGBM] [Info] Total Bins 0\n",
            "[LightGBM] [Info] Number of data points in the train set: 2, number of used features: 0\n",
            "[LightGBM] [Warning] There are no meaningful features which satisfy the provided configuration. Decreasing Dataset parameters min_data_in_bin or min_data_in_leaf and re-constructing Dataset might resolve this warning.\n",
            "[LightGBM] [Warning] Using sparse features with CUDA is currently not supported.\n"
          ]
        },
        {
          "output_type": "display_data",
          "data": {
            "text/plain": [
              "<pandas.io.formats.style.Styler at 0x7d843a18bf40>"
            ],
            "text/html": [
              "<style type=\"text/css\">\n",
              "#T_166c5_row8_col1, #T_166c5_row12_col1, #T_166c5_row17_col1 {\n",
              "  background-color: lightgreen;\n",
              "}\n",
              "</style>\n",
              "<table id=\"T_166c5\" class=\"dataframe\">\n",
              "  <thead>\n",
              "    <tr>\n",
              "      <th class=\"blank level0\" >&nbsp;</th>\n",
              "      <th id=\"T_166c5_level0_col0\" class=\"col_heading level0 col0\" >Description</th>\n",
              "      <th id=\"T_166c5_level0_col1\" class=\"col_heading level0 col1\" >Value</th>\n",
              "    </tr>\n",
              "  </thead>\n",
              "  <tbody>\n",
              "    <tr>\n",
              "      <th id=\"T_166c5_level0_row0\" class=\"row_heading level0 row0\" >0</th>\n",
              "      <td id=\"T_166c5_row0_col0\" class=\"data row0 col0\" >Session id</td>\n",
              "      <td id=\"T_166c5_row0_col1\" class=\"data row0 col1\" >42</td>\n",
              "    </tr>\n",
              "    <tr>\n",
              "      <th id=\"T_166c5_level0_row1\" class=\"row_heading level0 row1\" >1</th>\n",
              "      <td id=\"T_166c5_row1_col0\" class=\"data row1 col0\" >Target</td>\n",
              "      <td id=\"T_166c5_row1_col1\" class=\"data row1 col1\" >box_off_num</td>\n",
              "    </tr>\n",
              "    <tr>\n",
              "      <th id=\"T_166c5_level0_row2\" class=\"row_heading level0 row2\" >2</th>\n",
              "      <td id=\"T_166c5_row2_col0\" class=\"data row2 col0\" >Target type</td>\n",
              "      <td id=\"T_166c5_row2_col1\" class=\"data row2 col1\" >Regression</td>\n",
              "    </tr>\n",
              "    <tr>\n",
              "      <th id=\"T_166c5_level0_row3\" class=\"row_heading level0 row3\" >3</th>\n",
              "      <td id=\"T_166c5_row3_col0\" class=\"data row3 col0\" >Original data shape</td>\n",
              "      <td id=\"T_166c5_row3_col1\" class=\"data row3 col1\" >(599, 55)</td>\n",
              "    </tr>\n",
              "    <tr>\n",
              "      <th id=\"T_166c5_level0_row4\" class=\"row_heading level0 row4\" >4</th>\n",
              "      <td id=\"T_166c5_row4_col0\" class=\"data row4 col0\" >Transformed data shape</td>\n",
              "      <td id=\"T_166c5_row4_col1\" class=\"data row4 col1\" >(599, 55)</td>\n",
              "    </tr>\n",
              "    <tr>\n",
              "      <th id=\"T_166c5_level0_row5\" class=\"row_heading level0 row5\" >5</th>\n",
              "      <td id=\"T_166c5_row5_col0\" class=\"data row5 col0\" >Transformed train set shape</td>\n",
              "      <td id=\"T_166c5_row5_col1\" class=\"data row5 col1\" >(419, 55)</td>\n",
              "    </tr>\n",
              "    <tr>\n",
              "      <th id=\"T_166c5_level0_row6\" class=\"row_heading level0 row6\" >6</th>\n",
              "      <td id=\"T_166c5_row6_col0\" class=\"data row6 col0\" >Transformed test set shape</td>\n",
              "      <td id=\"T_166c5_row6_col1\" class=\"data row6 col1\" >(180, 55)</td>\n",
              "    </tr>\n",
              "    <tr>\n",
              "      <th id=\"T_166c5_level0_row7\" class=\"row_heading level0 row7\" >7</th>\n",
              "      <td id=\"T_166c5_row7_col0\" class=\"data row7 col0\" >Numeric features</td>\n",
              "      <td id=\"T_166c5_row7_col1\" class=\"data row7 col1\" >5</td>\n",
              "    </tr>\n",
              "    <tr>\n",
              "      <th id=\"T_166c5_level0_row8\" class=\"row_heading level0 row8\" >8</th>\n",
              "      <td id=\"T_166c5_row8_col0\" class=\"data row8 col0\" >Preprocess</td>\n",
              "      <td id=\"T_166c5_row8_col1\" class=\"data row8 col1\" >True</td>\n",
              "    </tr>\n",
              "    <tr>\n",
              "      <th id=\"T_166c5_level0_row9\" class=\"row_heading level0 row9\" >9</th>\n",
              "      <td id=\"T_166c5_row9_col0\" class=\"data row9 col0\" >Imputation type</td>\n",
              "      <td id=\"T_166c5_row9_col1\" class=\"data row9 col1\" >simple</td>\n",
              "    </tr>\n",
              "    <tr>\n",
              "      <th id=\"T_166c5_level0_row10\" class=\"row_heading level0 row10\" >10</th>\n",
              "      <td id=\"T_166c5_row10_col0\" class=\"data row10 col0\" >Numeric imputation</td>\n",
              "      <td id=\"T_166c5_row10_col1\" class=\"data row10 col1\" >mean</td>\n",
              "    </tr>\n",
              "    <tr>\n",
              "      <th id=\"T_166c5_level0_row11\" class=\"row_heading level0 row11\" >11</th>\n",
              "      <td id=\"T_166c5_row11_col0\" class=\"data row11 col0\" >Categorical imputation</td>\n",
              "      <td id=\"T_166c5_row11_col1\" class=\"data row11 col1\" >mode</td>\n",
              "    </tr>\n",
              "    <tr>\n",
              "      <th id=\"T_166c5_level0_row12\" class=\"row_heading level0 row12\" >12</th>\n",
              "      <td id=\"T_166c5_row12_col0\" class=\"data row12 col0\" >Normalize</td>\n",
              "      <td id=\"T_166c5_row12_col1\" class=\"data row12 col1\" >True</td>\n",
              "    </tr>\n",
              "    <tr>\n",
              "      <th id=\"T_166c5_level0_row13\" class=\"row_heading level0 row13\" >13</th>\n",
              "      <td id=\"T_166c5_row13_col0\" class=\"data row13 col0\" >Normalize method</td>\n",
              "      <td id=\"T_166c5_row13_col1\" class=\"data row13 col1\" >zscore</td>\n",
              "    </tr>\n",
              "    <tr>\n",
              "      <th id=\"T_166c5_level0_row14\" class=\"row_heading level0 row14\" >14</th>\n",
              "      <td id=\"T_166c5_row14_col0\" class=\"data row14 col0\" >Fold Generator</td>\n",
              "      <td id=\"T_166c5_row14_col1\" class=\"data row14 col1\" >KFold</td>\n",
              "    </tr>\n",
              "    <tr>\n",
              "      <th id=\"T_166c5_level0_row15\" class=\"row_heading level0 row15\" >15</th>\n",
              "      <td id=\"T_166c5_row15_col0\" class=\"data row15 col0\" >Fold Number</td>\n",
              "      <td id=\"T_166c5_row15_col1\" class=\"data row15 col1\" >10</td>\n",
              "    </tr>\n",
              "    <tr>\n",
              "      <th id=\"T_166c5_level0_row16\" class=\"row_heading level0 row16\" >16</th>\n",
              "      <td id=\"T_166c5_row16_col0\" class=\"data row16 col0\" >CPU Jobs</td>\n",
              "      <td id=\"T_166c5_row16_col1\" class=\"data row16 col1\" >-1</td>\n",
              "    </tr>\n",
              "    <tr>\n",
              "      <th id=\"T_166c5_level0_row17\" class=\"row_heading level0 row17\" >17</th>\n",
              "      <td id=\"T_166c5_row17_col0\" class=\"data row17 col0\" >Use GPU</td>\n",
              "      <td id=\"T_166c5_row17_col1\" class=\"data row17 col1\" >True</td>\n",
              "    </tr>\n",
              "    <tr>\n",
              "      <th id=\"T_166c5_level0_row18\" class=\"row_heading level0 row18\" >18</th>\n",
              "      <td id=\"T_166c5_row18_col0\" class=\"data row18 col0\" >Log Experiment</td>\n",
              "      <td id=\"T_166c5_row18_col1\" class=\"data row18 col1\" >False</td>\n",
              "    </tr>\n",
              "    <tr>\n",
              "      <th id=\"T_166c5_level0_row19\" class=\"row_heading level0 row19\" >19</th>\n",
              "      <td id=\"T_166c5_row19_col0\" class=\"data row19 col0\" >Experiment Name</td>\n",
              "      <td id=\"T_166c5_row19_col1\" class=\"data row19 col1\" >reg-default-name</td>\n",
              "    </tr>\n",
              "    <tr>\n",
              "      <th id=\"T_166c5_level0_row20\" class=\"row_heading level0 row20\" >20</th>\n",
              "      <td id=\"T_166c5_row20_col0\" class=\"data row20 col0\" >USI</td>\n",
              "      <td id=\"T_166c5_row20_col1\" class=\"data row20 col1\" >de5d</td>\n",
              "    </tr>\n",
              "  </tbody>\n",
              "</table>\n"
            ]
          },
          "metadata": {}
        },
        {
          "output_type": "stream",
          "name": "stdout",
          "text": [
            "[LightGBM] [Warning] There are no meaningful features which satisfy the provided configuration. Decreasing Dataset parameters min_data_in_bin or min_data_in_leaf and re-constructing Dataset might resolve this warning.\n",
            "[LightGBM] [Info] This is the GPU trainer!!\n",
            "[LightGBM] [Info] Total Bins 0\n",
            "[LightGBM] [Info] Number of data points in the train set: 2, number of used features: 0\n",
            "[LightGBM] [Warning] There are no meaningful features which satisfy the provided configuration. Decreasing Dataset parameters min_data_in_bin or min_data_in_leaf and re-constructing Dataset might resolve this warning.\n",
            "[LightGBM] [Warning] Using sparse features with CUDA is currently not supported.\n",
            "[LightGBM] [Warning] There are no meaningful features which satisfy the provided configuration. Decreasing Dataset parameters min_data_in_bin or min_data_in_leaf and re-constructing Dataset might resolve this warning.\n",
            "[LightGBM] [Info] This is the GPU trainer!!\n",
            "[LightGBM] [Info] Total Bins 0\n",
            "[LightGBM] [Info] Number of data points in the train set: 2, number of used features: 0\n",
            "[LightGBM] [Warning] There are no meaningful features which satisfy the provided configuration. Decreasing Dataset parameters min_data_in_bin or min_data_in_leaf and re-constructing Dataset might resolve this warning.\n",
            "[LightGBM] [Warning] Using sparse features with CUDA is currently not supported.\n"
          ]
        }
      ]
    },
    {
      "cell_type": "markdown",
      "source": [
        "###  모델 비교 및 선택"
      ],
      "metadata": {
        "id": "F-JN-XyU2rCA"
      }
    },
    {
      "cell_type": "code",
      "source": [
        "# 모델 비교 및 선택 : R2 를 기준으로\n",
        "top3 = compare_models(sort='RMSE', n_select=5, fold=5)"
      ],
      "metadata": {
        "colab": {
          "base_uri": "https://localhost:8080/",
          "height": 645,
          "referenced_widgets": [
            "47b84813c3eb48029e7a11fec8ea8fb7",
            "0b2953aa14be4196bb8f077808a4a9a3",
            "04540277764b4bdf8ad7c8783922964e",
            "d9f1ef8fab344602a07a5102e114f793",
            "b44d07822ab54f4aaa9e852deb92e16e",
            "7b7e510d59cb4e25b87b78a86ba8fe12",
            "b0ccabd715c94de4a5504404f0e20099",
            "46c74fa27b1e4337b7393698b6c36d66",
            "09cdd89cf1104b0a8425ede4182109d2",
            "84ec342e721a46098ceb7d14e76ff0ce",
            "cf51e78c6b074fa29b7eb901e52c2d25"
          ]
        },
        "id": "VP3CU1R-z_Zd",
        "outputId": "6607909f-1e69-4d9f-a8b8-52b250331052"
      },
      "execution_count": null,
      "outputs": [
        {
          "output_type": "display_data",
          "data": {
            "text/plain": [
              "<IPython.core.display.HTML object>"
            ],
            "text/html": []
          },
          "metadata": {}
        },
        {
          "output_type": "display_data",
          "data": {
            "text/plain": [
              "<pandas.io.formats.style.Styler at 0x7d843a520b50>"
            ],
            "text/html": [
              "<style type=\"text/css\">\n",
              "#T_71132 th {\n",
              "  text-align: left;\n",
              "}\n",
              "#T_71132_row0_col0, #T_71132_row1_col0, #T_71132_row1_col1, #T_71132_row1_col2, #T_71132_row1_col3, #T_71132_row1_col4, #T_71132_row1_col5, #T_71132_row1_col6, #T_71132_row2_col0, #T_71132_row2_col1, #T_71132_row2_col2, #T_71132_row2_col3, #T_71132_row2_col4, #T_71132_row2_col5, #T_71132_row2_col6, #T_71132_row3_col0, #T_71132_row3_col1, #T_71132_row3_col2, #T_71132_row3_col3, #T_71132_row3_col4, #T_71132_row3_col5, #T_71132_row3_col6, #T_71132_row4_col0, #T_71132_row4_col1, #T_71132_row4_col2, #T_71132_row4_col3, #T_71132_row4_col4, #T_71132_row4_col5, #T_71132_row4_col6, #T_71132_row5_col0, #T_71132_row5_col1, #T_71132_row5_col2, #T_71132_row5_col3, #T_71132_row5_col4, #T_71132_row5_col5, #T_71132_row5_col6, #T_71132_row6_col0, #T_71132_row6_col1, #T_71132_row6_col2, #T_71132_row6_col3, #T_71132_row6_col4, #T_71132_row6_col5, #T_71132_row6_col6, #T_71132_row7_col0, #T_71132_row7_col1, #T_71132_row7_col2, #T_71132_row7_col3, #T_71132_row7_col4, #T_71132_row7_col5, #T_71132_row7_col6, #T_71132_row8_col0, #T_71132_row8_col1, #T_71132_row8_col2, #T_71132_row8_col3, #T_71132_row8_col4, #T_71132_row8_col5, #T_71132_row8_col6, #T_71132_row9_col0, #T_71132_row9_col1, #T_71132_row9_col2, #T_71132_row9_col3, #T_71132_row9_col4, #T_71132_row9_col5, #T_71132_row9_col6, #T_71132_row10_col0, #T_71132_row10_col1, #T_71132_row10_col2, #T_71132_row10_col3, #T_71132_row10_col4, #T_71132_row10_col5, #T_71132_row10_col6, #T_71132_row11_col0, #T_71132_row11_col1, #T_71132_row11_col2, #T_71132_row11_col3, #T_71132_row11_col4, #T_71132_row11_col5, #T_71132_row11_col6, #T_71132_row12_col0, #T_71132_row12_col1, #T_71132_row12_col2, #T_71132_row12_col3, #T_71132_row12_col4, #T_71132_row12_col5, #T_71132_row12_col6, #T_71132_row13_col0, #T_71132_row13_col1, #T_71132_row13_col2, #T_71132_row13_col3, #T_71132_row13_col4, #T_71132_row13_col5, #T_71132_row13_col6, #T_71132_row14_col0, #T_71132_row14_col1, #T_71132_row14_col2, #T_71132_row14_col3, #T_71132_row14_col4, #T_71132_row14_col5, #T_71132_row14_col6, #T_71132_row15_col0, #T_71132_row15_col1, #T_71132_row15_col2, #T_71132_row15_col3, #T_71132_row15_col4, #T_71132_row15_col5, #T_71132_row15_col6, #T_71132_row16_col0, #T_71132_row16_col1, #T_71132_row16_col2, #T_71132_row16_col3, #T_71132_row16_col4, #T_71132_row16_col5, #T_71132_row16_col6, #T_71132_row17_col0, #T_71132_row17_col1, #T_71132_row17_col2, #T_71132_row17_col3, #T_71132_row17_col4, #T_71132_row17_col5, #T_71132_row17_col6, #T_71132_row18_col0, #T_71132_row18_col1, #T_71132_row18_col2, #T_71132_row18_col3, #T_71132_row18_col4, #T_71132_row18_col5, #T_71132_row18_col6 {\n",
              "  text-align: left;\n",
              "}\n",
              "#T_71132_row0_col1, #T_71132_row0_col2, #T_71132_row0_col3, #T_71132_row0_col4, #T_71132_row0_col5, #T_71132_row0_col6 {\n",
              "  text-align: left;\n",
              "  background-color: yellow;\n",
              "}\n",
              "#T_71132_row0_col7, #T_71132_row1_col7, #T_71132_row2_col7, #T_71132_row3_col7, #T_71132_row4_col7, #T_71132_row5_col7, #T_71132_row6_col7, #T_71132_row7_col7, #T_71132_row8_col7, #T_71132_row9_col7, #T_71132_row10_col7, #T_71132_row11_col7, #T_71132_row12_col7, #T_71132_row13_col7, #T_71132_row14_col7, #T_71132_row16_col7, #T_71132_row17_col7, #T_71132_row18_col7 {\n",
              "  text-align: left;\n",
              "  background-color: lightgrey;\n",
              "}\n",
              "#T_71132_row15_col7 {\n",
              "  text-align: left;\n",
              "  background-color: yellow;\n",
              "  background-color: lightgrey;\n",
              "}\n",
              "</style>\n",
              "<table id=\"T_71132\" class=\"dataframe\">\n",
              "  <thead>\n",
              "    <tr>\n",
              "      <th class=\"blank level0\" >&nbsp;</th>\n",
              "      <th id=\"T_71132_level0_col0\" class=\"col_heading level0 col0\" >Model</th>\n",
              "      <th id=\"T_71132_level0_col1\" class=\"col_heading level0 col1\" >MAE</th>\n",
              "      <th id=\"T_71132_level0_col2\" class=\"col_heading level0 col2\" >MSE</th>\n",
              "      <th id=\"T_71132_level0_col3\" class=\"col_heading level0 col3\" >RMSE</th>\n",
              "      <th id=\"T_71132_level0_col4\" class=\"col_heading level0 col4\" >R2</th>\n",
              "      <th id=\"T_71132_level0_col5\" class=\"col_heading level0 col5\" >RMSLE</th>\n",
              "      <th id=\"T_71132_level0_col6\" class=\"col_heading level0 col6\" >MAPE</th>\n",
              "      <th id=\"T_71132_level0_col7\" class=\"col_heading level0 col7\" >TT (Sec)</th>\n",
              "    </tr>\n",
              "  </thead>\n",
              "  <tbody>\n",
              "    <tr>\n",
              "      <th id=\"T_71132_level0_row0\" class=\"row_heading level0 row0\" >et</th>\n",
              "      <td id=\"T_71132_row0_col0\" class=\"data row0 col0\" >Extra Trees Regressor</td>\n",
              "      <td id=\"T_71132_row0_col1\" class=\"data row0 col1\" >1.4105</td>\n",
              "      <td id=\"T_71132_row0_col2\" class=\"data row0 col2\" >3.5474</td>\n",
              "      <td id=\"T_71132_row0_col3\" class=\"data row0 col3\" >1.8805</td>\n",
              "      <td id=\"T_71132_row0_col4\" class=\"data row0 col4\" >0.6835</td>\n",
              "      <td id=\"T_71132_row0_col5\" class=\"data row0 col5\" >0.2134</td>\n",
              "      <td id=\"T_71132_row0_col6\" class=\"data row0 col6\" >0.1967</td>\n",
              "      <td id=\"T_71132_row0_col7\" class=\"data row0 col7\" >0.3700</td>\n",
              "    </tr>\n",
              "    <tr>\n",
              "      <th id=\"T_71132_level0_row1\" class=\"row_heading level0 row1\" >gbr</th>\n",
              "      <td id=\"T_71132_row1_col0\" class=\"data row1 col0\" >Gradient Boosting Regressor</td>\n",
              "      <td id=\"T_71132_row1_col1\" class=\"data row1 col1\" >1.4370</td>\n",
              "      <td id=\"T_71132_row1_col2\" class=\"data row1 col2\" >3.8749</td>\n",
              "      <td id=\"T_71132_row1_col3\" class=\"data row1 col3\" >1.9615</td>\n",
              "      <td id=\"T_71132_row1_col4\" class=\"data row1 col4\" >0.6541</td>\n",
              "      <td id=\"T_71132_row1_col5\" class=\"data row1 col5\" >0.2191</td>\n",
              "      <td id=\"T_71132_row1_col6\" class=\"data row1 col6\" >0.1977</td>\n",
              "      <td id=\"T_71132_row1_col7\" class=\"data row1 col7\" >0.1700</td>\n",
              "    </tr>\n",
              "    <tr>\n",
              "      <th id=\"T_71132_level0_row2\" class=\"row_heading level0 row2\" >rf</th>\n",
              "      <td id=\"T_71132_row2_col0\" class=\"data row2 col0\" >Random Forest Regressor</td>\n",
              "      <td id=\"T_71132_row2_col1\" class=\"data row2 col1\" >1.4632</td>\n",
              "      <td id=\"T_71132_row2_col2\" class=\"data row2 col2\" >3.9465</td>\n",
              "      <td id=\"T_71132_row2_col3\" class=\"data row2 col3\" >1.9807</td>\n",
              "      <td id=\"T_71132_row2_col4\" class=\"data row2 col4\" >0.6477</td>\n",
              "      <td id=\"T_71132_row2_col5\" class=\"data row2 col5\" >0.2189</td>\n",
              "      <td id=\"T_71132_row2_col6\" class=\"data row2 col6\" >0.2002</td>\n",
              "      <td id=\"T_71132_row2_col7\" class=\"data row2 col7\" >0.3800</td>\n",
              "    </tr>\n",
              "    <tr>\n",
              "      <th id=\"T_71132_level0_row3\" class=\"row_heading level0 row3\" >br</th>\n",
              "      <td id=\"T_71132_row3_col0\" class=\"data row3 col0\" >Bayesian Ridge</td>\n",
              "      <td id=\"T_71132_row3_col1\" class=\"data row3 col1\" >1.5642</td>\n",
              "      <td id=\"T_71132_row3_col2\" class=\"data row3 col2\" >4.0541</td>\n",
              "      <td id=\"T_71132_row3_col3\" class=\"data row3 col3\" >2.0079</td>\n",
              "      <td id=\"T_71132_row3_col4\" class=\"data row3 col4\" >0.6386</td>\n",
              "      <td id=\"T_71132_row3_col5\" class=\"data row3 col5\" >0.2213</td>\n",
              "      <td id=\"T_71132_row3_col6\" class=\"data row3 col6\" >0.2085</td>\n",
              "      <td id=\"T_71132_row3_col7\" class=\"data row3 col7\" >0.1340</td>\n",
              "    </tr>\n",
              "    <tr>\n",
              "      <th id=\"T_71132_level0_row4\" class=\"row_heading level0 row4\" >huber</th>\n",
              "      <td id=\"T_71132_row4_col0\" class=\"data row4 col0\" >Huber Regressor</td>\n",
              "      <td id=\"T_71132_row4_col1\" class=\"data row4 col1\" >1.5771</td>\n",
              "      <td id=\"T_71132_row4_col2\" class=\"data row4 col2\" >4.1272</td>\n",
              "      <td id=\"T_71132_row4_col3\" class=\"data row4 col3\" >2.0252</td>\n",
              "      <td id=\"T_71132_row4_col4\" class=\"data row4 col4\" >0.6324</td>\n",
              "      <td id=\"T_71132_row4_col5\" class=\"data row4 col5\" >0.2195</td>\n",
              "      <td id=\"T_71132_row4_col6\" class=\"data row4 col6\" >0.2050</td>\n",
              "      <td id=\"T_71132_row4_col7\" class=\"data row4 col7\" >0.1580</td>\n",
              "    </tr>\n",
              "    <tr>\n",
              "      <th id=\"T_71132_level0_row5\" class=\"row_heading level0 row5\" >ridge</th>\n",
              "      <td id=\"T_71132_row5_col0\" class=\"data row5 col0\" >Ridge Regression</td>\n",
              "      <td id=\"T_71132_row5_col1\" class=\"data row5 col1\" >1.5700</td>\n",
              "      <td id=\"T_71132_row5_col2\" class=\"data row5 col2\" >4.1480</td>\n",
              "      <td id=\"T_71132_row5_col3\" class=\"data row5 col3\" >2.0291</td>\n",
              "      <td id=\"T_71132_row5_col4\" class=\"data row5 col4\" >0.6304</td>\n",
              "      <td id=\"T_71132_row5_col5\" class=\"data row5 col5\" >0.2212</td>\n",
              "      <td id=\"T_71132_row5_col6\" class=\"data row5 col6\" >0.2058</td>\n",
              "      <td id=\"T_71132_row5_col7\" class=\"data row5 col7\" >0.0620</td>\n",
              "    </tr>\n",
              "    <tr>\n",
              "      <th id=\"T_71132_level0_row6\" class=\"row_heading level0 row6\" >lightgbm</th>\n",
              "      <td id=\"T_71132_row6_col0\" class=\"data row6 col0\" >Light Gradient Boosting Machine</td>\n",
              "      <td id=\"T_71132_row6_col1\" class=\"data row6 col1\" >1.5444</td>\n",
              "      <td id=\"T_71132_row6_col2\" class=\"data row6 col2\" >4.1931</td>\n",
              "      <td id=\"T_71132_row6_col3\" class=\"data row6 col3\" >2.0431</td>\n",
              "      <td id=\"T_71132_row6_col4\" class=\"data row6 col4\" >0.6248</td>\n",
              "      <td id=\"T_71132_row6_col5\" class=\"data row6 col5\" >0.2278</td>\n",
              "      <td id=\"T_71132_row6_col6\" class=\"data row6 col6\" >0.2114</td>\n",
              "      <td id=\"T_71132_row6_col7\" class=\"data row6 col7\" >0.0900</td>\n",
              "    </tr>\n",
              "    <tr>\n",
              "      <th id=\"T_71132_level0_row7\" class=\"row_heading level0 row7\" >lar</th>\n",
              "      <td id=\"T_71132_row7_col0\" class=\"data row7 col0\" >Least Angle Regression</td>\n",
              "      <td id=\"T_71132_row7_col1\" class=\"data row7 col1\" >1.6311</td>\n",
              "      <td id=\"T_71132_row7_col2\" class=\"data row7 col2\" >4.3907</td>\n",
              "      <td id=\"T_71132_row7_col3\" class=\"data row7 col3\" >2.0902</td>\n",
              "      <td id=\"T_71132_row7_col4\" class=\"data row7 col4\" >0.6078</td>\n",
              "      <td id=\"T_71132_row7_col5\" class=\"data row7 col5\" >0.2279</td>\n",
              "      <td id=\"T_71132_row7_col6\" class=\"data row7 col6\" >0.2105</td>\n",
              "      <td id=\"T_71132_row7_col7\" class=\"data row7 col7\" >0.0800</td>\n",
              "    </tr>\n",
              "    <tr>\n",
              "      <th id=\"T_71132_level0_row8\" class=\"row_heading level0 row8\" >xgboost</th>\n",
              "      <td id=\"T_71132_row8_col0\" class=\"data row8 col0\" >Extreme Gradient Boosting</td>\n",
              "      <td id=\"T_71132_row8_col1\" class=\"data row8 col1\" >1.5870</td>\n",
              "      <td id=\"T_71132_row8_col2\" class=\"data row8 col2\" >4.5049</td>\n",
              "      <td id=\"T_71132_row8_col3\" class=\"data row8 col3\" >2.1217</td>\n",
              "      <td id=\"T_71132_row8_col4\" class=\"data row8 col4\" >0.5975</td>\n",
              "      <td id=\"T_71132_row8_col5\" class=\"data row8 col5\" >0.2397</td>\n",
              "      <td id=\"T_71132_row8_col6\" class=\"data row8 col6\" >0.2177</td>\n",
              "      <td id=\"T_71132_row8_col7\" class=\"data row8 col7\" >0.2060</td>\n",
              "    </tr>\n",
              "    <tr>\n",
              "      <th id=\"T_71132_level0_row9\" class=\"row_heading level0 row9\" >omp</th>\n",
              "      <td id=\"T_71132_row9_col0\" class=\"data row9 col0\" >Orthogonal Matching Pursuit</td>\n",
              "      <td id=\"T_71132_row9_col1\" class=\"data row9 col1\" >1.6650</td>\n",
              "      <td id=\"T_71132_row9_col2\" class=\"data row9 col2\" >4.5912</td>\n",
              "      <td id=\"T_71132_row9_col3\" class=\"data row9 col3\" >2.1373</td>\n",
              "      <td id=\"T_71132_row9_col4\" class=\"data row9 col4\" >0.5906</td>\n",
              "      <td id=\"T_71132_row9_col5\" class=\"data row9 col5\" >0.2286</td>\n",
              "      <td id=\"T_71132_row9_col6\" class=\"data row9 col6\" >0.2174</td>\n",
              "      <td id=\"T_71132_row9_col7\" class=\"data row9 col7\" >0.1200</td>\n",
              "    </tr>\n",
              "    <tr>\n",
              "      <th id=\"T_71132_level0_row10\" class=\"row_heading level0 row10\" >ada</th>\n",
              "      <td id=\"T_71132_row10_col0\" class=\"data row10 col0\" >AdaBoost Regressor</td>\n",
              "      <td id=\"T_71132_row10_col1\" class=\"data row10 col1\" >1.6378</td>\n",
              "      <td id=\"T_71132_row10_col2\" class=\"data row10 col2\" >4.6102</td>\n",
              "      <td id=\"T_71132_row10_col3\" class=\"data row10 col3\" >2.1389</td>\n",
              "      <td id=\"T_71132_row10_col4\" class=\"data row10 col4\" >0.5881</td>\n",
              "      <td id=\"T_71132_row10_col5\" class=\"data row10 col5\" >0.2343</td>\n",
              "      <td id=\"T_71132_row10_col6\" class=\"data row10 col6\" >0.2223</td>\n",
              "      <td id=\"T_71132_row10_col7\" class=\"data row10 col7\" >0.1660</td>\n",
              "    </tr>\n",
              "    <tr>\n",
              "      <th id=\"T_71132_level0_row11\" class=\"row_heading level0 row11\" >en</th>\n",
              "      <td id=\"T_71132_row11_col0\" class=\"data row11 col0\" >Elastic Net</td>\n",
              "      <td id=\"T_71132_row11_col1\" class=\"data row11 col1\" >1.9522</td>\n",
              "      <td id=\"T_71132_row11_col2\" class=\"data row11 col2\" >5.5719</td>\n",
              "      <td id=\"T_71132_row11_col3\" class=\"data row11 col3\" >2.3568</td>\n",
              "      <td id=\"T_71132_row11_col4\" class=\"data row11 col4\" >0.5015</td>\n",
              "      <td id=\"T_71132_row11_col5\" class=\"data row11 col5\" >0.2541</td>\n",
              "      <td id=\"T_71132_row11_col6\" class=\"data row11 col6\" >0.2680</td>\n",
              "      <td id=\"T_71132_row11_col7\" class=\"data row11 col7\" >0.0560</td>\n",
              "    </tr>\n",
              "    <tr>\n",
              "      <th id=\"T_71132_level0_row12\" class=\"row_heading level0 row12\" >lasso</th>\n",
              "      <td id=\"T_71132_row12_col0\" class=\"data row12 col0\" >Lasso Regression</td>\n",
              "      <td id=\"T_71132_row12_col1\" class=\"data row12 col1\" >1.9639</td>\n",
              "      <td id=\"T_71132_row12_col2\" class=\"data row12 col2\" >5.7293</td>\n",
              "      <td id=\"T_71132_row12_col3\" class=\"data row12 col3\" >2.3901</td>\n",
              "      <td id=\"T_71132_row12_col4\" class=\"data row12 col4\" >0.4876</td>\n",
              "      <td id=\"T_71132_row12_col5\" class=\"data row12 col5\" >0.2570</td>\n",
              "      <td id=\"T_71132_row12_col6\" class=\"data row12 col6\" >0.2699</td>\n",
              "      <td id=\"T_71132_row12_col7\" class=\"data row12 col7\" >0.0880</td>\n",
              "    </tr>\n",
              "    <tr>\n",
              "      <th id=\"T_71132_level0_row13\" class=\"row_heading level0 row13\" >llar</th>\n",
              "      <td id=\"T_71132_row13_col0\" class=\"data row13 col0\" >Lasso Least Angle Regression</td>\n",
              "      <td id=\"T_71132_row13_col1\" class=\"data row13 col1\" >1.9639</td>\n",
              "      <td id=\"T_71132_row13_col2\" class=\"data row13 col2\" >5.7293</td>\n",
              "      <td id=\"T_71132_row13_col3\" class=\"data row13 col3\" >2.3901</td>\n",
              "      <td id=\"T_71132_row13_col4\" class=\"data row13 col4\" >0.4876</td>\n",
              "      <td id=\"T_71132_row13_col5\" class=\"data row13 col5\" >0.2570</td>\n",
              "      <td id=\"T_71132_row13_col6\" class=\"data row13 col6\" >0.2699</td>\n",
              "      <td id=\"T_71132_row13_col7\" class=\"data row13 col7\" >0.1260</td>\n",
              "    </tr>\n",
              "    <tr>\n",
              "      <th id=\"T_71132_level0_row14\" class=\"row_heading level0 row14\" >par</th>\n",
              "      <td id=\"T_71132_row14_col0\" class=\"data row14 col0\" >Passive Aggressive Regressor</td>\n",
              "      <td id=\"T_71132_row14_col1\" class=\"data row14 col1\" >2.0090</td>\n",
              "      <td id=\"T_71132_row14_col2\" class=\"data row14 col2\" >6.4813</td>\n",
              "      <td id=\"T_71132_row14_col3\" class=\"data row14 col3\" >2.5342</td>\n",
              "      <td id=\"T_71132_row14_col4\" class=\"data row14 col4\" >0.4157</td>\n",
              "      <td id=\"T_71132_row14_col5\" class=\"data row14 col5\" >0.2981</td>\n",
              "      <td id=\"T_71132_row14_col6\" class=\"data row14 col6\" >0.2401</td>\n",
              "      <td id=\"T_71132_row14_col7\" class=\"data row14 col7\" >0.0700</td>\n",
              "    </tr>\n",
              "    <tr>\n",
              "      <th id=\"T_71132_level0_row15\" class=\"row_heading level0 row15\" >knn</th>\n",
              "      <td id=\"T_71132_row15_col0\" class=\"data row15 col0\" >K Neighbors Regressor</td>\n",
              "      <td id=\"T_71132_row15_col1\" class=\"data row15 col1\" >2.0354</td>\n",
              "      <td id=\"T_71132_row15_col2\" class=\"data row15 col2\" >6.5397</td>\n",
              "      <td id=\"T_71132_row15_col3\" class=\"data row15 col3\" >2.5553</td>\n",
              "      <td id=\"T_71132_row15_col4\" class=\"data row15 col4\" >0.4137</td>\n",
              "      <td id=\"T_71132_row15_col5\" class=\"data row15 col5\" >0.2630</td>\n",
              "      <td id=\"T_71132_row15_col6\" class=\"data row15 col6\" >0.2546</td>\n",
              "      <td id=\"T_71132_row15_col7\" class=\"data row15 col7\" >0.0440</td>\n",
              "    </tr>\n",
              "    <tr>\n",
              "      <th id=\"T_71132_level0_row16\" class=\"row_heading level0 row16\" >dt</th>\n",
              "      <td id=\"T_71132_row16_col0\" class=\"data row16 col0\" >Decision Tree Regressor</td>\n",
              "      <td id=\"T_71132_row16_col1\" class=\"data row16 col1\" >1.9293</td>\n",
              "      <td id=\"T_71132_row16_col2\" class=\"data row16 col2\" >7.1834</td>\n",
              "      <td id=\"T_71132_row16_col3\" class=\"data row16 col3\" >2.6627</td>\n",
              "      <td id=\"T_71132_row16_col4\" class=\"data row16 col4\" >0.3610</td>\n",
              "      <td id=\"T_71132_row16_col5\" class=\"data row16 col5\" >0.2834</td>\n",
              "      <td id=\"T_71132_row16_col6\" class=\"data row16 col6\" >0.2470</td>\n",
              "      <td id=\"T_71132_row16_col7\" class=\"data row16 col7\" >0.0500</td>\n",
              "    </tr>\n",
              "    <tr>\n",
              "      <th id=\"T_71132_level0_row17\" class=\"row_heading level0 row17\" >dummy</th>\n",
              "      <td id=\"T_71132_row17_col0\" class=\"data row17 col0\" >Dummy Regressor</td>\n",
              "      <td id=\"T_71132_row17_col1\" class=\"data row17 col1\" >2.9243</td>\n",
              "      <td id=\"T_71132_row17_col2\" class=\"data row17 col2\" >11.3100</td>\n",
              "      <td id=\"T_71132_row17_col3\" class=\"data row17 col3\" >3.3619</td>\n",
              "      <td id=\"T_71132_row17_col4\" class=\"data row17 col4\" >-0.0099</td>\n",
              "      <td id=\"T_71132_row17_col5\" class=\"data row17 col5\" >0.3357</td>\n",
              "      <td id=\"T_71132_row17_col6\" class=\"data row17 col6\" >0.3808</td>\n",
              "      <td id=\"T_71132_row17_col7\" class=\"data row17 col7\" >0.0580</td>\n",
              "    </tr>\n",
              "    <tr>\n",
              "      <th id=\"T_71132_level0_row18\" class=\"row_heading level0 row18\" >lr</th>\n",
              "      <td id=\"T_71132_row18_col0\" class=\"data row18 col0\" >Linear Regression</td>\n",
              "      <td id=\"T_71132_row18_col1\" class=\"data row18 col1\" >12221408093.5784</td>\n",
              "      <td id=\"T_71132_row18_col2\" class=\"data row18 col2\" >62732382615551879413760.0000</td>\n",
              "      <td id=\"T_71132_row18_col3\" class=\"data row18 col3\" >112011055362.6996</td>\n",
              "      <td id=\"T_71132_row18_col4\" class=\"data row18 col4\" >-5110742516115454296064.0000</td>\n",
              "      <td id=\"T_71132_row18_col5\" class=\"data row18 col5\" >0.7616</td>\n",
              "      <td id=\"T_71132_row18_col6\" class=\"data row18 col6\" >1216599042.6058</td>\n",
              "      <td id=\"T_71132_row18_col7\" class=\"data row18 col7\" >0.1280</td>\n",
              "    </tr>\n",
              "  </tbody>\n",
              "</table>\n"
            ]
          },
          "metadata": {}
        },
        {
          "output_type": "display_data",
          "data": {
            "text/plain": [
              "Processing:   0%|          | 0/85 [00:00<?, ?it/s]"
            ],
            "application/vnd.jupyter.widget-view+json": {
              "version_major": 2,
              "version_minor": 0,
              "model_id": "47b84813c3eb48029e7a11fec8ea8fb7"
            }
          },
          "metadata": {
            "application/vnd.jupyter.widget-view+json": {
              "colab": {
                "custom_widget_manager": {
                  "url": "https://ssl.gstatic.com/colaboratory-static/widgets/colab-cdn-widget-manager/2b70e893a8ba7c0f/manager.min.js"
                }
              }
            }
          }
        },
        {
          "output_type": "display_data",
          "data": {
            "text/plain": [
              "<IPython.core.display.HTML object>"
            ],
            "text/html": []
          },
          "metadata": {}
        }
      ]
    },
    {
      "cell_type": "markdown",
      "source": [
        "-> et, gbr, rf, br 순으로 좋은 성능"
      ],
      "metadata": {
        "id": "oqn28pOo3OTN"
      }
    },
    {
      "cell_type": "markdown",
      "source": [
        "# 모델 적용"
      ],
      "metadata": {
        "id": "WBlwcIhxVyEb"
      }
    },
    {
      "cell_type": "markdown",
      "source": [
        "## 1. ExtraTreesRegressor"
      ],
      "metadata": {
        "id": "IO0WZKdDV02D"
      }
    },
    {
      "cell_type": "code",
      "source": [
        "import pandas as pd\n",
        "from sklearn.ensemble import ExtraTreesRegressor\n",
        "from sklearn.model_selection import train_test_split, GridSearchCV\n",
        "from sklearn.metrics import mean_squared_error\n",
        "import numpy as np"
      ],
      "metadata": {
        "id": "bYFKkRkAV1vE"
      },
      "execution_count": null,
      "outputs": []
    },
    {
      "cell_type": "code",
      "source": [
        "X = train.drop(columns=['box_off_num'])\n",
        "y = train['box_off_num']\n",
        "X_train, X_val, y_train, y_val = train_test_split(X, y, test_size=0.2, random_state=42)"
      ],
      "metadata": {
        "id": "RmHuzbJXWBGh"
      },
      "execution_count": null,
      "outputs": []
    },
    {
      "cell_type": "code",
      "source": [
        "# Extra Trees 회귀 모델\n",
        "et = ExtraTreesRegressor(random_state=42)\n",
        "\n",
        "params = {\n",
        "    'n_estimators': [50, 100, 200],\n",
        "    'max_depth': [None, 10, 20, 30],\n",
        "    'min_samples_split': [2, 5, 10],\n",
        "    'min_samples_leaf': [1, 2, 4],\n",
        "    'bootstrap': [True, False]\n",
        "}\n",
        "gridcv = GridSearchCV(et, param_grid=params, scoring='neg_mean_squared_error', cv=5, n_jobs=-1)\n",
        "gridcv.fit(X_train, y_train)\n",
        "\n",
        "print(f\"Best Parameters: {gridcv.best_params_}\")"
      ],
      "metadata": {
        "colab": {
          "base_uri": "https://localhost:8080/"
        },
        "id": "-exrSYvQWDIr",
        "outputId": "c931456b-c9f5-4d9f-d8d4-349cbf6bfdac"
      },
      "execution_count": null,
      "outputs": [
        {
          "output_type": "stream",
          "name": "stdout",
          "text": [
            "Best Parameters: {'bootstrap': False, 'max_depth': 10, 'min_samples_leaf': 2, 'min_samples_split': 10, 'n_estimators': 200}\n"
          ]
        }
      ]
    },
    {
      "cell_type": "code",
      "source": [
        "# Validation 데이터 평가\n",
        "et_best = gridcv.best_estimator_\n",
        "y_pred_val = et_best.predict(X_val)\n",
        "val_rmse = np.sqrt(mean_squared_error(y_val, y_pred_val))\n",
        "print(f\"Validation RMSE: {val_rmse}\")\n",
        "\n",
        "# 테스트 데이터에 대한 예측 (타겟 없는 데이터)\n",
        "test_pred = et_best.predict(test)\n",
        "test_pred_original = np.expm1(test_pred)  # 로그 변환된 타겟을 원래 값으로 변환\n",
        "\n",
        "# 제출\n",
        "submission['box_off_num'] = test_pred_original\n",
        "submission.to_csv('et_submission.csv', index=False)"
      ],
      "metadata": {
        "colab": {
          "base_uri": "https://localhost:8080/"
        },
        "id": "AsCauXmoWFGR",
        "outputId": "804abb08-c64a-4329-eca9-e95c28813cae"
      },
      "execution_count": null,
      "outputs": [
        {
          "output_type": "stream",
          "name": "stdout",
          "text": [
            "Validation RMSE: 1.7267616308208587\n"
          ]
        }
      ]
    },
    {
      "cell_type": "markdown",
      "source": [
        "## 2. Gradient Boost Regressor"
      ],
      "metadata": {
        "id": "tn99SRfrWI2j"
      }
    },
    {
      "cell_type": "code",
      "source": [
        "# feature 값과 target 값 분리\n",
        "X = train.drop(columns=['box_off_num'])\n",
        "y = train['box_off_num']"
      ],
      "metadata": {
        "id": "AyI1aGMHWMdC"
      },
      "execution_count": null,
      "outputs": []
    },
    {
      "cell_type": "code",
      "source": [
        "# test 데이터에는 정답이 없으므로 train 데이터를 split하여 성능 평가\n",
        "from sklearn.model_selection import train_test_split\n",
        "X_train, X_val, y_train, y_val = train_test_split(X, y, test_size=0.2)"
      ],
      "metadata": {
        "id": "9HsCD-xzWQGW"
      },
      "execution_count": null,
      "outputs": []
    },
    {
      "cell_type": "code",
      "source": [
        "# 파라미터 튜닝 없이 모델 학습/예측/평가\n",
        "from sklearn.ensemble import GradientBoostingRegressor\n",
        "from sklearn.metrics import accuracy_score, mean_squared_error\n",
        "\n",
        "# 모델 생성/학습\n",
        "gb_reg = GradientBoostingRegressor(random_state=0, n_estimators=1000) # seed : 위에 global하게 설정한 것보다 0이 더 좋은 결과\n",
        "gb_reg.fit(X_train,y_train)\n",
        "\n",
        "# 예측값 추출\n",
        "pred0 = gb_reg.predict(X_val)\n",
        "\n",
        "# 평가 (RMSE)\n",
        "rmse = np.sqrt(mean_squared_error(y_val, pred0))\n",
        "print('파라미터 튜닝 없는 gbr RMSE: {0:.4f}'.format(rmse))"
      ],
      "metadata": {
        "colab": {
          "base_uri": "https://localhost:8080/"
        },
        "id": "sn4OPRQeWRpV",
        "outputId": "d063228c-13fd-45eb-b0eb-e32c6a6457f6"
      },
      "execution_count": null,
      "outputs": [
        {
          "output_type": "stream",
          "name": "stdout",
          "text": [
            "파라미터 튜닝 없는 gbr RMSE: 1.8814\n"
          ]
        }
      ]
    },
    {
      "cell_type": "code",
      "source": [
        "# 파라미터 튜닝 없이 교차  (2.1778)\n",
        "from sklearn.model_selection import cross_val_score\n",
        "\n",
        "neg_mse_scores = cross_val_score(gb_reg, X, y, cv=5, scoring='neg_mean_squared_error')\n",
        "rmse_scores = np.sqrt(-1*neg_mse_scores)\n",
        "avg_rmse = np.mean(rmse_scores)\n",
        "\n",
        "print('5 folds의 개별 Negative MSE scores:', np.round(neg_mse_scores,2))\n",
        "print('5 folds의 RMSE scores:', np.round(rmse_scores,2))\n",
        "print('5 folds의 평균 RMSE:', np.round(avg_rmse,4))"
      ],
      "metadata": {
        "colab": {
          "base_uri": "https://localhost:8080/"
        },
        "id": "MOLPQPXkWS1Z",
        "outputId": "d2714f95-0904-4b92-b6d3-4978a422e6c3"
      },
      "execution_count": null,
      "outputs": [
        {
          "output_type": "stream",
          "name": "stdout",
          "text": [
            "5 folds의 개별 Negative MSE scores: [-5.08 -4.74 -5.08 -4.18 -4.3 ]\n",
            "5 folds의 RMSE scores: [2.25 2.18 2.25 2.04 2.07]\n",
            "5 folds의 평균 RMSE: 2.1609\n"
          ]
        }
      ]
    },
    {
      "cell_type": "code",
      "source": [
        "# 하이퍼 파라미터 튜닝\n",
        "from sklearn.model_selection import KFold\n",
        "model = GradientBoostingRegressor()\n",
        "\n",
        "grid = dict()\n",
        "grid['n_estimators'] = [100, 500, 1000, 1500]\n",
        "grid['learning_rate'] = [0.01, 0.05, 0.1, 0.5, 1.0]\n",
        "grid['subsample'] = [0.5, 0.7, 1.0]\n",
        "grid['max_depth'] = [None, 3, 7, 9]\n",
        "\n",
        "# define the evaluation procedure\n",
        "cv = KFold(n_splits=5)\n",
        "\n",
        "# define the grid search procedure\n",
        "grid_search = GridSearchCV(estimator=model, param_grid=grid, n_jobs=-1, cv=cv, scoring='neg_mean_squared_error')\n",
        "\n",
        "# execute the grid search\n",
        "grid_result = grid_search.fit(X, y)\n",
        "\n",
        "# summarize the best score and configuration\n",
        "print(\"Best: %f using %s\" % (grid_result.best_score_, grid_result.best_params_)) # summarize all scores that were evaluated\n",
        "means = grid_result.cv_results_['mean_test_score']\n",
        "stds = grid_result.cv_results_['std_test_score']\n",
        "params = grid_result.cv_results_['params']\n",
        "for mean, stdev, param in zip(means, stds, params):\n",
        "    print(\"%f (%f) with: %r\" % (mean, stdev, param))"
      ],
      "metadata": {
        "colab": {
          "base_uri": "https://localhost:8080/"
        },
        "id": "x-lurGRjWUXx",
        "outputId": "9621172b-3b62-4a6d-a6a9-c2aa5eabc9f6"
      },
      "execution_count": null,
      "outputs": [
        {
          "output_type": "stream",
          "name": "stdout",
          "text": [
            "Best: -3.464563 using {'learning_rate': 0.01, 'max_depth': 3, 'n_estimators': 500, 'subsample': 0.7}\n",
            "-4.896832 (0.830826) with: {'learning_rate': 0.01, 'max_depth': None, 'n_estimators': 100, 'subsample': 0.5}\n",
            "-4.892587 (0.771161) with: {'learning_rate': 0.01, 'max_depth': None, 'n_estimators': 100, 'subsample': 0.7}\n",
            "-5.904546 (0.756555) with: {'learning_rate': 0.01, 'max_depth': None, 'n_estimators': 100, 'subsample': 1.0}\n",
            "-3.512414 (0.649651) with: {'learning_rate': 0.01, 'max_depth': None, 'n_estimators': 500, 'subsample': 0.5}\n",
            "-3.608220 (0.531412) with: {'learning_rate': 0.01, 'max_depth': None, 'n_estimators': 500, 'subsample': 0.7}\n",
            "-6.135563 (0.699156) with: {'learning_rate': 0.01, 'max_depth': None, 'n_estimators': 500, 'subsample': 1.0}\n",
            "-3.601415 (0.536815) with: {'learning_rate': 0.01, 'max_depth': None, 'n_estimators': 1000, 'subsample': 0.5}\n",
            "-3.708907 (0.553081) with: {'learning_rate': 0.01, 'max_depth': None, 'n_estimators': 1000, 'subsample': 0.7}\n",
            "-6.155114 (0.706326) with: {'learning_rate': 0.01, 'max_depth': None, 'n_estimators': 1000, 'subsample': 1.0}\n",
            "-3.567521 (0.627780) with: {'learning_rate': 0.01, 'max_depth': None, 'n_estimators': 1500, 'subsample': 0.5}\n",
            "-3.677259 (0.593130) with: {'learning_rate': 0.01, 'max_depth': None, 'n_estimators': 1500, 'subsample': 0.7}\n",
            "-6.178223 (0.711239) with: {'learning_rate': 0.01, 'max_depth': None, 'n_estimators': 1500, 'subsample': 1.0}\n",
            "-5.252953 (0.744962) with: {'learning_rate': 0.01, 'max_depth': 3, 'n_estimators': 100, 'subsample': 0.5}\n",
            "-5.262678 (0.806792) with: {'learning_rate': 0.01, 'max_depth': 3, 'n_estimators': 100, 'subsample': 0.7}\n",
            "-5.369647 (0.892657) with: {'learning_rate': 0.01, 'max_depth': 3, 'n_estimators': 100, 'subsample': 1.0}\n",
            "-3.507153 (0.474711) with: {'learning_rate': 0.01, 'max_depth': 3, 'n_estimators': 500, 'subsample': 0.5}\n",
            "-3.464563 (0.485894) with: {'learning_rate': 0.01, 'max_depth': 3, 'n_estimators': 500, 'subsample': 0.7}\n",
            "-3.649480 (0.313990) with: {'learning_rate': 0.01, 'max_depth': 3, 'n_estimators': 500, 'subsample': 1.0}\n",
            "-3.510126 (0.422727) with: {'learning_rate': 0.01, 'max_depth': 3, 'n_estimators': 1000, 'subsample': 0.5}\n",
            "-3.587531 (0.290909) with: {'learning_rate': 0.01, 'max_depth': 3, 'n_estimators': 1000, 'subsample': 0.7}\n",
            "-3.763531 (0.309742) with: {'learning_rate': 0.01, 'max_depth': 3, 'n_estimators': 1000, 'subsample': 1.0}\n",
            "-3.733726 (0.226865) with: {'learning_rate': 0.01, 'max_depth': 3, 'n_estimators': 1500, 'subsample': 0.5}\n",
            "-3.673643 (0.338685) with: {'learning_rate': 0.01, 'max_depth': 3, 'n_estimators': 1500, 'subsample': 0.7}\n",
            "-3.847704 (0.360522) with: {'learning_rate': 0.01, 'max_depth': 3, 'n_estimators': 1500, 'subsample': 1.0}\n",
            "-4.930330 (0.734645) with: {'learning_rate': 0.01, 'max_depth': 7, 'n_estimators': 100, 'subsample': 0.5}\n",
            "-4.922438 (0.743106) with: {'learning_rate': 0.01, 'max_depth': 7, 'n_estimators': 100, 'subsample': 0.7}\n",
            "-4.985552 (0.725916) with: {'learning_rate': 0.01, 'max_depth': 7, 'n_estimators': 100, 'subsample': 1.0}\n",
            "-3.512874 (0.610810) with: {'learning_rate': 0.01, 'max_depth': 7, 'n_estimators': 500, 'subsample': 0.5}\n",
            "-3.523710 (0.589436) with: {'learning_rate': 0.01, 'max_depth': 7, 'n_estimators': 500, 'subsample': 0.7}\n",
            "-3.859295 (0.487614) with: {'learning_rate': 0.01, 'max_depth': 7, 'n_estimators': 500, 'subsample': 1.0}\n",
            "-3.555385 (0.627459) with: {'learning_rate': 0.01, 'max_depth': 7, 'n_estimators': 1000, 'subsample': 0.5}\n",
            "-3.585404 (0.645241) with: {'learning_rate': 0.01, 'max_depth': 7, 'n_estimators': 1000, 'subsample': 0.7}\n",
            "-3.902059 (0.545467) with: {'learning_rate': 0.01, 'max_depth': 7, 'n_estimators': 1000, 'subsample': 1.0}\n",
            "-3.566342 (0.583741) with: {'learning_rate': 0.01, 'max_depth': 7, 'n_estimators': 1500, 'subsample': 0.5}\n",
            "-3.627166 (0.696646) with: {'learning_rate': 0.01, 'max_depth': 7, 'n_estimators': 1500, 'subsample': 0.7}\n",
            "-3.928253 (0.536370) with: {'learning_rate': 0.01, 'max_depth': 7, 'n_estimators': 1500, 'subsample': 1.0}\n",
            "-4.766341 (0.661410) with: {'learning_rate': 0.01, 'max_depth': 9, 'n_estimators': 100, 'subsample': 0.5}\n",
            "-4.871420 (0.723819) with: {'learning_rate': 0.01, 'max_depth': 9, 'n_estimators': 100, 'subsample': 0.7}\n",
            "-5.091847 (0.744544) with: {'learning_rate': 0.01, 'max_depth': 9, 'n_estimators': 100, 'subsample': 1.0}\n",
            "-3.574538 (0.587155) with: {'learning_rate': 0.01, 'max_depth': 9, 'n_estimators': 500, 'subsample': 0.5}\n",
            "-3.633060 (0.555419) with: {'learning_rate': 0.01, 'max_depth': 9, 'n_estimators': 500, 'subsample': 0.7}\n",
            "-4.202613 (0.354483) with: {'learning_rate': 0.01, 'max_depth': 9, 'n_estimators': 500, 'subsample': 1.0}\n",
            "-3.531617 (0.571889) with: {'learning_rate': 0.01, 'max_depth': 9, 'n_estimators': 1000, 'subsample': 0.5}\n",
            "-3.583717 (0.624394) with: {'learning_rate': 0.01, 'max_depth': 9, 'n_estimators': 1000, 'subsample': 0.7}\n",
            "-4.220040 (0.364450) with: {'learning_rate': 0.01, 'max_depth': 9, 'n_estimators': 1000, 'subsample': 1.0}\n",
            "-3.616172 (0.626405) with: {'learning_rate': 0.01, 'max_depth': 9, 'n_estimators': 1500, 'subsample': 0.5}\n",
            "-3.590239 (0.622102) with: {'learning_rate': 0.01, 'max_depth': 9, 'n_estimators': 1500, 'subsample': 0.7}\n",
            "-4.239325 (0.377152) with: {'learning_rate': 0.01, 'max_depth': 9, 'n_estimators': 1500, 'subsample': 1.0}\n",
            "-3.653374 (0.606268) with: {'learning_rate': 0.05, 'max_depth': None, 'n_estimators': 100, 'subsample': 0.5}\n",
            "-3.643857 (0.593425) with: {'learning_rate': 0.05, 'max_depth': None, 'n_estimators': 100, 'subsample': 0.7}\n",
            "-6.209056 (0.715112) with: {'learning_rate': 0.05, 'max_depth': None, 'n_estimators': 100, 'subsample': 1.0}\n",
            "-3.863558 (0.552250) with: {'learning_rate': 0.05, 'max_depth': None, 'n_estimators': 500, 'subsample': 0.5}\n",
            "-3.862493 (0.535947) with: {'learning_rate': 0.05, 'max_depth': None, 'n_estimators': 500, 'subsample': 0.7}\n",
            "-6.194927 (0.676435) with: {'learning_rate': 0.05, 'max_depth': None, 'n_estimators': 500, 'subsample': 1.0}\n",
            "-3.758799 (0.578833) with: {'learning_rate': 0.05, 'max_depth': None, 'n_estimators': 1000, 'subsample': 0.5}\n",
            "-3.821495 (0.603452) with: {'learning_rate': 0.05, 'max_depth': None, 'n_estimators': 1000, 'subsample': 0.7}\n",
            "-6.240718 (0.727824) with: {'learning_rate': 0.05, 'max_depth': None, 'n_estimators': 1000, 'subsample': 1.0}\n",
            "-3.767853 (0.537744) with: {'learning_rate': 0.05, 'max_depth': None, 'n_estimators': 1500, 'subsample': 0.5}\n",
            "-3.885102 (0.605779) with: {'learning_rate': 0.05, 'max_depth': None, 'n_estimators': 1500, 'subsample': 0.7}\n",
            "-6.184642 (0.715298) with: {'learning_rate': 0.05, 'max_depth': None, 'n_estimators': 1500, 'subsample': 1.0}\n",
            "-3.496331 (0.499664) with: {'learning_rate': 0.05, 'max_depth': 3, 'n_estimators': 100, 'subsample': 0.5}\n",
            "-3.633507 (0.317292) with: {'learning_rate': 0.05, 'max_depth': 3, 'n_estimators': 100, 'subsample': 0.7}\n",
            "-3.686952 (0.350146) with: {'learning_rate': 0.05, 'max_depth': 3, 'n_estimators': 100, 'subsample': 1.0}\n",
            "-3.963174 (0.414182) with: {'learning_rate': 0.05, 'max_depth': 3, 'n_estimators': 500, 'subsample': 0.5}\n",
            "-3.960197 (0.169060) with: {'learning_rate': 0.05, 'max_depth': 3, 'n_estimators': 500, 'subsample': 0.7}\n",
            "-4.232530 (0.508037) with: {'learning_rate': 0.05, 'max_depth': 3, 'n_estimators': 500, 'subsample': 1.0}\n",
            "-4.327299 (0.359306) with: {'learning_rate': 0.05, 'max_depth': 3, 'n_estimators': 1000, 'subsample': 0.5}\n",
            "-4.082413 (0.650451) with: {'learning_rate': 0.05, 'max_depth': 3, 'n_estimators': 1000, 'subsample': 0.7}\n",
            "-4.623597 (0.603853) with: {'learning_rate': 0.05, 'max_depth': 3, 'n_estimators': 1000, 'subsample': 1.0}\n",
            "-4.339185 (0.277420) with: {'learning_rate': 0.05, 'max_depth': 3, 'n_estimators': 1500, 'subsample': 0.5}\n",
            "-4.400140 (0.234675) with: {'learning_rate': 0.05, 'max_depth': 3, 'n_estimators': 1500, 'subsample': 0.7}\n",
            "-4.899092 (0.706648) with: {'learning_rate': 0.05, 'max_depth': 3, 'n_estimators': 1500, 'subsample': 1.0}\n",
            "-3.540712 (0.663498) with: {'learning_rate': 0.05, 'max_depth': 7, 'n_estimators': 100, 'subsample': 0.5}\n",
            "-3.680881 (0.603352) with: {'learning_rate': 0.05, 'max_depth': 7, 'n_estimators': 100, 'subsample': 0.7}\n",
            "-3.909469 (0.536928) with: {'learning_rate': 0.05, 'max_depth': 7, 'n_estimators': 100, 'subsample': 1.0}\n",
            "-3.777389 (0.722960) with: {'learning_rate': 0.05, 'max_depth': 7, 'n_estimators': 500, 'subsample': 0.5}\n",
            "-3.722850 (0.569910) with: {'learning_rate': 0.05, 'max_depth': 7, 'n_estimators': 500, 'subsample': 0.7}\n",
            "-3.952945 (0.560521) with: {'learning_rate': 0.05, 'max_depth': 7, 'n_estimators': 500, 'subsample': 1.0}\n",
            "-3.800491 (0.672696) with: {'learning_rate': 0.05, 'max_depth': 7, 'n_estimators': 1000, 'subsample': 0.5}\n",
            "-3.710304 (0.653008) with: {'learning_rate': 0.05, 'max_depth': 7, 'n_estimators': 1000, 'subsample': 0.7}\n",
            "-3.997632 (0.592133) with: {'learning_rate': 0.05, 'max_depth': 7, 'n_estimators': 1000, 'subsample': 1.0}\n",
            "-3.615364 (0.695701) with: {'learning_rate': 0.05, 'max_depth': 7, 'n_estimators': 1500, 'subsample': 0.5}\n",
            "-3.638335 (0.640007) with: {'learning_rate': 0.05, 'max_depth': 7, 'n_estimators': 1500, 'subsample': 0.7}\n",
            "-3.954577 (0.555609) with: {'learning_rate': 0.05, 'max_depth': 7, 'n_estimators': 1500, 'subsample': 1.0}\n",
            "-3.643606 (0.650603) with: {'learning_rate': 0.05, 'max_depth': 9, 'n_estimators': 100, 'subsample': 0.5}\n",
            "-3.770602 (0.590529) with: {'learning_rate': 0.05, 'max_depth': 9, 'n_estimators': 100, 'subsample': 0.7}\n",
            "-4.215749 (0.390464) with: {'learning_rate': 0.05, 'max_depth': 9, 'n_estimators': 100, 'subsample': 1.0}\n",
            "-3.779827 (0.574700) with: {'learning_rate': 0.05, 'max_depth': 9, 'n_estimators': 500, 'subsample': 0.5}\n",
            "-3.725700 (0.710422) with: {'learning_rate': 0.05, 'max_depth': 9, 'n_estimators': 500, 'subsample': 0.7}\n",
            "-4.237151 (0.376850) with: {'learning_rate': 0.05, 'max_depth': 9, 'n_estimators': 500, 'subsample': 1.0}\n",
            "-3.718330 (0.476666) with: {'learning_rate': 0.05, 'max_depth': 9, 'n_estimators': 1000, 'subsample': 0.5}\n",
            "-3.533082 (0.577649) with: {'learning_rate': 0.05, 'max_depth': 9, 'n_estimators': 1000, 'subsample': 0.7}\n",
            "-4.214910 (0.356171) with: {'learning_rate': 0.05, 'max_depth': 9, 'n_estimators': 1000, 'subsample': 1.0}\n",
            "-3.581994 (0.604160) with: {'learning_rate': 0.05, 'max_depth': 9, 'n_estimators': 1500, 'subsample': 0.5}\n",
            "-3.683479 (0.684930) with: {'learning_rate': 0.05, 'max_depth': 9, 'n_estimators': 1500, 'subsample': 0.7}\n",
            "-4.239019 (0.399915) with: {'learning_rate': 0.05, 'max_depth': 9, 'n_estimators': 1500, 'subsample': 1.0}\n",
            "-3.913633 (0.489953) with: {'learning_rate': 0.1, 'max_depth': None, 'n_estimators': 100, 'subsample': 0.5}\n",
            "-3.670156 (0.740473) with: {'learning_rate': 0.1, 'max_depth': None, 'n_estimators': 100, 'subsample': 0.7}\n",
            "-6.189719 (0.737506) with: {'learning_rate': 0.1, 'max_depth': None, 'n_estimators': 100, 'subsample': 1.0}\n",
            "-3.814717 (0.641268) with: {'learning_rate': 0.1, 'max_depth': None, 'n_estimators': 500, 'subsample': 0.5}\n",
            "-3.761425 (0.600792) with: {'learning_rate': 0.1, 'max_depth': None, 'n_estimators': 500, 'subsample': 0.7}\n",
            "-6.204576 (0.707661) with: {'learning_rate': 0.1, 'max_depth': None, 'n_estimators': 500, 'subsample': 1.0}\n",
            "-3.837778 (0.574549) with: {'learning_rate': 0.1, 'max_depth': None, 'n_estimators': 1000, 'subsample': 0.5}\n",
            "-3.839969 (0.449617) with: {'learning_rate': 0.1, 'max_depth': None, 'n_estimators': 1000, 'subsample': 0.7}\n",
            "-6.122700 (0.660961) with: {'learning_rate': 0.1, 'max_depth': None, 'n_estimators': 1000, 'subsample': 1.0}\n",
            "-3.815985 (0.508260) with: {'learning_rate': 0.1, 'max_depth': None, 'n_estimators': 1500, 'subsample': 0.5}\n",
            "-3.850158 (0.769414) with: {'learning_rate': 0.1, 'max_depth': None, 'n_estimators': 1500, 'subsample': 0.7}\n",
            "-6.179013 (0.716256) with: {'learning_rate': 0.1, 'max_depth': None, 'n_estimators': 1500, 'subsample': 1.0}\n",
            "-3.735469 (0.253224) with: {'learning_rate': 0.1, 'max_depth': 3, 'n_estimators': 100, 'subsample': 0.5}\n",
            "-3.562789 (0.357375) with: {'learning_rate': 0.1, 'max_depth': 3, 'n_estimators': 100, 'subsample': 0.7}\n",
            "-3.700847 (0.315963) with: {'learning_rate': 0.1, 'max_depth': 3, 'n_estimators': 100, 'subsample': 1.0}\n",
            "-4.196539 (0.178249) with: {'learning_rate': 0.1, 'max_depth': 3, 'n_estimators': 500, 'subsample': 0.5}\n",
            "-4.236341 (0.295371) with: {'learning_rate': 0.1, 'max_depth': 3, 'n_estimators': 500, 'subsample': 0.7}\n",
            "-4.457409 (0.362724) with: {'learning_rate': 0.1, 'max_depth': 3, 'n_estimators': 500, 'subsample': 1.0}\n",
            "-4.869352 (0.486175) with: {'learning_rate': 0.1, 'max_depth': 3, 'n_estimators': 1000, 'subsample': 0.5}\n",
            "-4.491990 (0.351871) with: {'learning_rate': 0.1, 'max_depth': 3, 'n_estimators': 1000, 'subsample': 0.7}\n",
            "-4.703968 (0.445553) with: {'learning_rate': 0.1, 'max_depth': 3, 'n_estimators': 1000, 'subsample': 1.0}\n",
            "-4.829221 (0.543352) with: {'learning_rate': 0.1, 'max_depth': 3, 'n_estimators': 1500, 'subsample': 0.5}\n",
            "-5.039470 (0.835543) with: {'learning_rate': 0.1, 'max_depth': 3, 'n_estimators': 1500, 'subsample': 0.7}\n",
            "-4.753021 (0.443680) with: {'learning_rate': 0.1, 'max_depth': 3, 'n_estimators': 1500, 'subsample': 1.0}\n",
            "-3.814595 (0.593318) with: {'learning_rate': 0.1, 'max_depth': 7, 'n_estimators': 100, 'subsample': 0.5}\n",
            "-3.693522 (0.764143) with: {'learning_rate': 0.1, 'max_depth': 7, 'n_estimators': 100, 'subsample': 0.7}\n",
            "-3.966291 (0.540339) with: {'learning_rate': 0.1, 'max_depth': 7, 'n_estimators': 100, 'subsample': 1.0}\n",
            "-4.030287 (0.815735) with: {'learning_rate': 0.1, 'max_depth': 7, 'n_estimators': 500, 'subsample': 0.5}\n",
            "-3.890452 (0.756329) with: {'learning_rate': 0.1, 'max_depth': 7, 'n_estimators': 500, 'subsample': 0.7}\n",
            "-4.066104 (0.491983) with: {'learning_rate': 0.1, 'max_depth': 7, 'n_estimators': 500, 'subsample': 1.0}\n",
            "-3.771777 (0.837147) with: {'learning_rate': 0.1, 'max_depth': 7, 'n_estimators': 1000, 'subsample': 0.5}\n",
            "-3.845615 (0.303864) with: {'learning_rate': 0.1, 'max_depth': 7, 'n_estimators': 1000, 'subsample': 0.7}\n",
            "-4.056867 (0.560329) with: {'learning_rate': 0.1, 'max_depth': 7, 'n_estimators': 1000, 'subsample': 1.0}\n",
            "-3.826775 (0.772170) with: {'learning_rate': 0.1, 'max_depth': 7, 'n_estimators': 1500, 'subsample': 0.5}\n",
            "-3.783131 (0.708866) with: {'learning_rate': 0.1, 'max_depth': 7, 'n_estimators': 1500, 'subsample': 0.7}\n",
            "-4.059222 (0.540943) with: {'learning_rate': 0.1, 'max_depth': 7, 'n_estimators': 1500, 'subsample': 1.0}\n",
            "-3.788010 (0.683048) with: {'learning_rate': 0.1, 'max_depth': 9, 'n_estimators': 100, 'subsample': 0.5}\n",
            "-3.772864 (0.490710) with: {'learning_rate': 0.1, 'max_depth': 9, 'n_estimators': 100, 'subsample': 0.7}\n",
            "-4.252995 (0.410896) with: {'learning_rate': 0.1, 'max_depth': 9, 'n_estimators': 100, 'subsample': 1.0}\n",
            "-4.271315 (0.228926) with: {'learning_rate': 0.1, 'max_depth': 9, 'n_estimators': 500, 'subsample': 0.5}\n",
            "-3.813181 (0.699718) with: {'learning_rate': 0.1, 'max_depth': 9, 'n_estimators': 500, 'subsample': 0.7}\n",
            "-4.190062 (0.423282) with: {'learning_rate': 0.1, 'max_depth': 9, 'n_estimators': 500, 'subsample': 1.0}\n",
            "-3.915020 (0.557453) with: {'learning_rate': 0.1, 'max_depth': 9, 'n_estimators': 1000, 'subsample': 0.5}\n",
            "-3.963347 (0.655129) with: {'learning_rate': 0.1, 'max_depth': 9, 'n_estimators': 1000, 'subsample': 0.7}\n",
            "-4.243899 (0.465273) with: {'learning_rate': 0.1, 'max_depth': 9, 'n_estimators': 1000, 'subsample': 1.0}\n",
            "-3.899685 (0.604263) with: {'learning_rate': 0.1, 'max_depth': 9, 'n_estimators': 1500, 'subsample': 0.5}\n",
            "-3.863276 (0.612736) with: {'learning_rate': 0.1, 'max_depth': 9, 'n_estimators': 1500, 'subsample': 0.7}\n",
            "-4.191651 (0.361034) with: {'learning_rate': 0.1, 'max_depth': 9, 'n_estimators': 1500, 'subsample': 1.0}\n",
            "-6.511756 (0.932770) with: {'learning_rate': 0.5, 'max_depth': None, 'n_estimators': 100, 'subsample': 0.5}\n",
            "-5.859239 (0.991890) with: {'learning_rate': 0.5, 'max_depth': None, 'n_estimators': 100, 'subsample': 0.7}\n",
            "-6.389497 (0.669738) with: {'learning_rate': 0.5, 'max_depth': None, 'n_estimators': 100, 'subsample': 1.0}\n",
            "-6.336687 (1.068469) with: {'learning_rate': 0.5, 'max_depth': None, 'n_estimators': 500, 'subsample': 0.5}\n",
            "-5.651159 (0.652448) with: {'learning_rate': 0.5, 'max_depth': None, 'n_estimators': 500, 'subsample': 0.7}\n",
            "-6.151623 (0.711094) with: {'learning_rate': 0.5, 'max_depth': None, 'n_estimators': 500, 'subsample': 1.0}\n",
            "-6.682637 (1.258648) with: {'learning_rate': 0.5, 'max_depth': None, 'n_estimators': 1000, 'subsample': 0.5}\n",
            "-5.325772 (0.555287) with: {'learning_rate': 0.5, 'max_depth': None, 'n_estimators': 1000, 'subsample': 0.7}\n",
            "-6.365689 (0.787186) with: {'learning_rate': 0.5, 'max_depth': None, 'n_estimators': 1000, 'subsample': 1.0}\n",
            "-6.529854 (0.964268) with: {'learning_rate': 0.5, 'max_depth': None, 'n_estimators': 1500, 'subsample': 0.5}\n",
            "-5.293839 (1.100871) with: {'learning_rate': 0.5, 'max_depth': None, 'n_estimators': 1500, 'subsample': 0.7}\n",
            "-6.381636 (0.947797) with: {'learning_rate': 0.5, 'max_depth': None, 'n_estimators': 1500, 'subsample': 1.0}\n",
            "-8.782570 (5.126317) with: {'learning_rate': 0.5, 'max_depth': 3, 'n_estimators': 100, 'subsample': 0.5}\n",
            "-6.091619 (1.594290) with: {'learning_rate': 0.5, 'max_depth': 3, 'n_estimators': 100, 'subsample': 0.7}\n",
            "-5.205826 (0.534297) with: {'learning_rate': 0.5, 'max_depth': 3, 'n_estimators': 100, 'subsample': 1.0}\n",
            "-6.986192 (1.438327) with: {'learning_rate': 0.5, 'max_depth': 3, 'n_estimators': 500, 'subsample': 0.5}\n",
            "-6.412196 (1.270164) with: {'learning_rate': 0.5, 'max_depth': 3, 'n_estimators': 500, 'subsample': 0.7}\n",
            "-5.779894 (1.061333) with: {'learning_rate': 0.5, 'max_depth': 3, 'n_estimators': 500, 'subsample': 1.0}\n",
            "-11.509901 (10.130512) with: {'learning_rate': 0.5, 'max_depth': 3, 'n_estimators': 1000, 'subsample': 0.5}\n",
            "-6.952800 (3.216268) with: {'learning_rate': 0.5, 'max_depth': 3, 'n_estimators': 1000, 'subsample': 0.7}\n",
            "-5.524035 (0.896372) with: {'learning_rate': 0.5, 'max_depth': 3, 'n_estimators': 1000, 'subsample': 1.0}\n",
            "-10.823676 (8.626774) with: {'learning_rate': 0.5, 'max_depth': 3, 'n_estimators': 1500, 'subsample': 0.5}\n",
            "-5.513938 (0.587700) with: {'learning_rate': 0.5, 'max_depth': 3, 'n_estimators': 1500, 'subsample': 0.7}\n",
            "-5.729173 (1.349139) with: {'learning_rate': 0.5, 'max_depth': 3, 'n_estimators': 1500, 'subsample': 1.0}\n",
            "-6.054672 (0.451437) with: {'learning_rate': 0.5, 'max_depth': 7, 'n_estimators': 100, 'subsample': 0.5}\n",
            "-5.412385 (0.570004) with: {'learning_rate': 0.5, 'max_depth': 7, 'n_estimators': 100, 'subsample': 0.7}\n",
            "-4.851633 (0.560975) with: {'learning_rate': 0.5, 'max_depth': 7, 'n_estimators': 100, 'subsample': 1.0}\n",
            "-6.481964 (0.914295) with: {'learning_rate': 0.5, 'max_depth': 7, 'n_estimators': 500, 'subsample': 0.5}\n",
            "-5.627018 (0.871502) with: {'learning_rate': 0.5, 'max_depth': 7, 'n_estimators': 500, 'subsample': 0.7}\n",
            "-4.560042 (0.542875) with: {'learning_rate': 0.5, 'max_depth': 7, 'n_estimators': 500, 'subsample': 1.0}\n",
            "-7.076158 (1.240726) with: {'learning_rate': 0.5, 'max_depth': 7, 'n_estimators': 1000, 'subsample': 0.5}\n",
            "-5.679434 (0.425226) with: {'learning_rate': 0.5, 'max_depth': 7, 'n_estimators': 1000, 'subsample': 0.7}\n",
            "-4.721576 (0.563906) with: {'learning_rate': 0.5, 'max_depth': 7, 'n_estimators': 1000, 'subsample': 1.0}\n",
            "-6.000266 (0.836281) with: {'learning_rate': 0.5, 'max_depth': 7, 'n_estimators': 1500, 'subsample': 0.5}\n",
            "-5.323394 (0.722346) with: {'learning_rate': 0.5, 'max_depth': 7, 'n_estimators': 1500, 'subsample': 0.7}\n",
            "-4.661721 (0.494313) with: {'learning_rate': 0.5, 'max_depth': 7, 'n_estimators': 1500, 'subsample': 1.0}\n",
            "-6.583542 (0.684744) with: {'learning_rate': 0.5, 'max_depth': 9, 'n_estimators': 100, 'subsample': 0.5}\n",
            "-6.229844 (0.506504) with: {'learning_rate': 0.5, 'max_depth': 9, 'n_estimators': 100, 'subsample': 0.7}\n",
            "-4.636764 (0.668532) with: {'learning_rate': 0.5, 'max_depth': 9, 'n_estimators': 100, 'subsample': 1.0}\n",
            "-5.888177 (0.705459) with: {'learning_rate': 0.5, 'max_depth': 9, 'n_estimators': 500, 'subsample': 0.5}\n",
            "-5.227469 (0.779819) with: {'learning_rate': 0.5, 'max_depth': 9, 'n_estimators': 500, 'subsample': 0.7}\n",
            "-4.659956 (0.644497) with: {'learning_rate': 0.5, 'max_depth': 9, 'n_estimators': 500, 'subsample': 1.0}\n",
            "-6.700526 (0.985562) with: {'learning_rate': 0.5, 'max_depth': 9, 'n_estimators': 1000, 'subsample': 0.5}\n",
            "-6.107970 (0.891352) with: {'learning_rate': 0.5, 'max_depth': 9, 'n_estimators': 1000, 'subsample': 0.7}\n",
            "-4.761675 (0.722214) with: {'learning_rate': 0.5, 'max_depth': 9, 'n_estimators': 1000, 'subsample': 1.0}\n",
            "-6.824450 (2.444099) with: {'learning_rate': 0.5, 'max_depth': 9, 'n_estimators': 1500, 'subsample': 0.5}\n",
            "-6.222561 (1.877967) with: {'learning_rate': 0.5, 'max_depth': 9, 'n_estimators': 1500, 'subsample': 0.7}\n",
            "-4.570451 (0.582395) with: {'learning_rate': 0.5, 'max_depth': 9, 'n_estimators': 1500, 'subsample': 1.0}\n",
            "-31.769243 (9.934330) with: {'learning_rate': 1.0, 'max_depth': None, 'n_estimators': 100, 'subsample': 0.5}\n",
            "-13.993329 (7.282176) with: {'learning_rate': 1.0, 'max_depth': None, 'n_estimators': 100, 'subsample': 0.7}\n",
            "-7.211318 (1.028333) with: {'learning_rate': 1.0, 'max_depth': None, 'n_estimators': 100, 'subsample': 1.0}\n",
            "-72.862736 (73.418242) with: {'learning_rate': 1.0, 'max_depth': None, 'n_estimators': 500, 'subsample': 0.5}\n",
            "-12.008478 (2.696641) with: {'learning_rate': 1.0, 'max_depth': None, 'n_estimators': 500, 'subsample': 0.7}\n",
            "-6.847179 (1.135731) with: {'learning_rate': 1.0, 'max_depth': None, 'n_estimators': 500, 'subsample': 1.0}\n",
            "-38.987676 (19.977588) with: {'learning_rate': 1.0, 'max_depth': None, 'n_estimators': 1000, 'subsample': 0.5}\n",
            "-12.077954 (2.582451) with: {'learning_rate': 1.0, 'max_depth': None, 'n_estimators': 1000, 'subsample': 0.7}\n",
            "-6.553364 (0.933710) with: {'learning_rate': 1.0, 'max_depth': None, 'n_estimators': 1000, 'subsample': 1.0}\n",
            "-41.385960 (27.684520) with: {'learning_rate': 1.0, 'max_depth': None, 'n_estimators': 1500, 'subsample': 0.5}\n",
            "-14.486300 (4.746356) with: {'learning_rate': 1.0, 'max_depth': None, 'n_estimators': 1500, 'subsample': 0.7}\n",
            "-7.126963 (1.164955) with: {'learning_rate': 1.0, 'max_depth': None, 'n_estimators': 1500, 'subsample': 1.0}\n",
            "-23.125193 (9.001860) with: {'learning_rate': 1.0, 'max_depth': 3, 'n_estimators': 100, 'subsample': 0.5}\n",
            "-11.844834 (6.007152) with: {'learning_rate': 1.0, 'max_depth': 3, 'n_estimators': 100, 'subsample': 0.7}\n",
            "-15.030408 (17.140074) with: {'learning_rate': 1.0, 'max_depth': 3, 'n_estimators': 100, 'subsample': 1.0}\n",
            "-45.700232 (44.076757) with: {'learning_rate': 1.0, 'max_depth': 3, 'n_estimators': 500, 'subsample': 0.5}\n",
            "-11.720716 (2.037631) with: {'learning_rate': 1.0, 'max_depth': 3, 'n_estimators': 500, 'subsample': 0.7}\n",
            "-16.413149 (19.541586) with: {'learning_rate': 1.0, 'max_depth': 3, 'n_estimators': 500, 'subsample': 1.0}\n",
            "-41.589446 (43.268720) with: {'learning_rate': 1.0, 'max_depth': 3, 'n_estimators': 1000, 'subsample': 0.5}\n",
            "-11.468747 (2.975532) with: {'learning_rate': 1.0, 'max_depth': 3, 'n_estimators': 1000, 'subsample': 0.7}\n",
            "-15.384535 (17.634268) with: {'learning_rate': 1.0, 'max_depth': 3, 'n_estimators': 1000, 'subsample': 1.0}\n",
            "-34.823321 (18.636114) with: {'learning_rate': 1.0, 'max_depth': 3, 'n_estimators': 1500, 'subsample': 0.5}\n",
            "-13.012025 (5.615346) with: {'learning_rate': 1.0, 'max_depth': 3, 'n_estimators': 1500, 'subsample': 0.7}\n",
            "-16.216491 (19.277585) with: {'learning_rate': 1.0, 'max_depth': 3, 'n_estimators': 1500, 'subsample': 1.0}\n",
            "-172.099706 (279.187829) with: {'learning_rate': 1.0, 'max_depth': 7, 'n_estimators': 100, 'subsample': 0.5}\n",
            "-12.596288 (4.393667) with: {'learning_rate': 1.0, 'max_depth': 7, 'n_estimators': 100, 'subsample': 0.7}\n",
            "-6.642776 (0.902316) with: {'learning_rate': 1.0, 'max_depth': 7, 'n_estimators': 100, 'subsample': 1.0}\n",
            "-33.735809 (1.635842) with: {'learning_rate': 1.0, 'max_depth': 7, 'n_estimators': 500, 'subsample': 0.5}\n",
            "-14.793710 (6.741243) with: {'learning_rate': 1.0, 'max_depth': 7, 'n_estimators': 500, 'subsample': 0.7}\n",
            "-6.804527 (1.052802) with: {'learning_rate': 1.0, 'max_depth': 7, 'n_estimators': 500, 'subsample': 1.0}\n",
            "-40.878169 (15.504010) with: {'learning_rate': 1.0, 'max_depth': 7, 'n_estimators': 1000, 'subsample': 0.5}\n",
            "-26.486493 (25.058627) with: {'learning_rate': 1.0, 'max_depth': 7, 'n_estimators': 1000, 'subsample': 0.7}\n",
            "-6.496807 (0.861788) with: {'learning_rate': 1.0, 'max_depth': 7, 'n_estimators': 1000, 'subsample': 1.0}\n",
            "-109.235488 (153.115217) with: {'learning_rate': 1.0, 'max_depth': 7, 'n_estimators': 1500, 'subsample': 0.5}\n",
            "-10.023484 (0.945253) with: {'learning_rate': 1.0, 'max_depth': 7, 'n_estimators': 1500, 'subsample': 0.7}\n",
            "-6.633672 (0.871356) with: {'learning_rate': 1.0, 'max_depth': 7, 'n_estimators': 1500, 'subsample': 1.0}\n",
            "-43.962390 (26.589395) with: {'learning_rate': 1.0, 'max_depth': 9, 'n_estimators': 100, 'subsample': 0.5}\n",
            "-13.426752 (4.608946) with: {'learning_rate': 1.0, 'max_depth': 9, 'n_estimators': 100, 'subsample': 0.7}\n",
            "-7.260681 (1.216442) with: {'learning_rate': 1.0, 'max_depth': 9, 'n_estimators': 100, 'subsample': 1.0}\n",
            "-70.256321 (61.872145) with: {'learning_rate': 1.0, 'max_depth': 9, 'n_estimators': 500, 'subsample': 0.5}\n",
            "-17.755120 (9.384531) with: {'learning_rate': 1.0, 'max_depth': 9, 'n_estimators': 500, 'subsample': 0.7}\n",
            "-7.041725 (1.063041) with: {'learning_rate': 1.0, 'max_depth': 9, 'n_estimators': 500, 'subsample': 1.0}\n",
            "-94.822021 (138.532611) with: {'learning_rate': 1.0, 'max_depth': 9, 'n_estimators': 1000, 'subsample': 0.5}\n",
            "-13.588500 (2.599737) with: {'learning_rate': 1.0, 'max_depth': 9, 'n_estimators': 1000, 'subsample': 0.7}\n",
            "-6.871424 (1.061915) with: {'learning_rate': 1.0, 'max_depth': 9, 'n_estimators': 1000, 'subsample': 1.0}\n",
            "-54.657402 (52.027253) with: {'learning_rate': 1.0, 'max_depth': 9, 'n_estimators': 1500, 'subsample': 0.5}\n",
            "-15.708473 (4.528664) with: {'learning_rate': 1.0, 'max_depth': 9, 'n_estimators': 1500, 'subsample': 0.7}\n",
            "-7.085219 (1.363012) with: {'learning_rate': 1.0, 'max_depth': 9, 'n_estimators': 1500, 'subsample': 1.0}\n"
          ]
        }
      ]
    },
    {
      "cell_type": "code",
      "source": [
        "# 교차 검증\n",
        "from sklearn.model_selection import cross_val_score\n",
        "\n",
        "gbr = GradientBoostingRegressor(learning_rate=0.01, max_depth=3, n_estimators=500, subsample=0.5)\n",
        "\n",
        "scores = cross_val_score(gbr, X, y, scoring='neg_mean_squared_error', cv=5)\n",
        "rmse = np.sqrt(-1*scores)\n",
        "avg_rmse = np.mean(rmse)\n",
        "\n",
        "print('하이퍼 파라미터 튜닝 후 5 Fold 평균 rmse:', np.round(avg_rmse,4))"
      ],
      "metadata": {
        "colab": {
          "base_uri": "https://localhost:8080/"
        },
        "id": "uJZKPFZPWVbP",
        "outputId": "85209944-c167-4594-ad43-71e5506d7361"
      },
      "execution_count": null,
      "outputs": [
        {
          "output_type": "stream",
          "name": "stdout",
          "text": [
            "하이퍼 파라미터 튜닝 후 5 Fold 평균 rmse: 1.8462\n"
          ]
        }
      ]
    },
    {
      "cell_type": "markdown",
      "source": [
        "## 3. RandomForestRegressor"
      ],
      "metadata": {
        "id": "_2irw5vZ1I_H"
      }
    },
    {
      "cell_type": "code",
      "source": [
        "import pandas as pd\n",
        "from sklearn.ensemble import RandomForestRegressor\n",
        "from sklearn.model_selection import train_test_split, GridSearchCV\n",
        "from sklearn.metrics import mean_squared_error\n",
        "import numpy as np"
      ],
      "metadata": {
        "id": "S8NoZgFy1Ipx"
      },
      "execution_count": null,
      "outputs": []
    },
    {
      "cell_type": "code",
      "source": [
        "X = train.drop(columns=['box_off_num'])\n",
        "y = train['box_off_num']\n",
        "\n",
        "X_train, X_val, y_train, y_val = train_test_split(X, y, test_size=0.2, random_state=42)"
      ],
      "metadata": {
        "id": "QH1OIcgJ1O38"
      },
      "execution_count": null,
      "outputs": []
    },
    {
      "cell_type": "code",
      "source": [
        "rf = RandomForestRegressor(random_state=42)\n",
        "\n",
        "params = {\n",
        "    'n_estimators': [50, 100, 200],\n",
        "    'max_depth': [None, 10, 20, 30],\n",
        "    'min_samples_split': [2, 5, 10],\n",
        "    'min_samples_leaf': [1, 2, 4]\n",
        "}\n",
        "\n",
        "gridcv = GridSearchCV(rf, param_grid=params, scoring='neg_mean_squared_error', cv=5, n_jobs=-1)\n",
        "gridcv.fit(X_train, y_train)\n",
        "\n",
        "print(f\"Best Parameters: {gridcv.best_params_}\")"
      ],
      "metadata": {
        "colab": {
          "base_uri": "https://localhost:8080/"
        },
        "id": "_2o0XHNX1TEA",
        "outputId": "cf133d26-d323-46b6-f68e-49040deaec08"
      },
      "execution_count": null,
      "outputs": [
        {
          "output_type": "stream",
          "name": "stdout",
          "text": [
            "Best Parameters: {'max_depth': 20, 'min_samples_leaf': 1, 'min_samples_split': 2, 'n_estimators': 200}\n"
          ]
        }
      ]
    },
    {
      "cell_type": "code",
      "source": [
        "# Validation 데이터 평가\n",
        "rf = gridcv.best_estimator_\n",
        "y_pred_val = rf.predict(X_val)\n",
        "val_rmse = np.sqrt(mean_squared_error(y_val, y_pred_val))\n",
        "print(f\"Validation RMSE: {val_rmse}\")\n",
        "\n",
        "# 테스트 데이터에 대한 예측 (타겟 없는 데이터)\n",
        "test_pred = rf.predict(test)\n",
        "test_pred_original = np.expm1(test_pred)\n",
        "\n",
        "# 제출\n",
        "submission['box_off_num'] = test_pred_original\n",
        "submission.to_csv('rf_submission.csv', index=False)"
      ],
      "metadata": {
        "id": "P5X_W9og1WF9",
        "colab": {
          "base_uri": "https://localhost:8080/"
        },
        "outputId": "d8218508-8b70-4b0d-a798-ee483ae5c74a"
      },
      "execution_count": null,
      "outputs": [
        {
          "output_type": "stream",
          "name": "stdout",
          "text": [
            "Validation RMSE: 1.8262078616646182\n"
          ]
        }
      ]
    },
    {
      "cell_type": "markdown",
      "source": [
        "## 4. Bayesian Ridge"
      ],
      "metadata": {
        "id": "BQwC-Vyl_Qn-"
      }
    },
    {
      "cell_type": "code",
      "source": [
        "import pandas as pd\n",
        "from sklearn.linear_model import BayesianRidge\n",
        "from sklearn.model_selection import train_test_split, GridSearchCV\n",
        "from sklearn.metrics import mean_squared_error\n",
        "import numpy as np"
      ],
      "metadata": {
        "id": "HcmvKusPxpJA"
      },
      "execution_count": null,
      "outputs": []
    },
    {
      "cell_type": "code",
      "source": [
        "X = train.drop(columns=['box_off_num'])\n",
        "y = train['box_off_num']\n",
        "\n",
        "X_train, X_val, y_train, y_val = train_test_split(X, y, test_size=0.2, random_state=42)"
      ],
      "metadata": {
        "id": "bhgxu2SwxrvJ"
      },
      "execution_count": null,
      "outputs": []
    },
    {
      "cell_type": "code",
      "source": [
        "br = BayesianRidge()\n",
        "\n",
        "params = {\n",
        "    'alpha_1': [1e-6, 1e-5, 1e-4],\n",
        "    'alpha_2': [1e-6, 1e-5, 1e-4],\n",
        "    'lambda_1': [1e-6, 1e-5, 1e-4],\n",
        "    'lambda_2': [1e-6, 1e-5, 1e-4]\n",
        "}\n",
        "\n",
        "gridcv = GridSearchCV(br, param_grid=params, scoring='neg_mean_squared_error', cv=5, n_jobs=-1)\n",
        "gridcv.fit(X_train, y_train)\n",
        "\n",
        "print(f\"Best Parameters: {gridcv.best_params_}\")\n"
      ],
      "metadata": {
        "colab": {
          "base_uri": "https://localhost:8080/"
        },
        "id": "HplvEAMBxvpb",
        "outputId": "e2c6a828-012f-40c3-9e51-aba00c77fe6d"
      },
      "execution_count": null,
      "outputs": [
        {
          "output_type": "stream",
          "name": "stdout",
          "text": [
            "Best Parameters: {'alpha_1': 0.0001, 'alpha_2': 1e-06, 'lambda_1': 1e-06, 'lambda_2': 0.0001}\n"
          ]
        }
      ]
    },
    {
      "cell_type": "code",
      "source": [
        "# Validation 데이터 평가\n",
        "br = gridcv.best_estimator_\n",
        "y_pred_val = br.predict(X_val)\n",
        "val_rmse = np.sqrt(mean_squared_error(y_val, y_pred_val))\n",
        "print(f\"Validation RMSE: {val_rmse}\")\n",
        "\n",
        "# 테스트 데이터에 대한 예측 (타겟 없는 데이터)\n",
        "test_pred = br.predict(test)\n",
        "test_pred_original = np.expm1(test_pred)\n",
        "\n",
        "# 제출\n",
        "submission['box_off_num'] = test_pred_original\n",
        "submission.to_csv('br_submission.csv', index=False)"
      ],
      "metadata": {
        "colab": {
          "base_uri": "https://localhost:8080/"
        },
        "id": "yMRbsPRhxylr",
        "outputId": "47b9b781-738e-4845-e15b-021edd376cc6"
      },
      "execution_count": null,
      "outputs": [
        {
          "output_type": "stream",
          "name": "stdout",
          "text": [
            "Validation RMSE: 1.9053663894842294\n"
          ]
        }
      ]
    },
    {
      "cell_type": "code",
      "source": [
        "submission.head()"
      ],
      "metadata": {
        "colab": {
          "base_uri": "https://localhost:8080/",
          "height": 206
        },
        "id": "vJHsuZMExzjq",
        "outputId": "12932e98-c09f-47e6-87c5-d243d32fc04d"
      },
      "execution_count": null,
      "outputs": [
        {
          "output_type": "execute_result",
          "data": {
            "text/plain": [
              "         title  box_off_num\n",
              "0       용서는 없다     270220.4\n",
              "1  아빠가 여자를 좋아해     366100.5\n",
              "2          하모니     813747.8\n",
              "3          의형제    1087701.2\n",
              "4        평행 이론     990634.7"
            ],
            "text/html": [
              "\n",
              "  <div id=\"df-cc677eab-217d-4aa8-a55f-6bb96a2ed49c\" class=\"colab-df-container\">\n",
              "    <div>\n",
              "<style scoped>\n",
              "    .dataframe tbody tr th:only-of-type {\n",
              "        vertical-align: middle;\n",
              "    }\n",
              "\n",
              "    .dataframe tbody tr th {\n",
              "        vertical-align: top;\n",
              "    }\n",
              "\n",
              "    .dataframe thead th {\n",
              "        text-align: right;\n",
              "    }\n",
              "</style>\n",
              "<table border=\"1\" class=\"dataframe\">\n",
              "  <thead>\n",
              "    <tr style=\"text-align: right;\">\n",
              "      <th></th>\n",
              "      <th>title</th>\n",
              "      <th>box_off_num</th>\n",
              "    </tr>\n",
              "  </thead>\n",
              "  <tbody>\n",
              "    <tr>\n",
              "      <th>0</th>\n",
              "      <td>용서는 없다</td>\n",
              "      <td>270220.4</td>\n",
              "    </tr>\n",
              "    <tr>\n",
              "      <th>1</th>\n",
              "      <td>아빠가 여자를 좋아해</td>\n",
              "      <td>366100.5</td>\n",
              "    </tr>\n",
              "    <tr>\n",
              "      <th>2</th>\n",
              "      <td>하모니</td>\n",
              "      <td>813747.8</td>\n",
              "    </tr>\n",
              "    <tr>\n",
              "      <th>3</th>\n",
              "      <td>의형제</td>\n",
              "      <td>1087701.2</td>\n",
              "    </tr>\n",
              "    <tr>\n",
              "      <th>4</th>\n",
              "      <td>평행 이론</td>\n",
              "      <td>990634.7</td>\n",
              "    </tr>\n",
              "  </tbody>\n",
              "</table>\n",
              "</div>\n",
              "    <div class=\"colab-df-buttons\">\n",
              "\n",
              "  <div class=\"colab-df-container\">\n",
              "    <button class=\"colab-df-convert\" onclick=\"convertToInteractive('df-cc677eab-217d-4aa8-a55f-6bb96a2ed49c')\"\n",
              "            title=\"Convert this dataframe to an interactive table.\"\n",
              "            style=\"display:none;\">\n",
              "\n",
              "  <svg xmlns=\"http://www.w3.org/2000/svg\" height=\"24px\" viewBox=\"0 -960 960 960\">\n",
              "    <path d=\"M120-120v-720h720v720H120Zm60-500h600v-160H180v160Zm220 220h160v-160H400v160Zm0 220h160v-160H400v160ZM180-400h160v-160H180v160Zm440 0h160v-160H620v160ZM180-180h160v-160H180v160Zm440 0h160v-160H620v160Z\"/>\n",
              "  </svg>\n",
              "    </button>\n",
              "\n",
              "  <style>\n",
              "    .colab-df-container {\n",
              "      display:flex;\n",
              "      gap: 12px;\n",
              "    }\n",
              "\n",
              "    .colab-df-convert {\n",
              "      background-color: #E8F0FE;\n",
              "      border: none;\n",
              "      border-radius: 50%;\n",
              "      cursor: pointer;\n",
              "      display: none;\n",
              "      fill: #1967D2;\n",
              "      height: 32px;\n",
              "      padding: 0 0 0 0;\n",
              "      width: 32px;\n",
              "    }\n",
              "\n",
              "    .colab-df-convert:hover {\n",
              "      background-color: #E2EBFA;\n",
              "      box-shadow: 0px 1px 2px rgba(60, 64, 67, 0.3), 0px 1px 3px 1px rgba(60, 64, 67, 0.15);\n",
              "      fill: #174EA6;\n",
              "    }\n",
              "\n",
              "    .colab-df-buttons div {\n",
              "      margin-bottom: 4px;\n",
              "    }\n",
              "\n",
              "    [theme=dark] .colab-df-convert {\n",
              "      background-color: #3B4455;\n",
              "      fill: #D2E3FC;\n",
              "    }\n",
              "\n",
              "    [theme=dark] .colab-df-convert:hover {\n",
              "      background-color: #434B5C;\n",
              "      box-shadow: 0px 1px 3px 1px rgba(0, 0, 0, 0.15);\n",
              "      filter: drop-shadow(0px 1px 2px rgba(0, 0, 0, 0.3));\n",
              "      fill: #FFFFFF;\n",
              "    }\n",
              "  </style>\n",
              "\n",
              "    <script>\n",
              "      const buttonEl =\n",
              "        document.querySelector('#df-cc677eab-217d-4aa8-a55f-6bb96a2ed49c button.colab-df-convert');\n",
              "      buttonEl.style.display =\n",
              "        google.colab.kernel.accessAllowed ? 'block' : 'none';\n",
              "\n",
              "      async function convertToInteractive(key) {\n",
              "        const element = document.querySelector('#df-cc677eab-217d-4aa8-a55f-6bb96a2ed49c');\n",
              "        const dataTable =\n",
              "          await google.colab.kernel.invokeFunction('convertToInteractive',\n",
              "                                                    [key], {});\n",
              "        if (!dataTable) return;\n",
              "\n",
              "        const docLinkHtml = 'Like what you see? Visit the ' +\n",
              "          '<a target=\"_blank\" href=https://colab.research.google.com/notebooks/data_table.ipynb>data table notebook</a>'\n",
              "          + ' to learn more about interactive tables.';\n",
              "        element.innerHTML = '';\n",
              "        dataTable['output_type'] = 'display_data';\n",
              "        await google.colab.output.renderOutput(dataTable, element);\n",
              "        const docLink = document.createElement('div');\n",
              "        docLink.innerHTML = docLinkHtml;\n",
              "        element.appendChild(docLink);\n",
              "      }\n",
              "    </script>\n",
              "  </div>\n",
              "\n",
              "\n",
              "<div id=\"df-e82f86db-bec5-448a-b197-288a22f7b3af\">\n",
              "  <button class=\"colab-df-quickchart\" onclick=\"quickchart('df-e82f86db-bec5-448a-b197-288a22f7b3af')\"\n",
              "            title=\"Suggest charts\"\n",
              "            style=\"display:none;\">\n",
              "\n",
              "<svg xmlns=\"http://www.w3.org/2000/svg\" height=\"24px\"viewBox=\"0 0 24 24\"\n",
              "     width=\"24px\">\n",
              "    <g>\n",
              "        <path d=\"M19 3H5c-1.1 0-2 .9-2 2v14c0 1.1.9 2 2 2h14c1.1 0 2-.9 2-2V5c0-1.1-.9-2-2-2zM9 17H7v-7h2v7zm4 0h-2V7h2v10zm4 0h-2v-4h2v4z\"/>\n",
              "    </g>\n",
              "</svg>\n",
              "  </button>\n",
              "\n",
              "<style>\n",
              "  .colab-df-quickchart {\n",
              "      --bg-color: #E8F0FE;\n",
              "      --fill-color: #1967D2;\n",
              "      --hover-bg-color: #E2EBFA;\n",
              "      --hover-fill-color: #174EA6;\n",
              "      --disabled-fill-color: #AAA;\n",
              "      --disabled-bg-color: #DDD;\n",
              "  }\n",
              "\n",
              "  [theme=dark] .colab-df-quickchart {\n",
              "      --bg-color: #3B4455;\n",
              "      --fill-color: #D2E3FC;\n",
              "      --hover-bg-color: #434B5C;\n",
              "      --hover-fill-color: #FFFFFF;\n",
              "      --disabled-bg-color: #3B4455;\n",
              "      --disabled-fill-color: #666;\n",
              "  }\n",
              "\n",
              "  .colab-df-quickchart {\n",
              "    background-color: var(--bg-color);\n",
              "    border: none;\n",
              "    border-radius: 50%;\n",
              "    cursor: pointer;\n",
              "    display: none;\n",
              "    fill: var(--fill-color);\n",
              "    height: 32px;\n",
              "    padding: 0;\n",
              "    width: 32px;\n",
              "  }\n",
              "\n",
              "  .colab-df-quickchart:hover {\n",
              "    background-color: var(--hover-bg-color);\n",
              "    box-shadow: 0 1px 2px rgba(60, 64, 67, 0.3), 0 1px 3px 1px rgba(60, 64, 67, 0.15);\n",
              "    fill: var(--button-hover-fill-color);\n",
              "  }\n",
              "\n",
              "  .colab-df-quickchart-complete:disabled,\n",
              "  .colab-df-quickchart-complete:disabled:hover {\n",
              "    background-color: var(--disabled-bg-color);\n",
              "    fill: var(--disabled-fill-color);\n",
              "    box-shadow: none;\n",
              "  }\n",
              "\n",
              "  .colab-df-spinner {\n",
              "    border: 2px solid var(--fill-color);\n",
              "    border-color: transparent;\n",
              "    border-bottom-color: var(--fill-color);\n",
              "    animation:\n",
              "      spin 1s steps(1) infinite;\n",
              "  }\n",
              "\n",
              "  @keyframes spin {\n",
              "    0% {\n",
              "      border-color: transparent;\n",
              "      border-bottom-color: var(--fill-color);\n",
              "      border-left-color: var(--fill-color);\n",
              "    }\n",
              "    20% {\n",
              "      border-color: transparent;\n",
              "      border-left-color: var(--fill-color);\n",
              "      border-top-color: var(--fill-color);\n",
              "    }\n",
              "    30% {\n",
              "      border-color: transparent;\n",
              "      border-left-color: var(--fill-color);\n",
              "      border-top-color: var(--fill-color);\n",
              "      border-right-color: var(--fill-color);\n",
              "    }\n",
              "    40% {\n",
              "      border-color: transparent;\n",
              "      border-right-color: var(--fill-color);\n",
              "      border-top-color: var(--fill-color);\n",
              "    }\n",
              "    60% {\n",
              "      border-color: transparent;\n",
              "      border-right-color: var(--fill-color);\n",
              "    }\n",
              "    80% {\n",
              "      border-color: transparent;\n",
              "      border-right-color: var(--fill-color);\n",
              "      border-bottom-color: var(--fill-color);\n",
              "    }\n",
              "    90% {\n",
              "      border-color: transparent;\n",
              "      border-bottom-color: var(--fill-color);\n",
              "    }\n",
              "  }\n",
              "</style>\n",
              "\n",
              "  <script>\n",
              "    async function quickchart(key) {\n",
              "      const quickchartButtonEl =\n",
              "        document.querySelector('#' + key + ' button');\n",
              "      quickchartButtonEl.disabled = true;  // To prevent multiple clicks.\n",
              "      quickchartButtonEl.classList.add('colab-df-spinner');\n",
              "      try {\n",
              "        const charts = await google.colab.kernel.invokeFunction(\n",
              "            'suggestCharts', [key], {});\n",
              "      } catch (error) {\n",
              "        console.error('Error during call to suggestCharts:', error);\n",
              "      }\n",
              "      quickchartButtonEl.classList.remove('colab-df-spinner');\n",
              "      quickchartButtonEl.classList.add('colab-df-quickchart-complete');\n",
              "    }\n",
              "    (() => {\n",
              "      let quickchartButtonEl =\n",
              "        document.querySelector('#df-e82f86db-bec5-448a-b197-288a22f7b3af button');\n",
              "      quickchartButtonEl.style.display =\n",
              "        google.colab.kernel.accessAllowed ? 'block' : 'none';\n",
              "    })();\n",
              "  </script>\n",
              "</div>\n",
              "\n",
              "    </div>\n",
              "  </div>\n"
            ],
            "application/vnd.google.colaboratory.intrinsic+json": {
              "type": "dataframe",
              "variable_name": "submission",
              "summary": "{\n  \"name\": \"submission\",\n  \"rows\": 243,\n  \"fields\": [\n    {\n      \"column\": \"title\",\n      \"properties\": {\n        \"dtype\": \"string\",\n        \"num_unique_values\": 243,\n        \"samples\": [\n          \"\\ud0c8\\uc8fc\",\n          \"\\uacbd\\uacc4\\ub3c4\\uc2dc 2\",\n          \"\\uc0b4\\uc778\\uc790\"\n        ],\n        \"semantic_type\": \"\",\n        \"description\": \"\"\n      }\n    },\n    {\n      \"column\": \"box_off_num\",\n      \"properties\": {\n        \"dtype\": \"number\",\n        \"std\": 10173793.159598228,\n        \"min\": 253.64712218146383,\n        \"max\": 138094980.8986357,\n        \"num_unique_values\": 242,\n        \"samples\": [\n          2200.9412526278434,\n          2270.8083083160354,\n          7404.140545409858\n        ],\n        \"semantic_type\": \"\",\n        \"description\": \"\"\n      }\n    }\n  ]\n}"
            }
          },
          "metadata": {},
          "execution_count": 59
        }
      ]
    },
    {
      "cell_type": "markdown",
      "source": [
        "## Ridge Regrerssion"
      ],
      "metadata": {
        "id": "MgXvNDoBjX0y"
      }
    },
    {
      "cell_type": "code",
      "source": [
        "import pandas as pd\n",
        "from sklearn.linear_model import Ridge\n",
        "from sklearn.model_selection import train_test_split, GridSearchCV\n",
        "from sklearn.metrics import mean_squared_error\n",
        "import numpy as np\n",
        "\n",
        "# 데이터 준비\n",
        "X = train.drop(columns=['box_off_num'])\n",
        "y = train['box_off_num']\n",
        "\n",
        "X_train, X_val, y_train, y_val = train_test_split(X, y, test_size=0.2, random_state=42)\n",
        "\n",
        "# Ridge 모델 초기화\n",
        "ridge = Ridge()\n",
        "\n",
        "# 하이퍼파라미터 그리드 정의\n",
        "params = {\n",
        "    'alpha': [0.1, 1, 10, 100]  # 정규화 강도\n",
        "}\n",
        "\n",
        "# GridSearchCV 실행\n",
        "gridcv = GridSearchCV(ridge, param_grid=params, scoring='neg_mean_squared_error', cv=5, n_jobs=-1)\n",
        "gridcv.fit(X_train, y_train)\n",
        "\n",
        "print(f\"Best Parameters: {gridcv.best_params_}\")\n",
        "\n",
        "# Validation 데이터 평가\n",
        "ridge = gridcv.best_estimator_\n",
        "y_pred_val = ridge.predict(X_val)\n",
        "val_rmse = np.sqrt(mean_squared_error(y_val, y_pred_val))\n",
        "print(f\"Validation RMSE: {val_rmse}\")\n",
        "\n",
        "# 테스트 데이터에 대한 예측 (타겟 없는 데이터)\n",
        "test_pred = ridge.predict(test)\n",
        "test_pred_original = np.expm1(test_pred)  # 로그 변환을 풀기 위해 expm1 사용\n",
        "\n",
        "# 제출\n",
        "submission['box_off_num'] = test_pred_original\n",
        "submission.to_csv('ridge_submission.csv', index=False)"
      ],
      "metadata": {
        "colab": {
          "base_uri": "https://localhost:8080/"
        },
        "id": "mRzUsz36jZ5x",
        "outputId": "7c9b927b-eba5-4785-f781-c4c3707eb46f"
      },
      "execution_count": null,
      "outputs": [
        {
          "output_type": "stream",
          "name": "stdout",
          "text": [
            "Best Parameters: {'alpha': 10}\n",
            "Validation RMSE: 1.8963401685233814\n"
          ]
        }
      ]
    },
    {
      "cell_type": "markdown",
      "source": [
        "## XGBoost, LightGBM"
      ],
      "metadata": {
        "id": "9Na2KOZ0mH2p"
      }
    },
    {
      "cell_type": "code",
      "source": [
        "def print_best_params(model, params):\n",
        "    grid_model = GridSearchCV(model, param_grid=params, scoring='neg_mean_squared_error', cv=5)\n",
        "    grid_model.fit(X, y)\n",
        "    rmse = np.sqrt(-1*grid_model.best_score_)\n",
        "    print('{0} 5 CV 시 최적 평균 RMSE 값:{1}, 최적 parameter:{2}'.format(model.__class__.__name__, np.round(rmse, 4), grid_model.best_params_))"
      ],
      "metadata": {
        "id": "OenQLZ37mKrf"
      },
      "execution_count": null,
      "outputs": []
    },
    {
      "cell_type": "code",
      "source": [
        "from xgboost import XGBRegressor\n",
        "from sklearn.model_selection import GridSearchCV\n",
        "\n",
        "xgb_params = {'n_estimators':[100,500,1000],\n",
        "              'learning_rate':[0.01, 0.05, 0.1, 0.5],\n",
        "              'subsample':[0.5,0.7,0.8, 1],\n",
        "              'max_depth':[None, 3,7,9]}\n",
        "xgb_reg = XGBRegressor()\n",
        "print_best_params(xgb_reg, xgb_params)\n",
        "\n",
        "# 13분 32초 소요"
      ],
      "metadata": {
        "colab": {
          "base_uri": "https://localhost:8080/"
        },
        "id": "OuFaxYlimN2Q",
        "outputId": "87e3044d-a632-4cd3-e492-d2ccc743e393"
      },
      "execution_count": null,
      "outputs": [
        {
          "output_type": "stream",
          "name": "stdout",
          "text": [
            "XGBRegressor 5 CV 시 최적 평균 RMSE 값:1.8537, 최적 parameter:{'learning_rate': 0.01, 'max_depth': 3, 'n_estimators': 1000, 'subsample': 0.5}\n"
          ]
        }
      ]
    },
    {
      "cell_type": "code",
      "source": [
        "# 교차 검증\n",
        "from sklearn.model_selection import cross_val_score\n",
        "\n",
        "xgbr = XGBRegressor(learning_rate=0.01, max_depth=3, n_estimators=1000, subsample=0.7)\n",
        "\n",
        "scores = cross_val_score(gbr, X, y, scoring='neg_mean_squared_error', cv=5)\n",
        "rmse = np.sqrt(-1*scores)\n",
        "avg_rmse = np.mean(rmse)\n",
        "\n",
        "print('하이퍼 파라미터 튜닝 후 5 Fold 평균 rmse:', np.round(avg_rmse,4))"
      ],
      "metadata": {
        "colab": {
          "base_uri": "https://localhost:8080/"
        },
        "id": "SdrwBMhzmQhV",
        "outputId": "d1fd7490-3fc4-42dc-a278-a02c0d8eb4dd"
      },
      "execution_count": null,
      "outputs": [
        {
          "output_type": "stream",
          "name": "stdout",
          "text": [
            "하이퍼 파라미터 튜닝 후 5 Fold 평균 rmse: 1.8594\n"
          ]
        }
      ]
    },
    {
      "cell_type": "code",
      "source": [
        "from lightgbm import LGBMRegressor\n",
        "\n",
        "lgbm_params = {'n_estimators':[100,500,1000],\n",
        "               'learning_rate':[0.01, 0.05, 0.1, 0.5],\n",
        "              'subsample':[0.5,0.7,1],\n",
        "              'max_depth':[None, 3,7,9]}\n",
        "lgbm_reg = LGBMRegressor(colsample_bytree=0.7, n_jobs=-1, verbose=-1)\n",
        "print_best_params(lgbm_reg, lgbm_params)"
      ],
      "metadata": {
        "colab": {
          "base_uri": "https://localhost:8080/"
        },
        "id": "bwO2bbrVmRGW",
        "outputId": "2321276b-4540-408e-fe36-f36f8a9b12cd"
      },
      "execution_count": null,
      "outputs": [
        {
          "output_type": "stream",
          "name": "stdout",
          "text": [
            "LGBMRegressor 5 CV 시 최적 평균 RMSE 값:1.8895, 최적 parameter:{'learning_rate': 0.05, 'max_depth': 7, 'n_estimators': 100, 'subsample': 0.5}\n"
          ]
        }
      ]
    },
    {
      "cell_type": "code",
      "source": [
        "# 교차 검증\n",
        "lgbmr = LGBMRegressor(learning_rate=0.01, max_depth=7, n_estimators=500, subsample=0.5, colsample_bytree=0.7, n_jobs=-1, verbose=-1)\n",
        "\n",
        "scores = cross_val_score(gbr, X, y, scoring='neg_mean_squared_error', cv=5)\n",
        "rmse = np.sqrt(-1*scores)\n",
        "avg_rmse = np.mean(rmse)\n",
        "\n",
        "print('하이퍼 파라미터 튜닝 후 5 Fold 평균 rmse:', np.round(avg_rmse,4))"
      ],
      "metadata": {
        "colab": {
          "base_uri": "https://localhost:8080/"
        },
        "id": "nBW0VXHdmTgx",
        "outputId": "d1555b13-1834-4ea7-a3b5-44640a476ffb"
      },
      "execution_count": null,
      "outputs": [
        {
          "output_type": "stream",
          "name": "stdout",
          "text": [
            "하이퍼 파라미터 튜닝 후 5 Fold 평균 rmse: 1.8468\n"
          ]
        }
      ]
    },
    {
      "cell_type": "markdown",
      "source": [
        "# 블랜딩"
      ],
      "metadata": {
        "id": "WftdEXtu1ovY"
      }
    },
    {
      "cell_type": "code",
      "source": [
        "from sklearn.ensemble import RandomForestRegressor, GradientBoostingRegressor\n",
        "from sklearn.linear_model import ElasticNet, BayesianRidge\n",
        "from sklearn.metrics import mean_squared_error\n",
        "from sklearn.model_selection import train_test_split\n",
        "import numpy as np"
      ],
      "metadata": {
        "id": "nH86TMP-1qwV"
      },
      "execution_count": null,
      "outputs": []
    },
    {
      "cell_type": "code",
      "source": [
        "# 데이터 준비\n",
        "X = train.drop(columns=['box_off_num'])\n",
        "y = train['box_off_num']\n",
        "\n",
        "X_train, X_val, y_train, y_val = train_test_split(X, y, test_size=0.2, random_state=42)"
      ],
      "metadata": {
        "id": "q0jHa-Bk1sY_"
      },
      "execution_count": null,
      "outputs": []
    },
    {
      "cell_type": "code",
      "source": [
        "# 1. 개별 모델 학습\n",
        "# ElasticNet\n",
        "et = ExtraTreesRegressor(bootstrap=False, max_depth=10, min_samples_leaf=2, min_samples_split=10, n_estimators=200)\n",
        "et.fit(X_train, y_train)\n",
        "et_val_pred = et.predict(X_val)\n",
        "\n",
        "# GradientBoostingRegressor\n",
        "gbr = GradientBoostingRegressor(learning_rate = 0.01, max_depth = 3, n_estimators = 500, subsample = 0.7)\n",
        "gbr.fit(X_train, y_train)\n",
        "gbr_val_pred = gbr.predict(X_val)\n",
        "\n",
        "# RandomForestRegressor\n",
        "rf = RandomForestRegressor(max_depth = 20, min_samples_leaf = 1, min_samples_split = 2, n_estimators = 200)\n",
        "rf.fit(X_train, y_train)\n",
        "rf_val_pred = rf.predict(X_val)\n",
        "\n",
        "# BayesianRidge\n",
        "br = BayesianRidge(alpha_1 = 0.0001, alpha_2 = 1e-06, lambda_1 = 1e-06, lambda_2 = 0.0001)\n",
        "br.fit(X_train, y_train)\n",
        "br_val_pred = br.predict(X_val)\n",
        "\n",
        "# Ridge Regression\n",
        "ridge = Ridge(alpha=10)\n",
        "ridge.fit(X_train, y_train)\n",
        "ridge_val_pred = ridge.predict(X_val)\n",
        "\n",
        "# XGBoost\n",
        "xgb = XGBRegressor(learning_rate = 0.01, max_depth = 3, n_estimators = 1000, subsample = 0.5)\n",
        "xgb.fit(X_train, y_train)\n",
        "xgb_val_pred = xgb.predict(X_val)\n",
        "\n",
        "# LightGBM\n",
        "lgbm = LGBMRegressor(learning_rate = 0.01, max_depth = 7, n_estimators = 100, subsample = 0.5)\n",
        "lgbm.fit(X_train, y_train)\n",
        "lgbm_val_pred = lgbm.predict(X_val)"
      ],
      "metadata": {
        "id": "4UvgpTQF11z3"
      },
      "execution_count": null,
      "outputs": []
    },
    {
      "cell_type": "code",
      "source": [
        "# 2. 개별 모델의 예측값 합치기\n",
        "# Stack predictions\n",
        "val_preds = np.column_stack([et_val_pred, gbr_val_pred, rf_val_pred, br_val_pred, ridge_val_pred, xgb_val_pred, lgbm_val_pred])"
      ],
      "metadata": {
        "id": "93vlV3Zu2P_S"
      },
      "execution_count": null,
      "outputs": []
    },
    {
      "cell_type": "code",
      "source": [
        "# 3. 블렌딩을 위한 메타 모델 생성\n",
        "# Bayesian Ridge를 메타 모델로 사용\n",
        "meta_model = BayesianRidge()\n",
        "meta_model.fit(val_preds, y_val)"
      ],
      "metadata": {
        "id": "9ljAhWAy32e3",
        "colab": {
          "base_uri": "https://localhost:8080/",
          "height": 80
        },
        "outputId": "30d997dc-a688-41e8-fc49-62a9093a049a"
      },
      "execution_count": null,
      "outputs": [
        {
          "output_type": "execute_result",
          "data": {
            "text/plain": [
              "BayesianRidge()"
            ],
            "text/html": [
              "<style>#sk-container-id-4 {\n",
              "  /* Definition of color scheme common for light and dark mode */\n",
              "  --sklearn-color-text: black;\n",
              "  --sklearn-color-line: gray;\n",
              "  /* Definition of color scheme for unfitted estimators */\n",
              "  --sklearn-color-unfitted-level-0: #fff5e6;\n",
              "  --sklearn-color-unfitted-level-1: #f6e4d2;\n",
              "  --sklearn-color-unfitted-level-2: #ffe0b3;\n",
              "  --sklearn-color-unfitted-level-3: chocolate;\n",
              "  /* Definition of color scheme for fitted estimators */\n",
              "  --sklearn-color-fitted-level-0: #f0f8ff;\n",
              "  --sklearn-color-fitted-level-1: #d4ebff;\n",
              "  --sklearn-color-fitted-level-2: #b3dbfd;\n",
              "  --sklearn-color-fitted-level-3: cornflowerblue;\n",
              "\n",
              "  /* Specific color for light theme */\n",
              "  --sklearn-color-text-on-default-background: var(--sg-text-color, var(--theme-code-foreground, var(--jp-content-font-color1, black)));\n",
              "  --sklearn-color-background: var(--sg-background-color, var(--theme-background, var(--jp-layout-color0, white)));\n",
              "  --sklearn-color-border-box: var(--sg-text-color, var(--theme-code-foreground, var(--jp-content-font-color1, black)));\n",
              "  --sklearn-color-icon: #696969;\n",
              "\n",
              "  @media (prefers-color-scheme: dark) {\n",
              "    /* Redefinition of color scheme for dark theme */\n",
              "    --sklearn-color-text-on-default-background: var(--sg-text-color, var(--theme-code-foreground, var(--jp-content-font-color1, white)));\n",
              "    --sklearn-color-background: var(--sg-background-color, var(--theme-background, var(--jp-layout-color0, #111)));\n",
              "    --sklearn-color-border-box: var(--sg-text-color, var(--theme-code-foreground, var(--jp-content-font-color1, white)));\n",
              "    --sklearn-color-icon: #878787;\n",
              "  }\n",
              "}\n",
              "\n",
              "#sk-container-id-4 {\n",
              "  color: var(--sklearn-color-text);\n",
              "}\n",
              "\n",
              "#sk-container-id-4 pre {\n",
              "  padding: 0;\n",
              "}\n",
              "\n",
              "#sk-container-id-4 input.sk-hidden--visually {\n",
              "  border: 0;\n",
              "  clip: rect(1px 1px 1px 1px);\n",
              "  clip: rect(1px, 1px, 1px, 1px);\n",
              "  height: 1px;\n",
              "  margin: -1px;\n",
              "  overflow: hidden;\n",
              "  padding: 0;\n",
              "  position: absolute;\n",
              "  width: 1px;\n",
              "}\n",
              "\n",
              "#sk-container-id-4 div.sk-dashed-wrapped {\n",
              "  border: 1px dashed var(--sklearn-color-line);\n",
              "  margin: 0 0.4em 0.5em 0.4em;\n",
              "  box-sizing: border-box;\n",
              "  padding-bottom: 0.4em;\n",
              "  background-color: var(--sklearn-color-background);\n",
              "}\n",
              "\n",
              "#sk-container-id-4 div.sk-container {\n",
              "  /* jupyter's `normalize.less` sets `[hidden] { display: none; }`\n",
              "     but bootstrap.min.css set `[hidden] { display: none !important; }`\n",
              "     so we also need the `!important` here to be able to override the\n",
              "     default hidden behavior on the sphinx rendered scikit-learn.org.\n",
              "     See: https://github.com/scikit-learn/scikit-learn/issues/21755 */\n",
              "  display: inline-block !important;\n",
              "  position: relative;\n",
              "}\n",
              "\n",
              "#sk-container-id-4 div.sk-text-repr-fallback {\n",
              "  display: none;\n",
              "}\n",
              "\n",
              "div.sk-parallel-item,\n",
              "div.sk-serial,\n",
              "div.sk-item {\n",
              "  /* draw centered vertical line to link estimators */\n",
              "  background-image: linear-gradient(var(--sklearn-color-text-on-default-background), var(--sklearn-color-text-on-default-background));\n",
              "  background-size: 2px 100%;\n",
              "  background-repeat: no-repeat;\n",
              "  background-position: center center;\n",
              "}\n",
              "\n",
              "/* Parallel-specific style estimator block */\n",
              "\n",
              "#sk-container-id-4 div.sk-parallel-item::after {\n",
              "  content: \"\";\n",
              "  width: 100%;\n",
              "  border-bottom: 2px solid var(--sklearn-color-text-on-default-background);\n",
              "  flex-grow: 1;\n",
              "}\n",
              "\n",
              "#sk-container-id-4 div.sk-parallel {\n",
              "  display: flex;\n",
              "  align-items: stretch;\n",
              "  justify-content: center;\n",
              "  background-color: var(--sklearn-color-background);\n",
              "  position: relative;\n",
              "}\n",
              "\n",
              "#sk-container-id-4 div.sk-parallel-item {\n",
              "  display: flex;\n",
              "  flex-direction: column;\n",
              "}\n",
              "\n",
              "#sk-container-id-4 div.sk-parallel-item:first-child::after {\n",
              "  align-self: flex-end;\n",
              "  width: 50%;\n",
              "}\n",
              "\n",
              "#sk-container-id-4 div.sk-parallel-item:last-child::after {\n",
              "  align-self: flex-start;\n",
              "  width: 50%;\n",
              "}\n",
              "\n",
              "#sk-container-id-4 div.sk-parallel-item:only-child::after {\n",
              "  width: 0;\n",
              "}\n",
              "\n",
              "/* Serial-specific style estimator block */\n",
              "\n",
              "#sk-container-id-4 div.sk-serial {\n",
              "  display: flex;\n",
              "  flex-direction: column;\n",
              "  align-items: center;\n",
              "  background-color: var(--sklearn-color-background);\n",
              "  padding-right: 1em;\n",
              "  padding-left: 1em;\n",
              "}\n",
              "\n",
              "\n",
              "/* Toggleable style: style used for estimator/Pipeline/ColumnTransformer box that is\n",
              "clickable and can be expanded/collapsed.\n",
              "- Pipeline and ColumnTransformer use this feature and define the default style\n",
              "- Estimators will overwrite some part of the style using the `sk-estimator` class\n",
              "*/\n",
              "\n",
              "/* Pipeline and ColumnTransformer style (default) */\n",
              "\n",
              "#sk-container-id-4 div.sk-toggleable {\n",
              "  /* Default theme specific background. It is overwritten whether we have a\n",
              "  specific estimator or a Pipeline/ColumnTransformer */\n",
              "  background-color: var(--sklearn-color-background);\n",
              "}\n",
              "\n",
              "/* Toggleable label */\n",
              "#sk-container-id-4 label.sk-toggleable__label {\n",
              "  cursor: pointer;\n",
              "  display: block;\n",
              "  width: 100%;\n",
              "  margin-bottom: 0;\n",
              "  padding: 0.5em;\n",
              "  box-sizing: border-box;\n",
              "  text-align: center;\n",
              "}\n",
              "\n",
              "#sk-container-id-4 label.sk-toggleable__label-arrow:before {\n",
              "  /* Arrow on the left of the label */\n",
              "  content: \"▸\";\n",
              "  float: left;\n",
              "  margin-right: 0.25em;\n",
              "  color: var(--sklearn-color-icon);\n",
              "}\n",
              "\n",
              "#sk-container-id-4 label.sk-toggleable__label-arrow:hover:before {\n",
              "  color: var(--sklearn-color-text);\n",
              "}\n",
              "\n",
              "/* Toggleable content - dropdown */\n",
              "\n",
              "#sk-container-id-4 div.sk-toggleable__content {\n",
              "  max-height: 0;\n",
              "  max-width: 0;\n",
              "  overflow: hidden;\n",
              "  text-align: left;\n",
              "  /* unfitted */\n",
              "  background-color: var(--sklearn-color-unfitted-level-0);\n",
              "}\n",
              "\n",
              "#sk-container-id-4 div.sk-toggleable__content.fitted {\n",
              "  /* fitted */\n",
              "  background-color: var(--sklearn-color-fitted-level-0);\n",
              "}\n",
              "\n",
              "#sk-container-id-4 div.sk-toggleable__content pre {\n",
              "  margin: 0.2em;\n",
              "  border-radius: 0.25em;\n",
              "  color: var(--sklearn-color-text);\n",
              "  /* unfitted */\n",
              "  background-color: var(--sklearn-color-unfitted-level-0);\n",
              "}\n",
              "\n",
              "#sk-container-id-4 div.sk-toggleable__content.fitted pre {\n",
              "  /* unfitted */\n",
              "  background-color: var(--sklearn-color-fitted-level-0);\n",
              "}\n",
              "\n",
              "#sk-container-id-4 input.sk-toggleable__control:checked~div.sk-toggleable__content {\n",
              "  /* Expand drop-down */\n",
              "  max-height: 200px;\n",
              "  max-width: 100%;\n",
              "  overflow: auto;\n",
              "}\n",
              "\n",
              "#sk-container-id-4 input.sk-toggleable__control:checked~label.sk-toggleable__label-arrow:before {\n",
              "  content: \"▾\";\n",
              "}\n",
              "\n",
              "/* Pipeline/ColumnTransformer-specific style */\n",
              "\n",
              "#sk-container-id-4 div.sk-label input.sk-toggleable__control:checked~label.sk-toggleable__label {\n",
              "  color: var(--sklearn-color-text);\n",
              "  background-color: var(--sklearn-color-unfitted-level-2);\n",
              "}\n",
              "\n",
              "#sk-container-id-4 div.sk-label.fitted input.sk-toggleable__control:checked~label.sk-toggleable__label {\n",
              "  background-color: var(--sklearn-color-fitted-level-2);\n",
              "}\n",
              "\n",
              "/* Estimator-specific style */\n",
              "\n",
              "/* Colorize estimator box */\n",
              "#sk-container-id-4 div.sk-estimator input.sk-toggleable__control:checked~label.sk-toggleable__label {\n",
              "  /* unfitted */\n",
              "  background-color: var(--sklearn-color-unfitted-level-2);\n",
              "}\n",
              "\n",
              "#sk-container-id-4 div.sk-estimator.fitted input.sk-toggleable__control:checked~label.sk-toggleable__label {\n",
              "  /* fitted */\n",
              "  background-color: var(--sklearn-color-fitted-level-2);\n",
              "}\n",
              "\n",
              "#sk-container-id-4 div.sk-label label.sk-toggleable__label,\n",
              "#sk-container-id-4 div.sk-label label {\n",
              "  /* The background is the default theme color */\n",
              "  color: var(--sklearn-color-text-on-default-background);\n",
              "}\n",
              "\n",
              "/* On hover, darken the color of the background */\n",
              "#sk-container-id-4 div.sk-label:hover label.sk-toggleable__label {\n",
              "  color: var(--sklearn-color-text);\n",
              "  background-color: var(--sklearn-color-unfitted-level-2);\n",
              "}\n",
              "\n",
              "/* Label box, darken color on hover, fitted */\n",
              "#sk-container-id-4 div.sk-label.fitted:hover label.sk-toggleable__label.fitted {\n",
              "  color: var(--sklearn-color-text);\n",
              "  background-color: var(--sklearn-color-fitted-level-2);\n",
              "}\n",
              "\n",
              "/* Estimator label */\n",
              "\n",
              "#sk-container-id-4 div.sk-label label {\n",
              "  font-family: monospace;\n",
              "  font-weight: bold;\n",
              "  display: inline-block;\n",
              "  line-height: 1.2em;\n",
              "}\n",
              "\n",
              "#sk-container-id-4 div.sk-label-container {\n",
              "  text-align: center;\n",
              "}\n",
              "\n",
              "/* Estimator-specific */\n",
              "#sk-container-id-4 div.sk-estimator {\n",
              "  font-family: monospace;\n",
              "  border: 1px dotted var(--sklearn-color-border-box);\n",
              "  border-radius: 0.25em;\n",
              "  box-sizing: border-box;\n",
              "  margin-bottom: 0.5em;\n",
              "  /* unfitted */\n",
              "  background-color: var(--sklearn-color-unfitted-level-0);\n",
              "}\n",
              "\n",
              "#sk-container-id-4 div.sk-estimator.fitted {\n",
              "  /* fitted */\n",
              "  background-color: var(--sklearn-color-fitted-level-0);\n",
              "}\n",
              "\n",
              "/* on hover */\n",
              "#sk-container-id-4 div.sk-estimator:hover {\n",
              "  /* unfitted */\n",
              "  background-color: var(--sklearn-color-unfitted-level-2);\n",
              "}\n",
              "\n",
              "#sk-container-id-4 div.sk-estimator.fitted:hover {\n",
              "  /* fitted */\n",
              "  background-color: var(--sklearn-color-fitted-level-2);\n",
              "}\n",
              "\n",
              "/* Specification for estimator info (e.g. \"i\" and \"?\") */\n",
              "\n",
              "/* Common style for \"i\" and \"?\" */\n",
              "\n",
              ".sk-estimator-doc-link,\n",
              "a:link.sk-estimator-doc-link,\n",
              "a:visited.sk-estimator-doc-link {\n",
              "  float: right;\n",
              "  font-size: smaller;\n",
              "  line-height: 1em;\n",
              "  font-family: monospace;\n",
              "  background-color: var(--sklearn-color-background);\n",
              "  border-radius: 1em;\n",
              "  height: 1em;\n",
              "  width: 1em;\n",
              "  text-decoration: none !important;\n",
              "  margin-left: 1ex;\n",
              "  /* unfitted */\n",
              "  border: var(--sklearn-color-unfitted-level-1) 1pt solid;\n",
              "  color: var(--sklearn-color-unfitted-level-1);\n",
              "}\n",
              "\n",
              ".sk-estimator-doc-link.fitted,\n",
              "a:link.sk-estimator-doc-link.fitted,\n",
              "a:visited.sk-estimator-doc-link.fitted {\n",
              "  /* fitted */\n",
              "  border: var(--sklearn-color-fitted-level-1) 1pt solid;\n",
              "  color: var(--sklearn-color-fitted-level-1);\n",
              "}\n",
              "\n",
              "/* On hover */\n",
              "div.sk-estimator:hover .sk-estimator-doc-link:hover,\n",
              ".sk-estimator-doc-link:hover,\n",
              "div.sk-label-container:hover .sk-estimator-doc-link:hover,\n",
              ".sk-estimator-doc-link:hover {\n",
              "  /* unfitted */\n",
              "  background-color: var(--sklearn-color-unfitted-level-3);\n",
              "  color: var(--sklearn-color-background);\n",
              "  text-decoration: none;\n",
              "}\n",
              "\n",
              "div.sk-estimator.fitted:hover .sk-estimator-doc-link.fitted:hover,\n",
              ".sk-estimator-doc-link.fitted:hover,\n",
              "div.sk-label-container:hover .sk-estimator-doc-link.fitted:hover,\n",
              ".sk-estimator-doc-link.fitted:hover {\n",
              "  /* fitted */\n",
              "  background-color: var(--sklearn-color-fitted-level-3);\n",
              "  color: var(--sklearn-color-background);\n",
              "  text-decoration: none;\n",
              "}\n",
              "\n",
              "/* Span, style for the box shown on hovering the info icon */\n",
              ".sk-estimator-doc-link span {\n",
              "  display: none;\n",
              "  z-index: 9999;\n",
              "  position: relative;\n",
              "  font-weight: normal;\n",
              "  right: .2ex;\n",
              "  padding: .5ex;\n",
              "  margin: .5ex;\n",
              "  width: min-content;\n",
              "  min-width: 20ex;\n",
              "  max-width: 50ex;\n",
              "  color: var(--sklearn-color-text);\n",
              "  box-shadow: 2pt 2pt 4pt #999;\n",
              "  /* unfitted */\n",
              "  background: var(--sklearn-color-unfitted-level-0);\n",
              "  border: .5pt solid var(--sklearn-color-unfitted-level-3);\n",
              "}\n",
              "\n",
              ".sk-estimator-doc-link.fitted span {\n",
              "  /* fitted */\n",
              "  background: var(--sklearn-color-fitted-level-0);\n",
              "  border: var(--sklearn-color-fitted-level-3);\n",
              "}\n",
              "\n",
              ".sk-estimator-doc-link:hover span {\n",
              "  display: block;\n",
              "}\n",
              "\n",
              "/* \"?\"-specific style due to the `<a>` HTML tag */\n",
              "\n",
              "#sk-container-id-4 a.estimator_doc_link {\n",
              "  float: right;\n",
              "  font-size: 1rem;\n",
              "  line-height: 1em;\n",
              "  font-family: monospace;\n",
              "  background-color: var(--sklearn-color-background);\n",
              "  border-radius: 1rem;\n",
              "  height: 1rem;\n",
              "  width: 1rem;\n",
              "  text-decoration: none;\n",
              "  /* unfitted */\n",
              "  color: var(--sklearn-color-unfitted-level-1);\n",
              "  border: var(--sklearn-color-unfitted-level-1) 1pt solid;\n",
              "}\n",
              "\n",
              "#sk-container-id-4 a.estimator_doc_link.fitted {\n",
              "  /* fitted */\n",
              "  border: var(--sklearn-color-fitted-level-1) 1pt solid;\n",
              "  color: var(--sklearn-color-fitted-level-1);\n",
              "}\n",
              "\n",
              "/* On hover */\n",
              "#sk-container-id-4 a.estimator_doc_link:hover {\n",
              "  /* unfitted */\n",
              "  background-color: var(--sklearn-color-unfitted-level-3);\n",
              "  color: var(--sklearn-color-background);\n",
              "  text-decoration: none;\n",
              "}\n",
              "\n",
              "#sk-container-id-4 a.estimator_doc_link.fitted:hover {\n",
              "  /* fitted */\n",
              "  background-color: var(--sklearn-color-fitted-level-3);\n",
              "}\n",
              "</style><div id=\"sk-container-id-4\" class=\"sk-top-container\"><div class=\"sk-text-repr-fallback\"><pre>BayesianRidge()</pre><b>In a Jupyter environment, please rerun this cell to show the HTML representation or trust the notebook. <br />On GitHub, the HTML representation is unable to render, please try loading this page with nbviewer.org.</b></div><div class=\"sk-container\" hidden><div class=\"sk-item\"><div class=\"sk-estimator fitted sk-toggleable\"><input class=\"sk-toggleable__control sk-hidden--visually\" id=\"sk-estimator-id-4\" type=\"checkbox\" checked><label for=\"sk-estimator-id-4\" class=\"sk-toggleable__label fitted sk-toggleable__label-arrow fitted\">&nbsp;&nbsp;BayesianRidge<a class=\"sk-estimator-doc-link fitted\" rel=\"noreferrer\" target=\"_blank\" href=\"https://scikit-learn.org/1.4/modules/generated/sklearn.linear_model.BayesianRidge.html\">?<span>Documentation for BayesianRidge</span></a><span class=\"sk-estimator-doc-link fitted\">i<span>Fitted</span></span></label><div class=\"sk-toggleable__content fitted\"><pre>BayesianRidge()</pre></div> </div></div></div></div>"
            ]
          },
          "metadata": {},
          "execution_count": 84
        }
      ]
    },
    {
      "cell_type": "code",
      "source": [
        "# 4. 최종 예측\n",
        "# Test 데이터에 대한 예측 (각 모델로 개별 예측 후 블렌딩)\n",
        "et_test_pred = et.predict(test)\n",
        "gbr_test_pred = gbr.predict(test)\n",
        "rf_test_pred = rf.predict(test)\n",
        "br_test_pred = br.predict(test)\n",
        "ridge_test_pred = ridge.predict(test)\n",
        "xgb_test_pred = xgb.predict(test)\n",
        "lgbm_test_pred = lgbm.predict(test)\n",
        "\n",
        "test_preds = np.column_stack([et_test_pred, gbr_test_pred, rf_test_pred, br_test_pred, ridge_test_pred, xgb_test_pred, lgbm_test_pred])\n",
        "final_test_pred = meta_model.predict(test_preds)"
      ],
      "metadata": {
        "id": "SDoqG1Nt34jq"
      },
      "execution_count": null,
      "outputs": []
    },
    {
      "cell_type": "code",
      "source": [
        "# 5. 제출 준비\n",
        "final_test_pred_original = np.expm1(final_test_pred)\n",
        "submission['box_off_num'] = final_test_pred_original\n",
        "submission.to_csv('Blending_submission.csv', index=False)"
      ],
      "metadata": {
        "id": "i6jMsp3k38nW"
      },
      "execution_count": null,
      "outputs": []
    }
  ]
}